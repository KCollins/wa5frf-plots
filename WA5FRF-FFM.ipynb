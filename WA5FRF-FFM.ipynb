{
 "cells": [
  {
   "cell_type": "markdown",
   "id": "856027b9-4719-429e-9336-e082b93a0a3c",
   "metadata": {},
   "source": [
    "# WA5FRF FFM Data Plots"
   ]
  },
  {
   "cell_type": "code",
   "execution_count": 13,
   "id": "58a85235-6935-4ff2-a9c7-6dc4cf035c42",
   "metadata": {},
   "outputs": [],
   "source": [
    "# import required packages:\n",
    "import urllib\n",
    "import pandas as pd\n",
    "import plotly.express as px\n",
    "import wget\n",
    "import os                                      # for making sure we have a directory to write data to\n",
    "import data\n",
    "import datetime\n",
    "# Generate output directories:\n",
    "if not os.path.exists('data'):\n",
    "    os.makedirs('data')\n",
    "if not os.path.exists('plots'):\n",
    "    os.makedirs('plots')\n",
    "    \n",
    "import plotly.graph_objects as go\n",
    "from plotly.subplots import make_subplots\n",
    "import math\n",
    "import numpy as np"
   ]
  },
  {
   "cell_type": "code",
   "execution_count": 14,
   "id": "4b1cfe63-946e-43ea-b81b-1de943a9c4bc",
   "metadata": {},
   "outputs": [],
   "source": [
    "def fontoptions(fig):    # set consistent layout parameters\n",
    "    fig.update_layout(\n",
    "    font=dict(\n",
    "#         family=\"Courier New, monospace\",\n",
    "        size=18,\n",
    "# #         color=\"RebeccaPurple\"\n",
    "        )\n",
    "    )\n",
    "\n",
    "    # Eliminate the gray background plotly express uses by default:\n",
    "    fig.update_layout({\n",
    "    'plot_bgcolor': 'rgba(0, 0, 0, 0)',\n",
    "    'paper_bgcolor': 'rgba(0, 0, 0, 0)'\n",
    "    })\n",
    "    \n",
    "    # Change grid color and axis colors\n",
    "    fig.update_xaxes(showline=True, linewidth=1, linecolor='black', gridcolor='darkgray')\n",
    "    fig.update_yaxes(showline=True, linewidth=1, linecolor='black', gridcolor='darkgray')\n",
    "    "
   ]
  },
  {
   "cell_type": "markdown",
   "id": "d11c42b0-30a3-421f-a2c8-f726d904a11b",
   "metadata": {},
   "source": [
    "## Import Digitized Spectrum Data"
   ]
  },
  {
   "cell_type": "code",
   "execution_count": 15,
   "id": "74237349-18d3-439b-8d30-51a6ce91fa55",
   "metadata": {},
   "outputs": [],
   "source": [
    "df = pd.read_csv('data/WA5FRF-FFM.csv')\n",
    "df['Date']= datetime.datetime(2019, 10, 1, 0, 0, 0) + pd.to_timedelta(df['Time UTC'], 'hours')\n",
    "df.drop(['Time UTC'], axis = 1)\n",
    "# df[Time] = datetime.timedelta(hours=data['Time UTC'])\n",
    "\n",
    "F1 = df[df['Mode']=='1F']\n",
    "# F1.set_index('Date')\n",
    "F2 = df[df['Mode']=='2F']\n",
    "E = df[df['Mode']=='E']"
   ]
  },
  {
   "cell_type": "code",
   "execution_count": 16,
   "id": "2beda67b-6ceb-4c5d-9f3d-108639b2bc9c",
   "metadata": {},
   "outputs": [],
   "source": [
    "# Set colors\n",
    "color_1F = \"#0000ff\"\n",
    "color_2F = \"#F46C14\"\n",
    "color_E = \"#0f0f0f\"\n",
    "\n",
    "color_Boulder = \"#552DC9\"\n",
    "color_Austin = \"#8DE6AE\""
   ]
  },
  {
   "cell_type": "code",
   "execution_count": 17,
   "id": "6d4f051e-d1b9-46b5-8beb-13b30720e150",
   "metadata": {},
   "outputs": [
    {
     "data": {
      "application/vnd.plotly.v1+json": {
       "config": {
        "plotlyServerURL": "https://plot.ly"
       },
       "data": [
        {
         "hovertemplate": "x=%{x}<br>y=%{y}<extra></extra>",
         "legendgroup": "",
         "line": {
          "color": "#636efa",
          "dash": "solid"
         },
         "marker": {
          "symbol": "circle"
         },
         "mode": "lines",
         "name": "",
         "orientation": "v",
         "showlegend": false,
         "type": "scatter",
         "x": [
          "2019-10-01T09:59:59.712000",
          "2019-10-01T10:03:47.592000",
          "2019-10-01T10:06:49.896000",
          "2019-10-01T10:14:25.656000",
          "2019-10-01T10:19:44.688000",
          "2019-10-01T10:23:32.568000",
          "2019-10-01T10:26:34.872000",
          "2019-10-01T10:30:22.752000",
          "2019-10-01T10:37:58.512000",
          "2019-10-01T10:42:31.968000",
          "2019-10-01T10:45:34.272000",
          "2019-10-01T10:47:51",
          "2019-10-01T10:50:53.304000",
          "2019-10-01T10:56:12.336000",
          "2019-10-01T10:59:14.640000",
          "2019-10-01T11:01:31.368000",
          "2019-10-01T11:05:19.248000",
          "2019-10-01T11:07:35.976000",
          "2019-10-01T11:11:23.856000",
          "2019-10-01T11:15:57.312000",
          "2019-10-01T11:24:18.648000",
          "2019-10-01T11:30:23.256000",
          "2019-10-01T11:34:11.136000",
          "2019-10-01T11:38:44.592000",
          "2019-10-01T11:44:49.200000",
          "2019-10-01T11:50:08.232000",
          "2019-10-01T11:53:56.112000",
          "2019-10-01T12:00:46.296000",
          "2019-10-01T12:08:22.056000",
          "2019-10-01T12:13:41.088000",
          "2019-10-01T12:19:45.696000",
          "2019-10-01T12:25:04.728000",
          "2019-10-01T12:34:11.639999",
          "2019-10-01T12:41:47.400000",
          "2019-10-01T12:44:49.704000",
          "2019-10-01T13:00:46.800000",
          "2019-10-01T13:03:03.528000",
          "2019-10-01T13:06:05.832000",
          "2019-10-01T13:09:08.136000",
          "2019-10-01T13:12:56.016000",
          "2019-10-01T13:17:29.472000",
          "2019-10-01T13:39:31.176000",
          "2019-10-01T13:44:04.632000",
          "2019-10-01T13:53:11.544000",
          "2019-10-01T14:03:04.032000",
          "2019-10-01T14:10:39.792000",
          "2019-10-01T14:15:58.824000",
          "2019-10-01T14:21:17.856000",
          "2019-10-01T14:36:29.376000",
          "2019-10-01T14:42:33.984000",
          "2019-10-01T14:50:55.320000",
          "2019-10-01T15:00:02.232000"
         ],
         "xaxis": "x",
         "y": [
          -0.20398,
          -0.21249,
          -0.16143,
          -0.11037000000000001,
          0.01728,
          0.06834,
          0.07685,
          0.04281,
          -0.05931,
          -0.16994,
          -0.28908,
          -0.29759,
          -0.27205999999999997,
          -0.07633,
          -0.00825,
          0.04281,
          0.06834,
          0.09387000000000001,
          0.059829999999999994,
          0.01728,
          -0.0508,
          -0.0508,
          -0.1359,
          -0.18696,
          -0.1359,
          -0.1359,
          -0.16994,
          -0.07633,
          0.07685,
          0.17046,
          0.30662,
          0.33215,
          0.46831000000000006,
          0.45128999999999997,
          0.43427,
          0.2896,
          0.25556,
          0.26406999999999997,
          0.23003,
          0.22152,
          0.2045,
          0.17046,
          0.15344000000000002,
          0.16195,
          0.1194,
          0.07685,
          0.051320000000000005,
          0.04281,
          0.00026000000000000003,
          -0.01676,
          -0.033780000000000004,
          -0.042289999999999994
         ],
         "yaxis": "y"
        },
        {
         "line": {
          "color": "#0000ff"
         },
         "mode": "lines",
         "name": "F Layer, 1 hop",
         "type": "scatter",
         "x": [
          "2019-10-01T09:59:59.712000",
          "2019-10-01T10:03:47.592000",
          "2019-10-01T10:06:49.896000",
          "2019-10-01T10:14:25.656000",
          "2019-10-01T10:19:44.688000",
          "2019-10-01T10:23:32.568000",
          "2019-10-01T10:26:34.872000",
          "2019-10-01T10:30:22.752000",
          "2019-10-01T10:37:58.512000",
          "2019-10-01T10:42:31.968000",
          "2019-10-01T10:45:34.272000",
          "2019-10-01T10:47:51",
          "2019-10-01T10:50:53.304000",
          "2019-10-01T10:56:12.336000",
          "2019-10-01T10:59:14.640000",
          "2019-10-01T11:01:31.368000",
          "2019-10-01T11:05:19.248000",
          "2019-10-01T11:07:35.976000",
          "2019-10-01T11:11:23.856000",
          "2019-10-01T11:15:57.312000",
          "2019-10-01T11:24:18.648000",
          "2019-10-01T11:30:23.256000",
          "2019-10-01T11:34:11.136000",
          "2019-10-01T11:38:44.592000",
          "2019-10-01T11:44:49.200000",
          "2019-10-01T11:50:08.232000",
          "2019-10-01T11:53:56.112000",
          "2019-10-01T12:00:46.296000",
          "2019-10-01T12:08:22.056000",
          "2019-10-01T12:13:41.088000",
          "2019-10-01T12:19:45.696000",
          "2019-10-01T12:25:04.728000",
          "2019-10-01T12:34:11.639999",
          "2019-10-01T12:41:47.400000",
          "2019-10-01T12:44:49.704000",
          "2019-10-01T13:00:46.800000",
          "2019-10-01T13:03:03.528000",
          "2019-10-01T13:06:05.832000",
          "2019-10-01T13:09:08.136000",
          "2019-10-01T13:12:56.016000",
          "2019-10-01T13:17:29.472000",
          "2019-10-01T13:39:31.176000",
          "2019-10-01T13:44:04.632000",
          "2019-10-01T13:53:11.544000",
          "2019-10-01T14:03:04.032000",
          "2019-10-01T14:10:39.792000",
          "2019-10-01T14:15:58.824000",
          "2019-10-01T14:21:17.856000",
          "2019-10-01T14:36:29.376000",
          "2019-10-01T14:42:33.984000",
          "2019-10-01T14:50:55.320000",
          "2019-10-01T15:00:02.232000"
         ],
         "y": [
          -0.20398,
          -0.21249,
          -0.16143,
          -0.11037000000000001,
          0.01728,
          0.06834,
          0.07685,
          0.04281,
          -0.05931,
          -0.16994,
          -0.28908,
          -0.29759,
          -0.27205999999999997,
          -0.07633,
          -0.00825,
          0.04281,
          0.06834,
          0.09387000000000001,
          0.059829999999999994,
          0.01728,
          -0.0508,
          -0.0508,
          -0.1359,
          -0.18696,
          -0.1359,
          -0.1359,
          -0.16994,
          -0.07633,
          0.07685,
          0.17046,
          0.30662,
          0.33215,
          0.46831000000000006,
          0.45128999999999997,
          0.43427,
          0.2896,
          0.25556,
          0.26406999999999997,
          0.23003,
          0.22152,
          0.2045,
          0.17046,
          0.15344000000000002,
          0.16195,
          0.1194,
          0.07685,
          0.051320000000000005,
          0.04281,
          0.00026000000000000003,
          -0.01676,
          -0.033780000000000004,
          -0.042289999999999994
         ]
        },
        {
         "line": {
          "color": "#F46C14"
         },
         "mode": "lines",
         "name": "F Layer, 2 hops",
         "type": "scatter",
         "x": [
          "2019-10-01T12:03:48.600000",
          "2019-10-01T12:07:36.480000",
          "2019-10-01T12:11:24.360000",
          "2019-10-01T12:19:00.120000",
          "2019-10-01T12:28:07.032000",
          "2019-10-01T12:36:28.368000",
          "2019-10-01T12:44:04.128000",
          "2019-10-01T12:54:42.192000",
          "2019-10-01T13:08:22.560000",
          "2019-10-01T13:22:02.928000",
          "2019-10-01T13:36:28.872000",
          "2019-10-01T13:46:21.360000",
          "2019-10-01T13:54:42.696000",
          "2019-10-01T14:03:04.032000",
          "2019-10-01T14:08:23.064000",
          "2019-10-01T14:22:49.008000",
          "2019-10-01T14:34:12.648000",
          "2019-10-01T14:51:40.896000",
          "2019-10-01T15:00:02.232000",
          "2019-10-01T15:00:02.232000",
          "2019-10-01T15:00:02.232000",
          "2019-10-01T15:00:02.232000",
          "2019-10-01T15:00:02.232000",
          "2019-10-01T15:00:02.232000"
         ],
         "y": [
          0.00026000000000000003,
          0.22152,
          0.4598,
          0.59596,
          0.75765,
          0.85126,
          0.92785,
          0.9704,
          0.7661600000000001,
          0.58745,
          0.40874,
          0.34066,
          0.28109,
          0.27258000000000004,
          0.24705,
          0.18748,
          0.13642,
          0.09387000000000001,
          0.07685,
          0.07685,
          0.07685,
          0.07685,
          0.07685,
          0.07685
         ]
        },
        {
         "line": {
          "color": "#0f0f0f"
         },
         "mode": "lines",
         "name": "E Layer, 1 hop",
         "type": "scatter",
         "x": [
          "2019-10-01T12:41:01.824000",
          "2019-10-01T13:29:38.688000",
          "2019-10-01T13:53:11.544000",
          "2019-10-01T14:03:04.032000",
          "2019-10-01T14:19:01.128000",
          "2019-10-01T14:34:12.648000",
          "2019-10-01T14:48:38.592000",
          "2019-10-01T14:53:12.048000",
          "2019-10-01T15:15:13.752000",
          "2019-10-01T15:30:25.272000",
          "2019-10-01T15:44:51.216000",
          "2019-10-01T15:57:00.432000"
         ],
         "y": [
          0.0343,
          -0.01676,
          -0.033780000000000004,
          -0.0508,
          -0.0508,
          -0.033780000000000004,
          -0.042289999999999994,
          -0.0508,
          -0.05931,
          -0.042289999999999994,
          -0.033780000000000004,
          -0.033780000000000004
         ]
        }
       ],
       "layout": {
        "autosize": true,
        "font": {
         "size": 18
        },
        "legend": {
         "tracegroupgap": 0,
         "x": 0.01,
         "xanchor": "left",
         "y": 0.99,
         "yanchor": "top"
        },
        "margin": {
         "t": 60
        },
        "paper_bgcolor": "rgba(0, 0, 0, 0)",
        "plot_bgcolor": "rgba(0, 0, 0, 0)",
        "template": {
         "data": {
          "bar": [
           {
            "error_x": {
             "color": "#2a3f5f"
            },
            "error_y": {
             "color": "#2a3f5f"
            },
            "marker": {
             "line": {
              "color": "#E5ECF6",
              "width": 0.5
             },
             "pattern": {
              "fillmode": "overlay",
              "size": 10,
              "solidity": 0.2
             }
            },
            "type": "bar"
           }
          ],
          "barpolar": [
           {
            "marker": {
             "line": {
              "color": "#E5ECF6",
              "width": 0.5
             },
             "pattern": {
              "fillmode": "overlay",
              "size": 10,
              "solidity": 0.2
             }
            },
            "type": "barpolar"
           }
          ],
          "carpet": [
           {
            "aaxis": {
             "endlinecolor": "#2a3f5f",
             "gridcolor": "white",
             "linecolor": "white",
             "minorgridcolor": "white",
             "startlinecolor": "#2a3f5f"
            },
            "baxis": {
             "endlinecolor": "#2a3f5f",
             "gridcolor": "white",
             "linecolor": "white",
             "minorgridcolor": "white",
             "startlinecolor": "#2a3f5f"
            },
            "type": "carpet"
           }
          ],
          "choropleth": [
           {
            "colorbar": {
             "outlinewidth": 0,
             "ticks": ""
            },
            "type": "choropleth"
           }
          ],
          "contour": [
           {
            "colorbar": {
             "outlinewidth": 0,
             "ticks": ""
            },
            "colorscale": [
             [
              0,
              "#0d0887"
             ],
             [
              0.1111111111111111,
              "#46039f"
             ],
             [
              0.2222222222222222,
              "#7201a8"
             ],
             [
              0.3333333333333333,
              "#9c179e"
             ],
             [
              0.4444444444444444,
              "#bd3786"
             ],
             [
              0.5555555555555556,
              "#d8576b"
             ],
             [
              0.6666666666666666,
              "#ed7953"
             ],
             [
              0.7777777777777778,
              "#fb9f3a"
             ],
             [
              0.8888888888888888,
              "#fdca26"
             ],
             [
              1,
              "#f0f921"
             ]
            ],
            "type": "contour"
           }
          ],
          "contourcarpet": [
           {
            "colorbar": {
             "outlinewidth": 0,
             "ticks": ""
            },
            "type": "contourcarpet"
           }
          ],
          "heatmap": [
           {
            "colorbar": {
             "outlinewidth": 0,
             "ticks": ""
            },
            "colorscale": [
             [
              0,
              "#0d0887"
             ],
             [
              0.1111111111111111,
              "#46039f"
             ],
             [
              0.2222222222222222,
              "#7201a8"
             ],
             [
              0.3333333333333333,
              "#9c179e"
             ],
             [
              0.4444444444444444,
              "#bd3786"
             ],
             [
              0.5555555555555556,
              "#d8576b"
             ],
             [
              0.6666666666666666,
              "#ed7953"
             ],
             [
              0.7777777777777778,
              "#fb9f3a"
             ],
             [
              0.8888888888888888,
              "#fdca26"
             ],
             [
              1,
              "#f0f921"
             ]
            ],
            "type": "heatmap"
           }
          ],
          "heatmapgl": [
           {
            "colorbar": {
             "outlinewidth": 0,
             "ticks": ""
            },
            "colorscale": [
             [
              0,
              "#0d0887"
             ],
             [
              0.1111111111111111,
              "#46039f"
             ],
             [
              0.2222222222222222,
              "#7201a8"
             ],
             [
              0.3333333333333333,
              "#9c179e"
             ],
             [
              0.4444444444444444,
              "#bd3786"
             ],
             [
              0.5555555555555556,
              "#d8576b"
             ],
             [
              0.6666666666666666,
              "#ed7953"
             ],
             [
              0.7777777777777778,
              "#fb9f3a"
             ],
             [
              0.8888888888888888,
              "#fdca26"
             ],
             [
              1,
              "#f0f921"
             ]
            ],
            "type": "heatmapgl"
           }
          ],
          "histogram": [
           {
            "marker": {
             "pattern": {
              "fillmode": "overlay",
              "size": 10,
              "solidity": 0.2
             }
            },
            "type": "histogram"
           }
          ],
          "histogram2d": [
           {
            "colorbar": {
             "outlinewidth": 0,
             "ticks": ""
            },
            "colorscale": [
             [
              0,
              "#0d0887"
             ],
             [
              0.1111111111111111,
              "#46039f"
             ],
             [
              0.2222222222222222,
              "#7201a8"
             ],
             [
              0.3333333333333333,
              "#9c179e"
             ],
             [
              0.4444444444444444,
              "#bd3786"
             ],
             [
              0.5555555555555556,
              "#d8576b"
             ],
             [
              0.6666666666666666,
              "#ed7953"
             ],
             [
              0.7777777777777778,
              "#fb9f3a"
             ],
             [
              0.8888888888888888,
              "#fdca26"
             ],
             [
              1,
              "#f0f921"
             ]
            ],
            "type": "histogram2d"
           }
          ],
          "histogram2dcontour": [
           {
            "colorbar": {
             "outlinewidth": 0,
             "ticks": ""
            },
            "colorscale": [
             [
              0,
              "#0d0887"
             ],
             [
              0.1111111111111111,
              "#46039f"
             ],
             [
              0.2222222222222222,
              "#7201a8"
             ],
             [
              0.3333333333333333,
              "#9c179e"
             ],
             [
              0.4444444444444444,
              "#bd3786"
             ],
             [
              0.5555555555555556,
              "#d8576b"
             ],
             [
              0.6666666666666666,
              "#ed7953"
             ],
             [
              0.7777777777777778,
              "#fb9f3a"
             ],
             [
              0.8888888888888888,
              "#fdca26"
             ],
             [
              1,
              "#f0f921"
             ]
            ],
            "type": "histogram2dcontour"
           }
          ],
          "mesh3d": [
           {
            "colorbar": {
             "outlinewidth": 0,
             "ticks": ""
            },
            "type": "mesh3d"
           }
          ],
          "parcoords": [
           {
            "line": {
             "colorbar": {
              "outlinewidth": 0,
              "ticks": ""
             }
            },
            "type": "parcoords"
           }
          ],
          "pie": [
           {
            "automargin": true,
            "type": "pie"
           }
          ],
          "scatter": [
           {
            "fillpattern": {
             "fillmode": "overlay",
             "size": 10,
             "solidity": 0.2
            },
            "type": "scatter"
           }
          ],
          "scatter3d": [
           {
            "line": {
             "colorbar": {
              "outlinewidth": 0,
              "ticks": ""
             }
            },
            "marker": {
             "colorbar": {
              "outlinewidth": 0,
              "ticks": ""
             }
            },
            "type": "scatter3d"
           }
          ],
          "scattercarpet": [
           {
            "marker": {
             "colorbar": {
              "outlinewidth": 0,
              "ticks": ""
             }
            },
            "type": "scattercarpet"
           }
          ],
          "scattergeo": [
           {
            "marker": {
             "colorbar": {
              "outlinewidth": 0,
              "ticks": ""
             }
            },
            "type": "scattergeo"
           }
          ],
          "scattergl": [
           {
            "marker": {
             "colorbar": {
              "outlinewidth": 0,
              "ticks": ""
             }
            },
            "type": "scattergl"
           }
          ],
          "scattermapbox": [
           {
            "marker": {
             "colorbar": {
              "outlinewidth": 0,
              "ticks": ""
             }
            },
            "type": "scattermapbox"
           }
          ],
          "scatterpolar": [
           {
            "marker": {
             "colorbar": {
              "outlinewidth": 0,
              "ticks": ""
             }
            },
            "type": "scatterpolar"
           }
          ],
          "scatterpolargl": [
           {
            "marker": {
             "colorbar": {
              "outlinewidth": 0,
              "ticks": ""
             }
            },
            "type": "scatterpolargl"
           }
          ],
          "scatterternary": [
           {
            "marker": {
             "colorbar": {
              "outlinewidth": 0,
              "ticks": ""
             }
            },
            "type": "scatterternary"
           }
          ],
          "surface": [
           {
            "colorbar": {
             "outlinewidth": 0,
             "ticks": ""
            },
            "colorscale": [
             [
              0,
              "#0d0887"
             ],
             [
              0.1111111111111111,
              "#46039f"
             ],
             [
              0.2222222222222222,
              "#7201a8"
             ],
             [
              0.3333333333333333,
              "#9c179e"
             ],
             [
              0.4444444444444444,
              "#bd3786"
             ],
             [
              0.5555555555555556,
              "#d8576b"
             ],
             [
              0.6666666666666666,
              "#ed7953"
             ],
             [
              0.7777777777777778,
              "#fb9f3a"
             ],
             [
              0.8888888888888888,
              "#fdca26"
             ],
             [
              1,
              "#f0f921"
             ]
            ],
            "type": "surface"
           }
          ],
          "table": [
           {
            "cells": {
             "fill": {
              "color": "#EBF0F8"
             },
             "line": {
              "color": "white"
             }
            },
            "header": {
             "fill": {
              "color": "#C8D4E3"
             },
             "line": {
              "color": "white"
             }
            },
            "type": "table"
           }
          ]
         },
         "layout": {
          "annotationdefaults": {
           "arrowcolor": "#2a3f5f",
           "arrowhead": 0,
           "arrowwidth": 1
          },
          "autotypenumbers": "strict",
          "coloraxis": {
           "colorbar": {
            "outlinewidth": 0,
            "ticks": ""
           }
          },
          "colorscale": {
           "diverging": [
            [
             0,
             "#8e0152"
            ],
            [
             0.1,
             "#c51b7d"
            ],
            [
             0.2,
             "#de77ae"
            ],
            [
             0.3,
             "#f1b6da"
            ],
            [
             0.4,
             "#fde0ef"
            ],
            [
             0.5,
             "#f7f7f7"
            ],
            [
             0.6,
             "#e6f5d0"
            ],
            [
             0.7,
             "#b8e186"
            ],
            [
             0.8,
             "#7fbc41"
            ],
            [
             0.9,
             "#4d9221"
            ],
            [
             1,
             "#276419"
            ]
           ],
           "sequential": [
            [
             0,
             "#0d0887"
            ],
            [
             0.1111111111111111,
             "#46039f"
            ],
            [
             0.2222222222222222,
             "#7201a8"
            ],
            [
             0.3333333333333333,
             "#9c179e"
            ],
            [
             0.4444444444444444,
             "#bd3786"
            ],
            [
             0.5555555555555556,
             "#d8576b"
            ],
            [
             0.6666666666666666,
             "#ed7953"
            ],
            [
             0.7777777777777778,
             "#fb9f3a"
            ],
            [
             0.8888888888888888,
             "#fdca26"
            ],
            [
             1,
             "#f0f921"
            ]
           ],
           "sequentialminus": [
            [
             0,
             "#0d0887"
            ],
            [
             0.1111111111111111,
             "#46039f"
            ],
            [
             0.2222222222222222,
             "#7201a8"
            ],
            [
             0.3333333333333333,
             "#9c179e"
            ],
            [
             0.4444444444444444,
             "#bd3786"
            ],
            [
             0.5555555555555556,
             "#d8576b"
            ],
            [
             0.6666666666666666,
             "#ed7953"
            ],
            [
             0.7777777777777778,
             "#fb9f3a"
            ],
            [
             0.8888888888888888,
             "#fdca26"
            ],
            [
             1,
             "#f0f921"
            ]
           ]
          },
          "colorway": [
           "#636efa",
           "#EF553B",
           "#00cc96",
           "#ab63fa",
           "#FFA15A",
           "#19d3f3",
           "#FF6692",
           "#B6E880",
           "#FF97FF",
           "#FECB52"
          ],
          "font": {
           "color": "#2a3f5f"
          },
          "geo": {
           "bgcolor": "white",
           "lakecolor": "white",
           "landcolor": "#E5ECF6",
           "showlakes": true,
           "showland": true,
           "subunitcolor": "white"
          },
          "hoverlabel": {
           "align": "left"
          },
          "hovermode": "closest",
          "mapbox": {
           "style": "light"
          },
          "paper_bgcolor": "white",
          "plot_bgcolor": "#E5ECF6",
          "polar": {
           "angularaxis": {
            "gridcolor": "white",
            "linecolor": "white",
            "ticks": ""
           },
           "bgcolor": "#E5ECF6",
           "radialaxis": {
            "gridcolor": "white",
            "linecolor": "white",
            "ticks": ""
           }
          },
          "scene": {
           "xaxis": {
            "backgroundcolor": "#E5ECF6",
            "gridcolor": "white",
            "gridwidth": 2,
            "linecolor": "white",
            "showbackground": true,
            "ticks": "",
            "zerolinecolor": "white"
           },
           "yaxis": {
            "backgroundcolor": "#E5ECF6",
            "gridcolor": "white",
            "gridwidth": 2,
            "linecolor": "white",
            "showbackground": true,
            "ticks": "",
            "zerolinecolor": "white"
           },
           "zaxis": {
            "backgroundcolor": "#E5ECF6",
            "gridcolor": "white",
            "gridwidth": 2,
            "linecolor": "white",
            "showbackground": true,
            "ticks": "",
            "zerolinecolor": "white"
           }
          },
          "shapedefaults": {
           "line": {
            "color": "#2a3f5f"
           }
          },
          "ternary": {
           "aaxis": {
            "gridcolor": "white",
            "linecolor": "white",
            "ticks": ""
           },
           "baxis": {
            "gridcolor": "white",
            "linecolor": "white",
            "ticks": ""
           },
           "bgcolor": "#E5ECF6",
           "caxis": {
            "gridcolor": "white",
            "linecolor": "white",
            "ticks": ""
           }
          },
          "title": {
           "x": 0.05
          },
          "xaxis": {
           "automargin": true,
           "gridcolor": "white",
           "linecolor": "white",
           "ticks": "",
           "title": {
            "standoff": 15
           },
           "zerolinecolor": "white",
           "zerolinewidth": 2
          },
          "yaxis": {
           "automargin": true,
           "gridcolor": "white",
           "linecolor": "white",
           "ticks": "",
           "title": {
            "standoff": 15
           },
           "zerolinecolor": "white",
           "zerolinewidth": 2
          }
         }
        },
        "xaxis": {
         "anchor": "y",
         "autorange": true,
         "domain": [
          0,
          1
         ],
         "gridcolor": "darkgray",
         "linecolor": "black",
         "linewidth": 1,
         "range": [
          "2019-10-01 09:59:59.712",
          "2019-10-01 15:57:00.432"
         ],
         "showline": true,
         "title": {
          "text": "Time (UTC)"
         },
         "type": "date"
        },
        "yaxis": {
         "anchor": "x",
         "autorange": true,
         "domain": [
          0,
          1
         ],
         "gridcolor": "darkgray",
         "linecolor": "black",
         "linewidth": 1,
         "range": [
          -0.36803388888888894,
          1.040843888888889
         ],
         "showline": true,
         "title": {
          "text": "Freq. Deviation (Hz)"
         },
         "type": "linear"
        }
       }
      },
      "image/png": "[encoded data removed]",
      "text/html": [
       "<div>                            <div id=\"bc443382-cd2e-43ec-b1bd-c7cf21926210\" class=\"plotly-graph-div\" style=\"height:525px; width:100%;\"></div>            <script type=\"text/javascript\">                require([\"plotly\"], function(Plotly) {                    window.PLOTLYENV=window.PLOTLYENV || {};                                    if (document.getElementById(\"bc443382-cd2e-43ec-b1bd-c7cf21926210\")) {                    Plotly.newPlot(                        \"bc443382-cd2e-43ec-b1bd-c7cf21926210\",                        [{\"hovertemplate\":\"x=%{x}<br>y=%{y}<extra></extra>\",\"legendgroup\":\"\",\"line\":{\"color\":\"#636efa\",\"dash\":\"solid\"},\"marker\":{\"symbol\":\"circle\"},\"mode\":\"lines\",\"name\":\"\",\"orientation\":\"v\",\"showlegend\":false,\"x\":[\"2019-10-01T09:59:59.712000\",\"2019-10-01T10:03:47.592000\",\"2019-10-01T10:06:49.896000\",\"2019-10-01T10:14:25.656000\",\"2019-10-01T10:19:44.688000\",\"2019-10-01T10:23:32.568000\",\"2019-10-01T10:26:34.872000\",\"2019-10-01T10:30:22.752000\",\"2019-10-01T10:37:58.512000\",\"2019-10-01T10:42:31.968000\",\"2019-10-01T10:45:34.272000\",\"2019-10-01T10:47:51\",\"2019-10-01T10:50:53.304000\",\"2019-10-01T10:56:12.336000\",\"2019-10-01T10:59:14.640000\",\"2019-10-01T11:01:31.368000\",\"2019-10-01T11:05:19.248000\",\"2019-10-01T11:07:35.976000\",\"2019-10-01T11:11:23.856000\",\"2019-10-01T11:15:57.312000\",\"2019-10-01T11:24:18.648000\",\"2019-10-01T11:30:23.256000\",\"2019-10-01T11:34:11.136000\",\"2019-10-01T11:38:44.592000\",\"2019-10-01T11:44:49.200000\",\"2019-10-01T11:50:08.232000\",\"2019-10-01T11:53:56.112000\",\"2019-10-01T12:00:46.296000\",\"2019-10-01T12:08:22.056000\",\"2019-10-01T12:13:41.088000\",\"2019-10-01T12:19:45.696000\",\"2019-10-01T12:25:04.728000\",\"2019-10-01T12:34:11.639999\",\"2019-10-01T12:41:47.400000\",\"2019-10-01T12:44:49.704000\",\"2019-10-01T13:00:46.800000\",\"2019-10-01T13:03:03.528000\",\"2019-10-01T13:06:05.832000\",\"2019-10-01T13:09:08.136000\",\"2019-10-01T13:12:56.016000\",\"2019-10-01T13:17:29.472000\",\"2019-10-01T13:39:31.176000\",\"2019-10-01T13:44:04.632000\",\"2019-10-01T13:53:11.544000\",\"2019-10-01T14:03:04.032000\",\"2019-10-01T14:10:39.792000\",\"2019-10-01T14:15:58.824000\",\"2019-10-01T14:21:17.856000\",\"2019-10-01T14:36:29.376000\",\"2019-10-01T14:42:33.984000\",\"2019-10-01T14:50:55.320000\",\"2019-10-01T15:00:02.232000\"],\"xaxis\":\"x\",\"y\":[-0.20398,-0.21249,-0.16143,-0.11037000000000001,0.01728,0.06834,0.07685,0.04281,-0.05931,-0.16994,-0.28908,-0.29759,-0.27205999999999997,-0.07633,-0.00825,0.04281,0.06834,0.09387000000000001,0.059829999999999994,0.01728,-0.0508,-0.0508,-0.1359,-0.18696,-0.1359,-0.1359,-0.16994,-0.07633,0.07685,0.17046,0.30662,0.33215,0.46831000000000006,0.45128999999999997,0.43427,0.2896,0.25556,0.26406999999999997,0.23003,0.22152,0.2045,0.17046,0.15344000000000002,0.16195,0.1194,0.07685,0.051320000000000005,0.04281,0.00026000000000000003,-0.01676,-0.033780000000000004,-0.042289999999999994],\"yaxis\":\"y\",\"type\":\"scatter\"},{\"line\":{\"color\":\"#0000ff\"},\"mode\":\"lines\",\"name\":\"F Layer, 1 hop\",\"x\":[\"2019-10-01T09:59:59.712000\",\"2019-10-01T10:03:47.592000\",\"2019-10-01T10:06:49.896000\",\"2019-10-01T10:14:25.656000\",\"2019-10-01T10:19:44.688000\",\"2019-10-01T10:23:32.568000\",\"2019-10-01T10:26:34.872000\",\"2019-10-01T10:30:22.752000\",\"2019-10-01T10:37:58.512000\",\"2019-10-01T10:42:31.968000\",\"2019-10-01T10:45:34.272000\",\"2019-10-01T10:47:51\",\"2019-10-01T10:50:53.304000\",\"2019-10-01T10:56:12.336000\",\"2019-10-01T10:59:14.640000\",\"2019-10-01T11:01:31.368000\",\"2019-10-01T11:05:19.248000\",\"2019-10-01T11:07:35.976000\",\"2019-10-01T11:11:23.856000\",\"2019-10-01T11:15:57.312000\",\"2019-10-01T11:24:18.648000\",\"2019-10-01T11:30:23.256000\",\"2019-10-01T11:34:11.136000\",\"2019-10-01T11:38:44.592000\",\"2019-10-01T11:44:49.200000\",\"2019-10-01T11:50:08.232000\",\"2019-10-01T11:53:56.112000\",\"2019-10-01T12:00:46.296000\",\"2019-10-01T12:08:22.056000\",\"2019-10-01T12:13:41.088000\",\"2019-10-01T12:19:45.696000\",\"2019-10-01T12:25:04.728000\",\"2019-10-01T12:34:11.639999\",\"2019-10-01T12:41:47.400000\",\"2019-10-01T12:44:49.704000\",\"2019-10-01T13:00:46.800000\",\"2019-10-01T13:03:03.528000\",\"2019-10-01T13:06:05.832000\",\"2019-10-01T13:09:08.136000\",\"2019-10-01T13:12:56.016000\",\"2019-10-01T13:17:29.472000\",\"2019-10-01T13:39:31.176000\",\"2019-10-01T13:44:04.632000\",\"2019-10-01T13:53:11.544000\",\"2019-10-01T14:03:04.032000\",\"2019-10-01T14:10:39.792000\",\"2019-10-01T14:15:58.824000\",\"2019-10-01T14:21:17.856000\",\"2019-10-01T14:36:29.376000\",\"2019-10-01T14:42:33.984000\",\"2019-10-01T14:50:55.320000\",\"2019-10-01T15:00:02.232000\"],\"y\":[-0.20398,-0.21249,-0.16143,-0.11037000000000001,0.01728,0.06834,0.07685,0.04281,-0.05931,-0.16994,-0.28908,-0.29759,-0.27205999999999997,-0.07633,-0.00825,0.04281,0.06834,0.09387000000000001,0.059829999999999994,0.01728,-0.0508,-0.0508,-0.1359,-0.18696,-0.1359,-0.1359,-0.16994,-0.07633,0.07685,0.17046,0.30662,0.33215,0.46831000000000006,0.45128999999999997,0.43427,0.2896,0.25556,0.26406999999999997,0.23003,0.22152,0.2045,0.17046,0.15344000000000002,0.16195,0.1194,0.07685,0.051320000000000005,0.04281,0.00026000000000000003,-0.01676,-0.033780000000000004,-0.042289999999999994],\"type\":\"scatter\"},{\"line\":{\"color\":\"#F46C14\"},\"mode\":\"lines\",\"name\":\"F Layer, 2 hops\",\"x\":[\"2019-10-01T12:03:48.600000\",\"2019-10-01T12:07:36.480000\",\"2019-10-01T12:11:24.360000\",\"2019-10-01T12:19:00.120000\",\"2019-10-01T12:28:07.032000\",\"2019-10-01T12:36:28.368000\",\"2019-10-01T12:44:04.128000\",\"2019-10-01T12:54:42.192000\",\"2019-10-01T13:08:22.560000\",\"2019-10-01T13:22:02.928000\",\"2019-10-01T13:36:28.872000\",\"2019-10-01T13:46:21.360000\",\"2019-10-01T13:54:42.696000\",\"2019-10-01T14:03:04.032000\",\"2019-10-01T14:08:23.064000\",\"2019-10-01T14:22:49.008000\",\"2019-10-01T14:34:12.648000\",\"2019-10-01T14:51:40.896000\",\"2019-10-01T15:00:02.232000\",\"2019-10-01T15:00:02.232000\",\"2019-10-01T15:00:02.232000\",\"2019-10-01T15:00:02.232000\",\"2019-10-01T15:00:02.232000\",\"2019-10-01T15:00:02.232000\"],\"y\":[0.00026000000000000003,0.22152,0.4598,0.59596,0.75765,0.85126,0.92785,0.9704,0.7661600000000001,0.58745,0.40874,0.34066,0.28109,0.27258000000000004,0.24705,0.18748,0.13642,0.09387000000000001,0.07685,0.07685,0.07685,0.07685,0.07685,0.07685],\"type\":\"scatter\"},{\"line\":{\"color\":\"#0f0f0f\"},\"mode\":\"lines\",\"name\":\"E Layer, 1 hop\",\"x\":[\"2019-10-01T12:41:01.824000\",\"2019-10-01T13:29:38.688000\",\"2019-10-01T13:53:11.544000\",\"2019-10-01T14:03:04.032000\",\"2019-10-01T14:19:01.128000\",\"2019-10-01T14:34:12.648000\",\"2019-10-01T14:48:38.592000\",\"2019-10-01T14:53:12.048000\",\"2019-10-01T15:15:13.752000\",\"2019-10-01T15:30:25.272000\",\"2019-10-01T15:44:51.216000\",\"2019-10-01T15:57:00.432000\"],\"y\":[0.0343,-0.01676,-0.033780000000000004,-0.0508,-0.0508,-0.033780000000000004,-0.042289999999999994,-0.0508,-0.05931,-0.042289999999999994,-0.033780000000000004,-0.033780000000000004],\"type\":\"scatter\"}],                        {\"template\":{\"data\":{\"histogram2dcontour\":[{\"type\":\"histogram2dcontour\",\"colorbar\":{\"outlinewidth\":0,\"ticks\":\"\"},\"colorscale\":[[0.0,\"#0d0887\"],[0.1111111111111111,\"#46039f\"],[0.2222222222222222,\"#7201a8\"],[0.3333333333333333,\"#9c179e\"],[0.4444444444444444,\"#bd3786\"],[0.5555555555555556,\"#d8576b\"],[0.6666666666666666,\"#ed7953\"],[0.7777777777777778,\"#fb9f3a\"],[0.8888888888888888,\"#fdca26\"],[1.0,\"#f0f921\"]]}],\"choropleth\":[{\"type\":\"choropleth\",\"colorbar\":{\"outlinewidth\":0,\"ticks\":\"\"}}],\"histogram2d\":[{\"type\":\"histogram2d\",\"colorbar\":{\"outlinewidth\":0,\"ticks\":\"\"},\"colorscale\":[[0.0,\"#0d0887\"],[0.1111111111111111,\"#46039f\"],[0.2222222222222222,\"#7201a8\"],[0.3333333333333333,\"#9c179e\"],[0.4444444444444444,\"#bd3786\"],[0.5555555555555556,\"#d8576b\"],[0.6666666666666666,\"#ed7953\"],[0.7777777777777778,\"#fb9f3a\"],[0.8888888888888888,\"#fdca26\"],[1.0,\"#f0f921\"]]}],\"heatmap\":[{\"type\":\"heatmap\",\"colorbar\":{\"outlinewidth\":0,\"ticks\":\"\"},\"colorscale\":[[0.0,\"#0d0887\"],[0.1111111111111111,\"#46039f\"],[0.2222222222222222,\"#7201a8\"],[0.3333333333333333,\"#9c179e\"],[0.4444444444444444,\"#bd3786\"],[0.5555555555555556,\"#d8576b\"],[0.6666666666666666,\"#ed7953\"],[0.7777777777777778,\"#fb9f3a\"],[0.8888888888888888,\"#fdca26\"],[1.0,\"#f0f921\"]]}],\"heatmapgl\":[{\"type\":\"heatmapgl\",\"colorbar\":{\"outlinewidth\":0,\"ticks\":\"\"},\"colorscale\":[[0.0,\"#0d0887\"],[0.1111111111111111,\"#46039f\"],[0.2222222222222222,\"#7201a8\"],[0.3333333333333333,\"#9c179e\"],[0.4444444444444444,\"#bd3786\"],[0.5555555555555556,\"#d8576b\"],[0.6666666666666666,\"#ed7953\"],[0.7777777777777778,\"#fb9f3a\"],[0.8888888888888888,\"#fdca26\"],[1.0,\"#f0f921\"]]}],\"contourcarpet\":[{\"type\":\"contourcarpet\",\"colorbar\":{\"outlinewidth\":0,\"ticks\":\"\"}}],\"contour\":[{\"type\":\"contour\",\"colorbar\":{\"outlinewidth\":0,\"ticks\":\"\"},\"colorscale\":[[0.0,\"#0d0887\"],[0.1111111111111111,\"#46039f\"],[0.2222222222222222,\"#7201a8\"],[0.3333333333333333,\"#9c179e\"],[0.4444444444444444,\"#bd3786\"],[0.5555555555555556,\"#d8576b\"],[0.6666666666666666,\"#ed7953\"],[0.7777777777777778,\"#fb9f3a\"],[0.8888888888888888,\"#fdca26\"],[1.0,\"#f0f921\"]]}],\"surface\":[{\"type\":\"surface\",\"colorbar\":{\"outlinewidth\":0,\"ticks\":\"\"},\"colorscale\":[[0.0,\"#0d0887\"],[0.1111111111111111,\"#46039f\"],[0.2222222222222222,\"#7201a8\"],[0.3333333333333333,\"#9c179e\"],[0.4444444444444444,\"#bd3786\"],[0.5555555555555556,\"#d8576b\"],[0.6666666666666666,\"#ed7953\"],[0.7777777777777778,\"#fb9f3a\"],[0.8888888888888888,\"#fdca26\"],[1.0,\"#f0f921\"]]}],\"mesh3d\":[{\"type\":\"mesh3d\",\"colorbar\":{\"outlinewidth\":0,\"ticks\":\"\"}}],\"scatter\":[{\"fillpattern\":{\"fillmode\":\"overlay\",\"size\":10,\"solidity\":0.2},\"type\":\"scatter\"}],\"parcoords\":[{\"type\":\"parcoords\",\"line\":{\"colorbar\":{\"outlinewidth\":0,\"ticks\":\"\"}}}],\"scatterpolargl\":[{\"type\":\"scatterpolargl\",\"marker\":{\"colorbar\":{\"outlinewidth\":0,\"ticks\":\"\"}}}],\"bar\":[{\"error_x\":{\"color\":\"#2a3f5f\"},\"error_y\":{\"color\":\"#2a3f5f\"},\"marker\":{\"line\":{\"color\":\"#E5ECF6\",\"width\":0.5},\"pattern\":{\"fillmode\":\"overlay\",\"size\":10,\"solidity\":0.2}},\"type\":\"bar\"}],\"scattergeo\":[{\"type\":\"scattergeo\",\"marker\":{\"colorbar\":{\"outlinewidth\":0,\"ticks\":\"\"}}}],\"scatterpolar\":[{\"type\":\"scatterpolar\",\"marker\":{\"colorbar\":{\"outlinewidth\":0,\"ticks\":\"\"}}}],\"histogram\":[{\"marker\":{\"pattern\":{\"fillmode\":\"overlay\",\"size\":10,\"solidity\":0.2}},\"type\":\"histogram\"}],\"scattergl\":[{\"type\":\"scattergl\",\"marker\":{\"colorbar\":{\"outlinewidth\":0,\"ticks\":\"\"}}}],\"scatter3d\":[{\"type\":\"scatter3d\",\"line\":{\"colorbar\":{\"outlinewidth\":0,\"ticks\":\"\"}},\"marker\":{\"colorbar\":{\"outlinewidth\":0,\"ticks\":\"\"}}}],\"scattermapbox\":[{\"type\":\"scattermapbox\",\"marker\":{\"colorbar\":{\"outlinewidth\":0,\"ticks\":\"\"}}}],\"scatterternary\":[{\"type\":\"scatterternary\",\"marker\":{\"colorbar\":{\"outlinewidth\":0,\"ticks\":\"\"}}}],\"scattercarpet\":[{\"type\":\"scattercarpet\",\"marker\":{\"colorbar\":{\"outlinewidth\":0,\"ticks\":\"\"}}}],\"carpet\":[{\"aaxis\":{\"endlinecolor\":\"#2a3f5f\",\"gridcolor\":\"white\",\"linecolor\":\"white\",\"minorgridcolor\":\"white\",\"startlinecolor\":\"#2a3f5f\"},\"baxis\":{\"endlinecolor\":\"#2a3f5f\",\"gridcolor\":\"white\",\"linecolor\":\"white\",\"minorgridcolor\":\"white\",\"startlinecolor\":\"#2a3f5f\"},\"type\":\"carpet\"}],\"table\":[{\"cells\":{\"fill\":{\"color\":\"#EBF0F8\"},\"line\":{\"color\":\"white\"}},\"header\":{\"fill\":{\"color\":\"#C8D4E3\"},\"line\":{\"color\":\"white\"}},\"type\":\"table\"}],\"barpolar\":[{\"marker\":{\"line\":{\"color\":\"#E5ECF6\",\"width\":0.5},\"pattern\":{\"fillmode\":\"overlay\",\"size\":10,\"solidity\":0.2}},\"type\":\"barpolar\"}],\"pie\":[{\"automargin\":true,\"type\":\"pie\"}]},\"layout\":{\"autotypenumbers\":\"strict\",\"colorway\":[\"#636efa\",\"#EF553B\",\"#00cc96\",\"#ab63fa\",\"#FFA15A\",\"#19d3f3\",\"#FF6692\",\"#B6E880\",\"#FF97FF\",\"#FECB52\"],\"font\":{\"color\":\"#2a3f5f\"},\"hovermode\":\"closest\",\"hoverlabel\":{\"align\":\"left\"},\"paper_bgcolor\":\"white\",\"plot_bgcolor\":\"#E5ECF6\",\"polar\":{\"bgcolor\":\"#E5ECF6\",\"angularaxis\":{\"gridcolor\":\"white\",\"linecolor\":\"white\",\"ticks\":\"\"},\"radialaxis\":{\"gridcolor\":\"white\",\"linecolor\":\"white\",\"ticks\":\"\"}},\"ternary\":{\"bgcolor\":\"#E5ECF6\",\"aaxis\":{\"gridcolor\":\"white\",\"linecolor\":\"white\",\"ticks\":\"\"},\"baxis\":{\"gridcolor\":\"white\",\"linecolor\":\"white\",\"ticks\":\"\"},\"caxis\":{\"gridcolor\":\"white\",\"linecolor\":\"white\",\"ticks\":\"\"}},\"coloraxis\":{\"colorbar\":{\"outlinewidth\":0,\"ticks\":\"\"}},\"colorscale\":{\"sequential\":[[0.0,\"#0d0887\"],[0.1111111111111111,\"#46039f\"],[0.2222222222222222,\"#7201a8\"],[0.3333333333333333,\"#9c179e\"],[0.4444444444444444,\"#bd3786\"],[0.5555555555555556,\"#d8576b\"],[0.6666666666666666,\"#ed7953\"],[0.7777777777777778,\"#fb9f3a\"],[0.8888888888888888,\"#fdca26\"],[1.0,\"#f0f921\"]],\"sequentialminus\":[[0.0,\"#0d0887\"],[0.1111111111111111,\"#46039f\"],[0.2222222222222222,\"#7201a8\"],[0.3333333333333333,\"#9c179e\"],[0.4444444444444444,\"#bd3786\"],[0.5555555555555556,\"#d8576b\"],[0.6666666666666666,\"#ed7953\"],[0.7777777777777778,\"#fb9f3a\"],[0.8888888888888888,\"#fdca26\"],[1.0,\"#f0f921\"]],\"diverging\":[[0,\"#8e0152\"],[0.1,\"#c51b7d\"],[0.2,\"#de77ae\"],[0.3,\"#f1b6da\"],[0.4,\"#fde0ef\"],[0.5,\"#f7f7f7\"],[0.6,\"#e6f5d0\"],[0.7,\"#b8e186\"],[0.8,\"#7fbc41\"],[0.9,\"#4d9221\"],[1,\"#276419\"]]},\"xaxis\":{\"gridcolor\":\"white\",\"linecolor\":\"white\",\"ticks\":\"\",\"title\":{\"standoff\":15},\"zerolinecolor\":\"white\",\"automargin\":true,\"zerolinewidth\":2},\"yaxis\":{\"gridcolor\":\"white\",\"linecolor\":\"white\",\"ticks\":\"\",\"title\":{\"standoff\":15},\"zerolinecolor\":\"white\",\"automargin\":true,\"zerolinewidth\":2},\"scene\":{\"xaxis\":{\"backgroundcolor\":\"#E5ECF6\",\"gridcolor\":\"white\",\"linecolor\":\"white\",\"showbackground\":true,\"ticks\":\"\",\"zerolinecolor\":\"white\",\"gridwidth\":2},\"yaxis\":{\"backgroundcolor\":\"#E5ECF6\",\"gridcolor\":\"white\",\"linecolor\":\"white\",\"showbackground\":true,\"ticks\":\"\",\"zerolinecolor\":\"white\",\"gridwidth\":2},\"zaxis\":{\"backgroundcolor\":\"#E5ECF6\",\"gridcolor\":\"white\",\"linecolor\":\"white\",\"showbackground\":true,\"ticks\":\"\",\"zerolinecolor\":\"white\",\"gridwidth\":2}},\"shapedefaults\":{\"line\":{\"color\":\"#2a3f5f\"}},\"annotationdefaults\":{\"arrowcolor\":\"#2a3f5f\",\"arrowhead\":0,\"arrowwidth\":1},\"geo\":{\"bgcolor\":\"white\",\"landcolor\":\"#E5ECF6\",\"subunitcolor\":\"white\",\"showland\":true,\"showlakes\":true,\"lakecolor\":\"white\"},\"title\":{\"x\":0.05},\"mapbox\":{\"style\":\"light\"}}},\"xaxis\":{\"anchor\":\"y\",\"domain\":[0.0,1.0],\"title\":{\"text\":\"Time (UTC)\"},\"showline\":true,\"linewidth\":1,\"linecolor\":\"black\",\"gridcolor\":\"darkgray\"},\"yaxis\":{\"anchor\":\"x\",\"domain\":[0.0,1.0],\"title\":{\"text\":\"Freq. Deviation (Hz)\"},\"showline\":true,\"linewidth\":1,\"linecolor\":\"black\",\"gridcolor\":\"darkgray\"},\"legend\":{\"tracegroupgap\":0,\"yanchor\":\"top\",\"y\":0.99,\"xanchor\":\"left\",\"x\":0.01},\"margin\":{\"t\":60},\"font\":{\"size\":18},\"plot_bgcolor\":\"rgba(0, 0, 0, 0)\",\"paper_bgcolor\":\"rgba(0, 0, 0, 0)\"},                        {\"responsive\": true}                    ).then(function(){\n",
       "                            \n",
       "var gd = document.getElementById('bc443382-cd2e-43ec-b1bd-c7cf21926210');\n",
       "var x = new MutationObserver(function (mutations, observer) {{\n",
       "        var display = window.getComputedStyle(gd).display;\n",
       "        if (!display || display === 'none') {{\n",
       "            console.log([gd, 'removed!']);\n",
       "            Plotly.purge(gd);\n",
       "            observer.disconnect();\n",
       "        }}\n",
       "}});\n",
       "\n",
       "// Listen for the removal of the full notebook cells\n",
       "var notebookContainer = gd.closest('#notebook-container');\n",
       "if (notebookContainer) {{\n",
       "    x.observe(notebookContainer, {childList: true});\n",
       "}}\n",
       "\n",
       "// Listen for the clearing of the current output cell\n",
       "var outputEl = gd.closest('.output');\n",
       "if (outputEl) {{\n",
       "    x.observe(outputEl, {childList: true});\n",
       "}}\n",
       "\n",
       "                        })                };                });            </script>        </div>"
      ]
     },
     "metadata": {},
     "output_type": "display_data"
    }
   ],
   "source": [
    "# fig = px.line(F1['Freq Hz'], F1['Date'])\n",
    "\n",
    "# fig.add_line(px.line(F2['Freq Hz'], F2['Date']))\n",
    "fig = px.line(x=F1['Date'], y=F1['Freq Hz'])\n",
    "fig.add_scatter(x=F1['Date'], y=F1['Freq Hz'], mode = 'lines', line_color = color_1F, name = \"F Layer, 1 hop\")\n",
    "fig.add_scatter(x=F2['Date'], y=F2['Freq Hz'], mode='lines', line_color = color_2F, name = \"F Layer, 2 hops\")\n",
    "fig.add_scatter(x=E['Date'], y=E['Freq Hz'], mode='lines', line_color = color_E, name = \"E Layer, 1 hop\")\n",
    "\n",
    "# fig.add_trace(px.line(F2['Freq Hz'], F2['Date']))\n",
    "\n",
    "fontoptions(fig)\n",
    "\n",
    "fig.update_layout(\n",
    "    # title=\"Digitized Spectrogram\",\n",
    "    xaxis_title=\"Time (UTC)\",\n",
    "    yaxis_title='Freq. Deviation (Hz)',\n",
    "    # legend_title=\"Trace\"\n",
    ")\n",
    "\n",
    "fig.update_layout(legend=dict(\n",
    "    yanchor=\"top\",\n",
    "    y=0.99,\n",
    "    xanchor=\"left\",\n",
    "    x=0.01\n",
    "))\n",
    "\n",
    "\n",
    "fig.show()\n",
    "fig.write_html(\"plots/\"+ \"Digitized spectrogram\" + \"_plot.html\", include_plotlyjs=\"cdn\")\n",
    "fig.write_image(\"plots/9b.png\")\n",
    "# F1"
   ]
  },
  {
   "cell_type": "code",
   "execution_count": 18,
   "id": "820341d8-3a26-4559-98f7-b362c5f35cf1",
   "metadata": {},
   "outputs": [
    {
     "data": {
      "application/vnd.plotly.v1+json": {
       "config": {
        "plotlyServerURL": "https://plot.ly"
       },
       "data": [
        {
         "line": {
          "color": "#0000ff",
          "dash": "dash"
         },
         "name": "1F Path Velocity",
         "type": "scatter",
         "x": [
          "2019-10-01T09:59:59.712000",
          "2019-10-01T10:03:47.592000",
          "2019-10-01T10:06:49.896000",
          "2019-10-01T10:14:25.656000",
          "2019-10-01T10:19:44.688000",
          "2019-10-01T10:23:32.568000",
          "2019-10-01T10:26:34.872000",
          "2019-10-01T10:30:22.752000",
          "2019-10-01T10:37:58.512000",
          "2019-10-01T10:42:31.968000",
          "2019-10-01T10:45:34.272000",
          "2019-10-01T10:47:51",
          "2019-10-01T10:50:53.304000",
          "2019-10-01T10:56:12.336000",
          "2019-10-01T10:59:14.640000",
          "2019-10-01T11:01:31.368000",
          "2019-10-01T11:05:19.248000",
          "2019-10-01T11:07:35.976000",
          "2019-10-01T11:11:23.856000",
          "2019-10-01T11:15:57.312000",
          "2019-10-01T11:24:18.648000",
          "2019-10-01T11:30:23.256000",
          "2019-10-01T11:34:11.136000",
          "2019-10-01T11:38:44.592000",
          "2019-10-01T11:44:49.200000",
          "2019-10-01T11:50:08.232000",
          "2019-10-01T11:53:56.112000",
          "2019-10-01T12:00:46.296000",
          "2019-10-01T12:08:22.056000",
          "2019-10-01T12:13:41.088000",
          "2019-10-01T12:19:45.696000",
          "2019-10-01T12:25:04.728000",
          "2019-10-01T12:34:11.639999",
          "2019-10-01T12:41:47.400000",
          "2019-10-01T12:44:49.704000",
          "2019-10-01T13:00:46.800000",
          "2019-10-01T13:03:03.528000",
          "2019-10-01T13:06:05.832000",
          "2019-10-01T13:09:08.136000",
          "2019-10-01T13:12:56.016000",
          "2019-10-01T13:17:29.472000",
          "2019-10-01T13:39:31.176000",
          "2019-10-01T13:44:04.632000",
          "2019-10-01T13:53:11.544000",
          "2019-10-01T14:03:04.032000",
          "2019-10-01T14:10:39.792000",
          "2019-10-01T14:15:58.824000",
          "2019-10-01T14:21:17.856000",
          "2019-10-01T14:36:29.376000",
          "2019-10-01T14:42:33.984000",
          "2019-10-01T14:50:55.320000",
          "2019-10-01T15:00:02.232000"
         ],
         "xaxis": "x",
         "y": [
          12.230333116568,
          12.740579880084,
          9.679099298988,
          6.617618717892001,
          -1.036082734848,
          -4.097563315944,
          -4.60781007946,
          -2.5668230253960003,
          3.556138136796,
          10.189346062504,
          17.332800751728,
          17.843047515244002,
          16.312307224696,
          4.576631663828,
          0.49465755570000003,
          -2.5668230253960003,
          -4.097563315944,
          -5.6283036064920005,
          -3.5873165524279997,
          -1.036082734848,
          3.04589137328,
          3.04589137328,
          8.14835900844,
          11.209839589536,
          8.14835900844,
          8.14835900844,
          10.189346062504,
          4.576631663828,
          -4.60781007946,
          -10.220524478136001,
          -18.384472694392002,
          -19.915212984940002,
          -28.079161201196005,
          -27.058667674164,
          -26.038174147132,
          -17.363979167360004,
          -15.322992113296001,
          -15.833238876811999,
          -13.792251822748002,
          -13.282005059232,
          -12.2615115322,
          -10.220524478136001,
          -9.200030951104,
          -9.71027771462,
          -7.159043897040001,
          -4.60781007946,
          -3.0770697889120004,
          -2.5668230253960003,
          -0.015589207816000003,
          1.004904319216,
          2.0253978462480005,
          2.5356446097639997
         ],
         "yaxis": "y"
        },
        {
         "line": {
          "color": "#0000ff"
         },
         "name": "1F Path Length",
         "type": "scatter",
         "x": [
          "2019-10-01T09:59:59.712000",
          "2019-10-01T10:03:47.592000",
          "2019-10-01T10:06:49.896000",
          "2019-10-01T10:14:25.656000",
          "2019-10-01T10:19:44.688000",
          "2019-10-01T10:23:32.568000",
          "2019-10-01T10:26:34.872000",
          "2019-10-01T10:30:22.752000",
          "2019-10-01T10:37:58.512000",
          "2019-10-01T10:42:31.968000",
          "2019-10-01T10:45:34.272000",
          "2019-10-01T10:47:51",
          "2019-10-01T10:50:53.304000",
          "2019-10-01T10:56:12.336000",
          "2019-10-01T10:59:14.640000",
          "2019-10-01T11:01:31.368000",
          "2019-10-01T11:05:19.248000",
          "2019-10-01T11:07:35.976000",
          "2019-10-01T11:11:23.856000",
          "2019-10-01T11:15:57.312000",
          "2019-10-01T11:24:18.648000",
          "2019-10-01T11:30:23.256000",
          "2019-10-01T11:34:11.136000",
          "2019-10-01T11:38:44.592000",
          "2019-10-01T11:44:49.200000",
          "2019-10-01T11:50:08.232000",
          "2019-10-01T11:53:56.112000",
          "2019-10-01T12:00:46.296000",
          "2019-10-01T12:08:22.056000",
          "2019-10-01T12:13:41.088000",
          "2019-10-01T12:19:45.696000",
          "2019-10-01T12:25:04.728000",
          "2019-10-01T12:34:11.639999",
          "2019-10-01T12:41:47.400000",
          "2019-10-01T12:44:49.704000",
          "2019-10-01T13:00:46.800000",
          "2019-10-01T13:03:03.528000",
          "2019-10-01T13:06:05.832000",
          "2019-10-01T13:09:08.136000",
          "2019-10-01T13:12:56.016000",
          "2019-10-01T13:17:29.472000",
          "2019-10-01T13:39:31.176000",
          "2019-10-01T13:44:04.632000",
          "2019-10-01T13:53:11.544000",
          "2019-10-01T14:03:04.032000",
          "2019-10-01T14:10:39.792000",
          "2019-10-01T14:15:58.824000",
          "2019-10-01T14:21:17.856000",
          "2019-10-01T14:36:29.376000",
          "2019-10-01T14:42:33.984000",
          "2019-10-01T14:50:55.320000",
          "2019-10-01T15:00:02.232000"
         ],
         "xaxis": "x",
         "y": [
          12.230333116568,
          24.970912996652,
          34.650012295639996,
          41.267631013532,
          40.231548278683995,
          36.133984962739994,
          31.526174883279992,
          28.95935185788399,
          32.51548999467999,
          42.70483605718399,
          60.03763680891199,
          77.880684324156,
          94.19299154885199,
          98.76962321267999,
          99.26428076837999,
          96.69745774298399,
          92.59989442703998,
          86.97159082054799,
          83.38427426811998,
          82.34819153327199,
          85.39408290655199,
          88.43997427983199,
          96.58833328827198,
          107.79817287780799,
          115.94653188624798,
          124.09489089468798,
          134.28423695719198,
          138.86086862102,
          134.25305854156,
          124.032534063424,
          105.64806136903199,
          85.732848384092,
          57.65368718289599,
          30.595019508731994,
          4.5568453615999935,
          -12.80713380576001,
          -28.130125919056013,
          -43.96336479586801,
          -57.75561661861601,
          -71.03762167784801,
          -83.29913321004801,
          -93.51965768818401,
          -102.71968863928801,
          -112.42996635390801,
          -119.58901025094802,
          -124.19682033040802,
          -127.27389011932001,
          -129.840713144716,
          -129.856302352532,
          -128.851398033316,
          -126.826000187068,
          -124.290355577304
         ],
         "yaxis": "y2"
        },
        {
         "line": {
          "color": "#F46C14",
          "dash": "dash"
         },
         "name": "2F Path Velocity",
         "type": "scatter",
         "x": [
          "2019-10-01T12:03:48.600000",
          "2019-10-01T12:07:36.480000",
          "2019-10-01T12:11:24.360000",
          "2019-10-01T12:19:00.120000",
          "2019-10-01T12:28:07.032000",
          "2019-10-01T12:36:28.368000",
          "2019-10-01T12:44:04.128000",
          "2019-10-01T12:54:42.192000",
          "2019-10-01T13:08:22.560000",
          "2019-10-01T13:22:02.928000",
          "2019-10-01T13:36:28.872000",
          "2019-10-01T13:46:21.360000",
          "2019-10-01T13:54:42.696000",
          "2019-10-01T14:03:04.032000",
          "2019-10-01T14:08:23.064000",
          "2019-10-01T14:22:49.008000",
          "2019-10-01T14:34:12.648000",
          "2019-10-01T14:51:40.896000",
          "2019-10-01T15:00:02.232000",
          "2019-10-01T15:00:02.232000",
          "2019-10-01T15:00:02.232000",
          "2019-10-01T15:00:02.232000",
          "2019-10-01T15:00:02.232000",
          "2019-10-01T15:00:02.232000"
         ],
         "xaxis": "x",
         "y": [
          -0.015589207816000003,
          -13.282005059232,
          -27.56891443768,
          -35.732862653936,
          -45.42755116074,
          -51.040265559416,
          -55.63248643106,
          -58.18372024864001,
          -45.937797924256,
          -35.22261589042,
          -24.507433856584,
          -20.425459748456003,
          -16.853732403844003,
          -16.343485640328,
          -14.81274534978,
          -11.241018005168002,
          -8.179537424072,
          -5.6283036064920005,
          -4.60781007946,
          -4.60781007946,
          -4.60781007946,
          -4.60781007946,
          -4.60781007946,
          -4.60781007946
         ],
         "yaxis": "y"
        },
        {
         "line": {
          "color": "#F46C14"
         },
         "name": "2F Path Length",
         "type": "scatter",
         "x": [
          "2019-10-01T12:03:48.600000",
          "2019-10-01T12:07:36.480000",
          "2019-10-01T12:11:24.360000",
          "2019-10-01T12:19:00.120000",
          "2019-10-01T12:28:07.032000",
          "2019-10-01T12:36:28.368000",
          "2019-10-01T12:44:04.128000",
          "2019-10-01T12:54:42.192000",
          "2019-10-01T13:08:22.560000",
          "2019-10-01T13:22:02.928000",
          "2019-10-01T13:36:28.872000",
          "2019-10-01T13:46:21.360000",
          "2019-10-01T13:54:42.696000",
          "2019-10-01T14:03:04.032000",
          "2019-10-01T14:08:23.064000",
          "2019-10-01T14:22:49.008000",
          "2019-10-01T14:34:12.648000",
          "2019-10-01T14:51:40.896000",
          "2019-10-01T15:00:02.232000",
          "2019-10-01T15:00:02.232000",
          "2019-10-01T15:00:02.232000",
          "2019-10-01T15:00:02.232000",
          "2019-10-01T15:00:02.232000",
          "2019-10-01T15:00:02.232000"
         ],
         "xaxis": "x",
         "y": [
          -0.015589207816000003,
          -13.297594267048,
          -40.866508704728,
          -76.599371358664,
          -122.026922519404,
          -173.06718807881998,
          -228.69967450987997,
          -286.88339475851996,
          -332.821192682776,
          -368.043808573196,
          -392.55124242977996,
          -412.97670217823594,
          -429.83043458207993,
          -446.17392022240796,
          -460.986665572188,
          -472.22768357735595,
          -480.40722100142796,
          -486.03552460791997,
          -490.64333468738,
          -495.25114476684,
          -499.85895484630004,
          -504.46676492576006,
          -509.0745750052201,
          -513.68238508468
         ],
         "yaxis": "y2"
        },
        {
         "line": {
          "color": "#0f0f0f",
          "dash": "dash"
         },
         "name": "E Path Velocity",
         "type": "scatter",
         "x": [
          "2019-10-01T12:41:01.824000",
          "2019-10-01T13:29:38.688000",
          "2019-10-01T13:53:11.544000",
          "2019-10-01T14:03:04.032000",
          "2019-10-01T14:19:01.128000",
          "2019-10-01T14:34:12.648000",
          "2019-10-01T14:48:38.592000",
          "2019-10-01T14:53:12.048000",
          "2019-10-01T15:15:13.752000",
          "2019-10-01T15:30:25.272000",
          "2019-10-01T15:44:51.216000",
          "2019-10-01T15:57:00.432000"
         ],
         "xaxis": "x",
         "y": [
          -2.05657626188,
          1.004904319216,
          2.0253978462480005,
          3.04589137328,
          3.04589137328,
          2.0253978462480005,
          2.5356446097639997,
          3.04589137328,
          3.556138136796,
          2.5356446097639997,
          2.0253978462480005,
          2.0253978462480005
         ],
         "yaxis": "y"
        },
        {
         "line": {
          "color": "#0f0f0f"
         },
         "name": "E Path Length",
         "type": "scatter",
         "x": [
          "2019-10-01T12:41:01.824000",
          "2019-10-01T13:29:38.688000",
          "2019-10-01T13:53:11.544000",
          "2019-10-01T14:03:04.032000",
          "2019-10-01T14:19:01.128000",
          "2019-10-01T14:34:12.648000",
          "2019-10-01T14:48:38.592000",
          "2019-10-01T14:53:12.048000",
          "2019-10-01T15:15:13.752000",
          "2019-10-01T15:30:25.272000",
          "2019-10-01T15:44:51.216000",
          "2019-10-01T15:57:00.432000"
         ],
         "xaxis": "x",
         "y": [
          -2.05657626188,
          -1.051671942664,
          0.9737259035840005,
          4.019617276864,
          7.065508650144,
          9.090906496392002,
          11.626551106156,
          14.672442479436,
          18.228580616232,
          20.764225225996,
          22.789623072244,
          24.815020918492003
         ],
         "yaxis": "y2"
        }
       ],
       "layout": {
        "autosize": true,
        "font": {
         "size": 18
        },
        "legend": {
         "orientation": "h",
         "x": 0.8,
         "xanchor": "right",
         "y": 1,
         "yanchor": "bottom"
        },
        "paper_bgcolor": "rgba(0, 0, 0, 0)",
        "plot_bgcolor": "rgba(0, 0, 0, 0)",
        "template": {
         "data": {
          "bar": [
           {
            "error_x": {
             "color": "#2a3f5f"
            },
            "error_y": {
             "color": "#2a3f5f"
            },
            "marker": {
             "line": {
              "color": "#E5ECF6",
              "width": 0.5
             },
             "pattern": {
              "fillmode": "overlay",
              "size": 10,
              "solidity": 0.2
             }
            },
            "type": "bar"
           }
          ],
          "barpolar": [
           {
            "marker": {
             "line": {
              "color": "#E5ECF6",
              "width": 0.5
             },
             "pattern": {
              "fillmode": "overlay",
              "size": 10,
              "solidity": 0.2
             }
            },
            "type": "barpolar"
           }
          ],
          "carpet": [
           {
            "aaxis": {
             "endlinecolor": "#2a3f5f",
             "gridcolor": "white",
             "linecolor": "white",
             "minorgridcolor": "white",
             "startlinecolor": "#2a3f5f"
            },
            "baxis": {
             "endlinecolor": "#2a3f5f",
             "gridcolor": "white",
             "linecolor": "white",
             "minorgridcolor": "white",
             "startlinecolor": "#2a3f5f"
            },
            "type": "carpet"
           }
          ],
          "choropleth": [
           {
            "colorbar": {
             "outlinewidth": 0,
             "ticks": ""
            },
            "type": "choropleth"
           }
          ],
          "contour": [
           {
            "colorbar": {
             "outlinewidth": 0,
             "ticks": ""
            },
            "colorscale": [
             [
              0,
              "#0d0887"
             ],
             [
              0.1111111111111111,
              "#46039f"
             ],
             [
              0.2222222222222222,
              "#7201a8"
             ],
             [
              0.3333333333333333,
              "#9c179e"
             ],
             [
              0.4444444444444444,
              "#bd3786"
             ],
             [
              0.5555555555555556,
              "#d8576b"
             ],
             [
              0.6666666666666666,
              "#ed7953"
             ],
             [
              0.7777777777777778,
              "#fb9f3a"
             ],
             [
              0.8888888888888888,
              "#fdca26"
             ],
             [
              1,
              "#f0f921"
             ]
            ],
            "type": "contour"
           }
          ],
          "contourcarpet": [
           {
            "colorbar": {
             "outlinewidth": 0,
             "ticks": ""
            },
            "type": "contourcarpet"
           }
          ],
          "heatmap": [
           {
            "colorbar": {
             "outlinewidth": 0,
             "ticks": ""
            },
            "colorscale": [
             [
              0,
              "#0d0887"
             ],
             [
              0.1111111111111111,
              "#46039f"
             ],
             [
              0.2222222222222222,
              "#7201a8"
             ],
             [
              0.3333333333333333,
              "#9c179e"
             ],
             [
              0.4444444444444444,
              "#bd3786"
             ],
             [
              0.5555555555555556,
              "#d8576b"
             ],
             [
              0.6666666666666666,
              "#ed7953"
             ],
             [
              0.7777777777777778,
              "#fb9f3a"
             ],
             [
              0.8888888888888888,
              "#fdca26"
             ],
             [
              1,
              "#f0f921"
             ]
            ],
            "type": "heatmap"
           }
          ],
          "heatmapgl": [
           {
            "colorbar": {
             "outlinewidth": 0,
             "ticks": ""
            },
            "colorscale": [
             [
              0,
              "#0d0887"
             ],
             [
              0.1111111111111111,
              "#46039f"
             ],
             [
              0.2222222222222222,
              "#7201a8"
             ],
             [
              0.3333333333333333,
              "#9c179e"
             ],
             [
              0.4444444444444444,
              "#bd3786"
             ],
             [
              0.5555555555555556,
              "#d8576b"
             ],
             [
              0.6666666666666666,
              "#ed7953"
             ],
             [
              0.7777777777777778,
              "#fb9f3a"
             ],
             [
              0.8888888888888888,
              "#fdca26"
             ],
             [
              1,
              "#f0f921"
             ]
            ],
            "type": "heatmapgl"
           }
          ],
          "histogram": [
           {
            "marker": {
             "pattern": {
              "fillmode": "overlay",
              "size": 10,
              "solidity": 0.2
             }
            },
            "type": "histogram"
           }
          ],
          "histogram2d": [
           {
            "colorbar": {
             "outlinewidth": 0,
             "ticks": ""
            },
            "colorscale": [
             [
              0,
              "#0d0887"
             ],
             [
              0.1111111111111111,
              "#46039f"
             ],
             [
              0.2222222222222222,
              "#7201a8"
             ],
             [
              0.3333333333333333,
              "#9c179e"
             ],
             [
              0.4444444444444444,
              "#bd3786"
             ],
             [
              0.5555555555555556,
              "#d8576b"
             ],
             [
              0.6666666666666666,
              "#ed7953"
             ],
             [
              0.7777777777777778,
              "#fb9f3a"
             ],
             [
              0.8888888888888888,
              "#fdca26"
             ],
             [
              1,
              "#f0f921"
             ]
            ],
            "type": "histogram2d"
           }
          ],
          "histogram2dcontour": [
           {
            "colorbar": {
             "outlinewidth": 0,
             "ticks": ""
            },
            "colorscale": [
             [
              0,
              "#0d0887"
             ],
             [
              0.1111111111111111,
              "#46039f"
             ],
             [
              0.2222222222222222,
              "#7201a8"
             ],
             [
              0.3333333333333333,
              "#9c179e"
             ],
             [
              0.4444444444444444,
              "#bd3786"
             ],
             [
              0.5555555555555556,
              "#d8576b"
             ],
             [
              0.6666666666666666,
              "#ed7953"
             ],
             [
              0.7777777777777778,
              "#fb9f3a"
             ],
             [
              0.8888888888888888,
              "#fdca26"
             ],
             [
              1,
              "#f0f921"
             ]
            ],
            "type": "histogram2dcontour"
           }
          ],
          "mesh3d": [
           {
            "colorbar": {
             "outlinewidth": 0,
             "ticks": ""
            },
            "type": "mesh3d"
           }
          ],
          "parcoords": [
           {
            "line": {
             "colorbar": {
              "outlinewidth": 0,
              "ticks": ""
             }
            },
            "type": "parcoords"
           }
          ],
          "pie": [
           {
            "automargin": true,
            "type": "pie"
           }
          ],
          "scatter": [
           {
            "fillpattern": {
             "fillmode": "overlay",
             "size": 10,
             "solidity": 0.2
            },
            "type": "scatter"
           }
          ],
          "scatter3d": [
           {
            "line": {
             "colorbar": {
              "outlinewidth": 0,
              "ticks": ""
             }
            },
            "marker": {
             "colorbar": {
              "outlinewidth": 0,
              "ticks": ""
             }
            },
            "type": "scatter3d"
           }
          ],
          "scattercarpet": [
           {
            "marker": {
             "colorbar": {
              "outlinewidth": 0,
              "ticks": ""
             }
            },
            "type": "scattercarpet"
           }
          ],
          "scattergeo": [
           {
            "marker": {
             "colorbar": {
              "outlinewidth": 0,
              "ticks": ""
             }
            },
            "type": "scattergeo"
           }
          ],
          "scattergl": [
           {
            "marker": {
             "colorbar": {
              "outlinewidth": 0,
              "ticks": ""
             }
            },
            "type": "scattergl"
           }
          ],
          "scattermapbox": [
           {
            "marker": {
             "colorbar": {
              "outlinewidth": 0,
              "ticks": ""
             }
            },
            "type": "scattermapbox"
           }
          ],
          "scatterpolar": [
           {
            "marker": {
             "colorbar": {
              "outlinewidth": 0,
              "ticks": ""
             }
            },
            "type": "scatterpolar"
           }
          ],
          "scatterpolargl": [
           {
            "marker": {
             "colorbar": {
              "outlinewidth": 0,
              "ticks": ""
             }
            },
            "type": "scatterpolargl"
           }
          ],
          "scatterternary": [
           {
            "marker": {
             "colorbar": {
              "outlinewidth": 0,
              "ticks": ""
             }
            },
            "type": "scatterternary"
           }
          ],
          "surface": [
           {
            "colorbar": {
             "outlinewidth": 0,
             "ticks": ""
            },
            "colorscale": [
             [
              0,
              "#0d0887"
             ],
             [
              0.1111111111111111,
              "#46039f"
             ],
             [
              0.2222222222222222,
              "#7201a8"
             ],
             [
              0.3333333333333333,
              "#9c179e"
             ],
             [
              0.4444444444444444,
              "#bd3786"
             ],
             [
              0.5555555555555556,
              "#d8576b"
             ],
             [
              0.6666666666666666,
              "#ed7953"
             ],
             [
              0.7777777777777778,
              "#fb9f3a"
             ],
             [
              0.8888888888888888,
              "#fdca26"
             ],
             [
              1,
              "#f0f921"
             ]
            ],
            "type": "surface"
           }
          ],
          "table": [
           {
            "cells": {
             "fill": {
              "color": "#EBF0F8"
             },
             "line": {
              "color": "white"
             }
            },
            "header": {
             "fill": {
              "color": "#C8D4E3"
             },
             "line": {
              "color": "white"
             }
            },
            "type": "table"
           }
          ]
         },
         "layout": {
          "annotationdefaults": {
           "arrowcolor": "#2a3f5f",
           "arrowhead": 0,
           "arrowwidth": 1
          },
          "autotypenumbers": "strict",
          "coloraxis": {
           "colorbar": {
            "outlinewidth": 0,
            "ticks": ""
           }
          },
          "colorscale": {
           "diverging": [
            [
             0,
             "#8e0152"
            ],
            [
             0.1,
             "#c51b7d"
            ],
            [
             0.2,
             "#de77ae"
            ],
            [
             0.3,
             "#f1b6da"
            ],
            [
             0.4,
             "#fde0ef"
            ],
            [
             0.5,
             "#f7f7f7"
            ],
            [
             0.6,
             "#e6f5d0"
            ],
            [
             0.7,
             "#b8e186"
            ],
            [
             0.8,
             "#7fbc41"
            ],
            [
             0.9,
             "#4d9221"
            ],
            [
             1,
             "#276419"
            ]
           ],
           "sequential": [
            [
             0,
             "#0d0887"
            ],
            [
             0.1111111111111111,
             "#46039f"
            ],
            [
             0.2222222222222222,
             "#7201a8"
            ],
            [
             0.3333333333333333,
             "#9c179e"
            ],
            [
             0.4444444444444444,
             "#bd3786"
            ],
            [
             0.5555555555555556,
             "#d8576b"
            ],
            [
             0.6666666666666666,
             "#ed7953"
            ],
            [
             0.7777777777777778,
             "#fb9f3a"
            ],
            [
             0.8888888888888888,
             "#fdca26"
            ],
            [
             1,
             "#f0f921"
            ]
           ],
           "sequentialminus": [
            [
             0,
             "#0d0887"
            ],
            [
             0.1111111111111111,
             "#46039f"
            ],
            [
             0.2222222222222222,
             "#7201a8"
            ],
            [
             0.3333333333333333,
             "#9c179e"
            ],
            [
             0.4444444444444444,
             "#bd3786"
            ],
            [
             0.5555555555555556,
             "#d8576b"
            ],
            [
             0.6666666666666666,
             "#ed7953"
            ],
            [
             0.7777777777777778,
             "#fb9f3a"
            ],
            [
             0.8888888888888888,
             "#fdca26"
            ],
            [
             1,
             "#f0f921"
            ]
           ]
          },
          "colorway": [
           "#636efa",
           "#EF553B",
           "#00cc96",
           "#ab63fa",
           "#FFA15A",
           "#19d3f3",
           "#FF6692",
           "#B6E880",
           "#FF97FF",
           "#FECB52"
          ],
          "font": {
           "color": "#2a3f5f"
          },
          "geo": {
           "bgcolor": "white",
           "lakecolor": "white",
           "landcolor": "#E5ECF6",
           "showlakes": true,
           "showland": true,
           "subunitcolor": "white"
          },
          "hoverlabel": {
           "align": "left"
          },
          "hovermode": "closest",
          "mapbox": {
           "style": "light"
          },
          "paper_bgcolor": "white",
          "plot_bgcolor": "#E5ECF6",
          "polar": {
           "angularaxis": {
            "gridcolor": "white",
            "linecolor": "white",
            "ticks": ""
           },
           "bgcolor": "#E5ECF6",
           "radialaxis": {
            "gridcolor": "white",
            "linecolor": "white",
            "ticks": ""
           }
          },
          "scene": {
           "xaxis": {
            "backgroundcolor": "#E5ECF6",
            "gridcolor": "white",
            "gridwidth": 2,
            "linecolor": "white",
            "showbackground": true,
            "ticks": "",
            "zerolinecolor": "white"
           },
           "yaxis": {
            "backgroundcolor": "#E5ECF6",
            "gridcolor": "white",
            "gridwidth": 2,
            "linecolor": "white",
            "showbackground": true,
            "ticks": "",
            "zerolinecolor": "white"
           },
           "zaxis": {
            "backgroundcolor": "#E5ECF6",
            "gridcolor": "white",
            "gridwidth": 2,
            "linecolor": "white",
            "showbackground": true,
            "ticks": "",
            "zerolinecolor": "white"
           }
          },
          "shapedefaults": {
           "line": {
            "color": "#2a3f5f"
           }
          },
          "ternary": {
           "aaxis": {
            "gridcolor": "white",
            "linecolor": "white",
            "ticks": ""
           },
           "baxis": {
            "gridcolor": "white",
            "linecolor": "white",
            "ticks": ""
           },
           "bgcolor": "#E5ECF6",
           "caxis": {
            "gridcolor": "white",
            "linecolor": "white",
            "ticks": ""
           }
          },
          "title": {
           "x": 0.05
          },
          "xaxis": {
           "automargin": true,
           "gridcolor": "white",
           "linecolor": "white",
           "ticks": "",
           "title": {
            "standoff": 15
           },
           "zerolinecolor": "white",
           "zerolinewidth": 2
          },
          "yaxis": {
           "automargin": true,
           "gridcolor": "white",
           "linecolor": "white",
           "ticks": "",
           "title": {
            "standoff": 15
           },
           "zerolinecolor": "white",
           "zerolinewidth": 2
          }
         }
        },
        "xaxis": {
         "anchor": "y",
         "autorange": true,
         "domain": [
          0,
          0.94
         ],
         "gridcolor": "darkgray",
         "linecolor": "black",
         "linewidth": 1,
         "range": [
          "2019-10-01 09:59:59.712",
          "2019-10-01 16:17:20.3241"
         ],
         "showline": true,
         "title": {
          "text": "Time (UTC)"
         },
         "type": "date"
        },
        "yaxis": {
         "anchor": "x",
         "autorange": true,
         "domain": [
          0,
          1
         ],
         "gridcolor": "darkgray",
         "linecolor": "black",
         "linewidth": 1,
         "range": [
          -62.40742956885579,
          22.06675683545978
         ],
         "showline": true,
         "title": {
          "text": "Path Velocity (m/s)"
         },
         "type": "linear"
        },
        "yaxis2": {
         "anchor": "x",
         "autorange": true,
         "gridcolor": "darkgray",
         "linecolor": "black",
         "linewidth": 1,
         "overlaying": "y",
         "range": [
          -549.93478806833,
          175.11327160467
         ],
         "showline": true,
         "side": "right",
         "title": {
          "text": "Path Length Change (km)"
         },
         "type": "linear"
        }
       }
      },
      "image/png": "[encoded data removed]",
      "text/html": [
       "<div>                            <div id=\"d0b3540b-21c3-4ad1-af1d-b49cd6c26c18\" class=\"plotly-graph-div\" style=\"height:525px; width:100%;\"></div>            <script type=\"text/javascript\">                require([\"plotly\"], function(Plotly) {                    window.PLOTLYENV=window.PLOTLYENV || {};                                    if (document.getElementById(\"d0b3540b-21c3-4ad1-af1d-b49cd6c26c18\")) {                    Plotly.newPlot(                        \"d0b3540b-21c3-4ad1-af1d-b49cd6c26c18\",                        [{\"line\":{\"color\":\"#0000ff\",\"dash\":\"dash\"},\"name\":\"1F Path Velocity\",\"x\":[\"2019-10-01T09:59:59.712000\",\"2019-10-01T10:03:47.592000\",\"2019-10-01T10:06:49.896000\",\"2019-10-01T10:14:25.656000\",\"2019-10-01T10:19:44.688000\",\"2019-10-01T10:23:32.568000\",\"2019-10-01T10:26:34.872000\",\"2019-10-01T10:30:22.752000\",\"2019-10-01T10:37:58.512000\",\"2019-10-01T10:42:31.968000\",\"2019-10-01T10:45:34.272000\",\"2019-10-01T10:47:51\",\"2019-10-01T10:50:53.304000\",\"2019-10-01T10:56:12.336000\",\"2019-10-01T10:59:14.640000\",\"2019-10-01T11:01:31.368000\",\"2019-10-01T11:05:19.248000\",\"2019-10-01T11:07:35.976000\",\"2019-10-01T11:11:23.856000\",\"2019-10-01T11:15:57.312000\",\"2019-10-01T11:24:18.648000\",\"2019-10-01T11:30:23.256000\",\"2019-10-01T11:34:11.136000\",\"2019-10-01T11:38:44.592000\",\"2019-10-01T11:44:49.200000\",\"2019-10-01T11:50:08.232000\",\"2019-10-01T11:53:56.112000\",\"2019-10-01T12:00:46.296000\",\"2019-10-01T12:08:22.056000\",\"2019-10-01T12:13:41.088000\",\"2019-10-01T12:19:45.696000\",\"2019-10-01T12:25:04.728000\",\"2019-10-01T12:34:11.639999\",\"2019-10-01T12:41:47.400000\",\"2019-10-01T12:44:49.704000\",\"2019-10-01T13:00:46.800000\",\"2019-10-01T13:03:03.528000\",\"2019-10-01T13:06:05.832000\",\"2019-10-01T13:09:08.136000\",\"2019-10-01T13:12:56.016000\",\"2019-10-01T13:17:29.472000\",\"2019-10-01T13:39:31.176000\",\"2019-10-01T13:44:04.632000\",\"2019-10-01T13:53:11.544000\",\"2019-10-01T14:03:04.032000\",\"2019-10-01T14:10:39.792000\",\"2019-10-01T14:15:58.824000\",\"2019-10-01T14:21:17.856000\",\"2019-10-01T14:36:29.376000\",\"2019-10-01T14:42:33.984000\",\"2019-10-01T14:50:55.320000\",\"2019-10-01T15:00:02.232000\"],\"y\":[12.230333116568,12.740579880084,9.679099298988,6.617618717892001,-1.036082734848,-4.097563315944,-4.60781007946,-2.5668230253960003,3.556138136796,10.189346062504,17.332800751728,17.843047515244002,16.312307224696,4.576631663828,0.49465755570000003,-2.5668230253960003,-4.097563315944,-5.6283036064920005,-3.5873165524279997,-1.036082734848,3.04589137328,3.04589137328,8.14835900844,11.209839589536,8.14835900844,8.14835900844,10.189346062504,4.576631663828,-4.60781007946,-10.220524478136001,-18.384472694392002,-19.915212984940002,-28.079161201196005,-27.058667674164,-26.038174147132,-17.363979167360004,-15.322992113296001,-15.833238876811999,-13.792251822748002,-13.282005059232,-12.2615115322,-10.220524478136001,-9.200030951104,-9.71027771462,-7.159043897040001,-4.60781007946,-3.0770697889120004,-2.5668230253960003,-0.015589207816000003,1.004904319216,2.0253978462480005,2.5356446097639997],\"type\":\"scatter\",\"xaxis\":\"x\",\"yaxis\":\"y\"},{\"line\":{\"color\":\"#0000ff\"},\"name\":\"1F Path Length\",\"x\":[\"2019-10-01T09:59:59.712000\",\"2019-10-01T10:03:47.592000\",\"2019-10-01T10:06:49.896000\",\"2019-10-01T10:14:25.656000\",\"2019-10-01T10:19:44.688000\",\"2019-10-01T10:23:32.568000\",\"2019-10-01T10:26:34.872000\",\"2019-10-01T10:30:22.752000\",\"2019-10-01T10:37:58.512000\",\"2019-10-01T10:42:31.968000\",\"2019-10-01T10:45:34.272000\",\"2019-10-01T10:47:51\",\"2019-10-01T10:50:53.304000\",\"2019-10-01T10:56:12.336000\",\"2019-10-01T10:59:14.640000\",\"2019-10-01T11:01:31.368000\",\"2019-10-01T11:05:19.248000\",\"2019-10-01T11:07:35.976000\",\"2019-10-01T11:11:23.856000\",\"2019-10-01T11:15:57.312000\",\"2019-10-01T11:24:18.648000\",\"2019-10-01T11:30:23.256000\",\"2019-10-01T11:34:11.136000\",\"2019-10-01T11:38:44.592000\",\"2019-10-01T11:44:49.200000\",\"2019-10-01T11:50:08.232000\",\"2019-10-01T11:53:56.112000\",\"2019-10-01T12:00:46.296000\",\"2019-10-01T12:08:22.056000\",\"2019-10-01T12:13:41.088000\",\"2019-10-01T12:19:45.696000\",\"2019-10-01T12:25:04.728000\",\"2019-10-01T12:34:11.639999\",\"2019-10-01T12:41:47.400000\",\"2019-10-01T12:44:49.704000\",\"2019-10-01T13:00:46.800000\",\"2019-10-01T13:03:03.528000\",\"2019-10-01T13:06:05.832000\",\"2019-10-01T13:09:08.136000\",\"2019-10-01T13:12:56.016000\",\"2019-10-01T13:17:29.472000\",\"2019-10-01T13:39:31.176000\",\"2019-10-01T13:44:04.632000\",\"2019-10-01T13:53:11.544000\",\"2019-10-01T14:03:04.032000\",\"2019-10-01T14:10:39.792000\",\"2019-10-01T14:15:58.824000\",\"2019-10-01T14:21:17.856000\",\"2019-10-01T14:36:29.376000\",\"2019-10-01T14:42:33.984000\",\"2019-10-01T14:50:55.320000\",\"2019-10-01T15:00:02.232000\"],\"y\":[12.230333116568,24.970912996652,34.650012295639996,41.267631013532,40.231548278683995,36.133984962739994,31.526174883279992,28.95935185788399,32.51548999467999,42.70483605718399,60.03763680891199,77.880684324156,94.19299154885199,98.76962321267999,99.26428076837999,96.69745774298399,92.59989442703998,86.97159082054799,83.38427426811998,82.34819153327199,85.39408290655199,88.43997427983199,96.58833328827198,107.79817287780799,115.94653188624798,124.09489089468798,134.28423695719198,138.86086862102,134.25305854156,124.032534063424,105.64806136903199,85.732848384092,57.65368718289599,30.595019508731994,4.5568453615999935,-12.80713380576001,-28.130125919056013,-43.96336479586801,-57.75561661861601,-71.03762167784801,-83.29913321004801,-93.51965768818401,-102.71968863928801,-112.42996635390801,-119.58901025094802,-124.19682033040802,-127.27389011932001,-129.840713144716,-129.856302352532,-128.851398033316,-126.826000187068,-124.290355577304],\"type\":\"scatter\",\"xaxis\":\"x\",\"yaxis\":\"y2\"},{\"line\":{\"color\":\"#F46C14\",\"dash\":\"dash\"},\"name\":\"2F Path Velocity\",\"x\":[\"2019-10-01T12:03:48.600000\",\"2019-10-01T12:07:36.480000\",\"2019-10-01T12:11:24.360000\",\"2019-10-01T12:19:00.120000\",\"2019-10-01T12:28:07.032000\",\"2019-10-01T12:36:28.368000\",\"2019-10-01T12:44:04.128000\",\"2019-10-01T12:54:42.192000\",\"2019-10-01T13:08:22.560000\",\"2019-10-01T13:22:02.928000\",\"2019-10-01T13:36:28.872000\",\"2019-10-01T13:46:21.360000\",\"2019-10-01T13:54:42.696000\",\"2019-10-01T14:03:04.032000\",\"2019-10-01T14:08:23.064000\",\"2019-10-01T14:22:49.008000\",\"2019-10-01T14:34:12.648000\",\"2019-10-01T14:51:40.896000\",\"2019-10-01T15:00:02.232000\",\"2019-10-01T15:00:02.232000\",\"2019-10-01T15:00:02.232000\",\"2019-10-01T15:00:02.232000\",\"2019-10-01T15:00:02.232000\",\"2019-10-01T15:00:02.232000\"],\"y\":[-0.015589207816000003,-13.282005059232,-27.56891443768,-35.732862653936,-45.42755116074,-51.040265559416,-55.63248643106,-58.18372024864001,-45.937797924256,-35.22261589042,-24.507433856584,-20.425459748456003,-16.853732403844003,-16.343485640328,-14.81274534978,-11.241018005168002,-8.179537424072,-5.6283036064920005,-4.60781007946,-4.60781007946,-4.60781007946,-4.60781007946,-4.60781007946,-4.60781007946],\"type\":\"scatter\",\"xaxis\":\"x\",\"yaxis\":\"y\"},{\"line\":{\"color\":\"#F46C14\"},\"name\":\"2F Path Length\",\"x\":[\"2019-10-01T12:03:48.600000\",\"2019-10-01T12:07:36.480000\",\"2019-10-01T12:11:24.360000\",\"2019-10-01T12:19:00.120000\",\"2019-10-01T12:28:07.032000\",\"2019-10-01T12:36:28.368000\",\"2019-10-01T12:44:04.128000\",\"2019-10-01T12:54:42.192000\",\"2019-10-01T13:08:22.560000\",\"2019-10-01T13:22:02.928000\",\"2019-10-01T13:36:28.872000\",\"2019-10-01T13:46:21.360000\",\"2019-10-01T13:54:42.696000\",\"2019-10-01T14:03:04.032000\",\"2019-10-01T14:08:23.064000\",\"2019-10-01T14:22:49.008000\",\"2019-10-01T14:34:12.648000\",\"2019-10-01T14:51:40.896000\",\"2019-10-01T15:00:02.232000\",\"2019-10-01T15:00:02.232000\",\"2019-10-01T15:00:02.232000\",\"2019-10-01T15:00:02.232000\",\"2019-10-01T15:00:02.232000\",\"2019-10-01T15:00:02.232000\"],\"y\":[-0.015589207816000003,-13.297594267048,-40.866508704728,-76.599371358664,-122.026922519404,-173.06718807881998,-228.69967450987997,-286.88339475851996,-332.821192682776,-368.043808573196,-392.55124242977996,-412.97670217823594,-429.83043458207993,-446.17392022240796,-460.986665572188,-472.22768357735595,-480.40722100142796,-486.03552460791997,-490.64333468738,-495.25114476684,-499.85895484630004,-504.46676492576006,-509.0745750052201,-513.68238508468],\"type\":\"scatter\",\"xaxis\":\"x\",\"yaxis\":\"y2\"},{\"line\":{\"color\":\"#0f0f0f\",\"dash\":\"dash\"},\"name\":\"E Path Velocity\",\"x\":[\"2019-10-01T12:41:01.824000\",\"2019-10-01T13:29:38.688000\",\"2019-10-01T13:53:11.544000\",\"2019-10-01T14:03:04.032000\",\"2019-10-01T14:19:01.128000\",\"2019-10-01T14:34:12.648000\",\"2019-10-01T14:48:38.592000\",\"2019-10-01T14:53:12.048000\",\"2019-10-01T15:15:13.752000\",\"2019-10-01T15:30:25.272000\",\"2019-10-01T15:44:51.216000\",\"2019-10-01T15:57:00.432000\"],\"y\":[-2.05657626188,1.004904319216,2.0253978462480005,3.04589137328,3.04589137328,2.0253978462480005,2.5356446097639997,3.04589137328,3.556138136796,2.5356446097639997,2.0253978462480005,2.0253978462480005],\"type\":\"scatter\",\"xaxis\":\"x\",\"yaxis\":\"y\"},{\"line\":{\"color\":\"#0f0f0f\"},\"name\":\"E Path Length\",\"x\":[\"2019-10-01T12:41:01.824000\",\"2019-10-01T13:29:38.688000\",\"2019-10-01T13:53:11.544000\",\"2019-10-01T14:03:04.032000\",\"2019-10-01T14:19:01.128000\",\"2019-10-01T14:34:12.648000\",\"2019-10-01T14:48:38.592000\",\"2019-10-01T14:53:12.048000\",\"2019-10-01T15:15:13.752000\",\"2019-10-01T15:30:25.272000\",\"2019-10-01T15:44:51.216000\",\"2019-10-01T15:57:00.432000\"],\"y\":[-2.05657626188,-1.051671942664,0.9737259035840005,4.019617276864,7.065508650144,9.090906496392002,11.626551106156,14.672442479436,18.228580616232,20.764225225996,22.789623072244,24.815020918492003],\"type\":\"scatter\",\"xaxis\":\"x\",\"yaxis\":\"y2\"}],                        {\"template\":{\"data\":{\"histogram2dcontour\":[{\"type\":\"histogram2dcontour\",\"colorbar\":{\"outlinewidth\":0,\"ticks\":\"\"},\"colorscale\":[[0.0,\"#0d0887\"],[0.1111111111111111,\"#46039f\"],[0.2222222222222222,\"#7201a8\"],[0.3333333333333333,\"#9c179e\"],[0.4444444444444444,\"#bd3786\"],[0.5555555555555556,\"#d8576b\"],[0.6666666666666666,\"#ed7953\"],[0.7777777777777778,\"#fb9f3a\"],[0.8888888888888888,\"#fdca26\"],[1.0,\"#f0f921\"]]}],\"choropleth\":[{\"type\":\"choropleth\",\"colorbar\":{\"outlinewidth\":0,\"ticks\":\"\"}}],\"histogram2d\":[{\"type\":\"histogram2d\",\"colorbar\":{\"outlinewidth\":0,\"ticks\":\"\"},\"colorscale\":[[0.0,\"#0d0887\"],[0.1111111111111111,\"#46039f\"],[0.2222222222222222,\"#7201a8\"],[0.3333333333333333,\"#9c179e\"],[0.4444444444444444,\"#bd3786\"],[0.5555555555555556,\"#d8576b\"],[0.6666666666666666,\"#ed7953\"],[0.7777777777777778,\"#fb9f3a\"],[0.8888888888888888,\"#fdca26\"],[1.0,\"#f0f921\"]]}],\"heatmap\":[{\"type\":\"heatmap\",\"colorbar\":{\"outlinewidth\":0,\"ticks\":\"\"},\"colorscale\":[[0.0,\"#0d0887\"],[0.1111111111111111,\"#46039f\"],[0.2222222222222222,\"#7201a8\"],[0.3333333333333333,\"#9c179e\"],[0.4444444444444444,\"#bd3786\"],[0.5555555555555556,\"#d8576b\"],[0.6666666666666666,\"#ed7953\"],[0.7777777777777778,\"#fb9f3a\"],[0.8888888888888888,\"#fdca26\"],[1.0,\"#f0f921\"]]}],\"heatmapgl\":[{\"type\":\"heatmapgl\",\"colorbar\":{\"outlinewidth\":0,\"ticks\":\"\"},\"colorscale\":[[0.0,\"#0d0887\"],[0.1111111111111111,\"#46039f\"],[0.2222222222222222,\"#7201a8\"],[0.3333333333333333,\"#9c179e\"],[0.4444444444444444,\"#bd3786\"],[0.5555555555555556,\"#d8576b\"],[0.6666666666666666,\"#ed7953\"],[0.7777777777777778,\"#fb9f3a\"],[0.8888888888888888,\"#fdca26\"],[1.0,\"#f0f921\"]]}],\"contourcarpet\":[{\"type\":\"contourcarpet\",\"colorbar\":{\"outlinewidth\":0,\"ticks\":\"\"}}],\"contour\":[{\"type\":\"contour\",\"colorbar\":{\"outlinewidth\":0,\"ticks\":\"\"},\"colorscale\":[[0.0,\"#0d0887\"],[0.1111111111111111,\"#46039f\"],[0.2222222222222222,\"#7201a8\"],[0.3333333333333333,\"#9c179e\"],[0.4444444444444444,\"#bd3786\"],[0.5555555555555556,\"#d8576b\"],[0.6666666666666666,\"#ed7953\"],[0.7777777777777778,\"#fb9f3a\"],[0.8888888888888888,\"#fdca26\"],[1.0,\"#f0f921\"]]}],\"surface\":[{\"type\":\"surface\",\"colorbar\":{\"outlinewidth\":0,\"ticks\":\"\"},\"colorscale\":[[0.0,\"#0d0887\"],[0.1111111111111111,\"#46039f\"],[0.2222222222222222,\"#7201a8\"],[0.3333333333333333,\"#9c179e\"],[0.4444444444444444,\"#bd3786\"],[0.5555555555555556,\"#d8576b\"],[0.6666666666666666,\"#ed7953\"],[0.7777777777777778,\"#fb9f3a\"],[0.8888888888888888,\"#fdca26\"],[1.0,\"#f0f921\"]]}],\"mesh3d\":[{\"type\":\"mesh3d\",\"colorbar\":{\"outlinewidth\":0,\"ticks\":\"\"}}],\"scatter\":[{\"fillpattern\":{\"fillmode\":\"overlay\",\"size\":10,\"solidity\":0.2},\"type\":\"scatter\"}],\"parcoords\":[{\"type\":\"parcoords\",\"line\":{\"colorbar\":{\"outlinewidth\":0,\"ticks\":\"\"}}}],\"scatterpolargl\":[{\"type\":\"scatterpolargl\",\"marker\":{\"colorbar\":{\"outlinewidth\":0,\"ticks\":\"\"}}}],\"bar\":[{\"error_x\":{\"color\":\"#2a3f5f\"},\"error_y\":{\"color\":\"#2a3f5f\"},\"marker\":{\"line\":{\"color\":\"#E5ECF6\",\"width\":0.5},\"pattern\":{\"fillmode\":\"overlay\",\"size\":10,\"solidity\":0.2}},\"type\":\"bar\"}],\"scattergeo\":[{\"type\":\"scattergeo\",\"marker\":{\"colorbar\":{\"outlinewidth\":0,\"ticks\":\"\"}}}],\"scatterpolar\":[{\"type\":\"scatterpolar\",\"marker\":{\"colorbar\":{\"outlinewidth\":0,\"ticks\":\"\"}}}],\"histogram\":[{\"marker\":{\"pattern\":{\"fillmode\":\"overlay\",\"size\":10,\"solidity\":0.2}},\"type\":\"histogram\"}],\"scattergl\":[{\"type\":\"scattergl\",\"marker\":{\"colorbar\":{\"outlinewidth\":0,\"ticks\":\"\"}}}],\"scatter3d\":[{\"type\":\"scatter3d\",\"line\":{\"colorbar\":{\"outlinewidth\":0,\"ticks\":\"\"}},\"marker\":{\"colorbar\":{\"outlinewidth\":0,\"ticks\":\"\"}}}],\"scattermapbox\":[{\"type\":\"scattermapbox\",\"marker\":{\"colorbar\":{\"outlinewidth\":0,\"ticks\":\"\"}}}],\"scatterternary\":[{\"type\":\"scatterternary\",\"marker\":{\"colorbar\":{\"outlinewidth\":0,\"ticks\":\"\"}}}],\"scattercarpet\":[{\"type\":\"scattercarpet\",\"marker\":{\"colorbar\":{\"outlinewidth\":0,\"ticks\":\"\"}}}],\"carpet\":[{\"aaxis\":{\"endlinecolor\":\"#2a3f5f\",\"gridcolor\":\"white\",\"linecolor\":\"white\",\"minorgridcolor\":\"white\",\"startlinecolor\":\"#2a3f5f\"},\"baxis\":{\"endlinecolor\":\"#2a3f5f\",\"gridcolor\":\"white\",\"linecolor\":\"white\",\"minorgridcolor\":\"white\",\"startlinecolor\":\"#2a3f5f\"},\"type\":\"carpet\"}],\"table\":[{\"cells\":{\"fill\":{\"color\":\"#EBF0F8\"},\"line\":{\"color\":\"white\"}},\"header\":{\"fill\":{\"color\":\"#C8D4E3\"},\"line\":{\"color\":\"white\"}},\"type\":\"table\"}],\"barpolar\":[{\"marker\":{\"line\":{\"color\":\"#E5ECF6\",\"width\":0.5},\"pattern\":{\"fillmode\":\"overlay\",\"size\":10,\"solidity\":0.2}},\"type\":\"barpolar\"}],\"pie\":[{\"automargin\":true,\"type\":\"pie\"}]},\"layout\":{\"autotypenumbers\":\"strict\",\"colorway\":[\"#636efa\",\"#EF553B\",\"#00cc96\",\"#ab63fa\",\"#FFA15A\",\"#19d3f3\",\"#FF6692\",\"#B6E880\",\"#FF97FF\",\"#FECB52\"],\"font\":{\"color\":\"#2a3f5f\"},\"hovermode\":\"closest\",\"hoverlabel\":{\"align\":\"left\"},\"paper_bgcolor\":\"white\",\"plot_bgcolor\":\"#E5ECF6\",\"polar\":{\"bgcolor\":\"#E5ECF6\",\"angularaxis\":{\"gridcolor\":\"white\",\"linecolor\":\"white\",\"ticks\":\"\"},\"radialaxis\":{\"gridcolor\":\"white\",\"linecolor\":\"white\",\"ticks\":\"\"}},\"ternary\":{\"bgcolor\":\"#E5ECF6\",\"aaxis\":{\"gridcolor\":\"white\",\"linecolor\":\"white\",\"ticks\":\"\"},\"baxis\":{\"gridcolor\":\"white\",\"linecolor\":\"white\",\"ticks\":\"\"},\"caxis\":{\"gridcolor\":\"white\",\"linecolor\":\"white\",\"ticks\":\"\"}},\"coloraxis\":{\"colorbar\":{\"outlinewidth\":0,\"ticks\":\"\"}},\"colorscale\":{\"sequential\":[[0.0,\"#0d0887\"],[0.1111111111111111,\"#46039f\"],[0.2222222222222222,\"#7201a8\"],[0.3333333333333333,\"#9c179e\"],[0.4444444444444444,\"#bd3786\"],[0.5555555555555556,\"#d8576b\"],[0.6666666666666666,\"#ed7953\"],[0.7777777777777778,\"#fb9f3a\"],[0.8888888888888888,\"#fdca26\"],[1.0,\"#f0f921\"]],\"sequentialminus\":[[0.0,\"#0d0887\"],[0.1111111111111111,\"#46039f\"],[0.2222222222222222,\"#7201a8\"],[0.3333333333333333,\"#9c179e\"],[0.4444444444444444,\"#bd3786\"],[0.5555555555555556,\"#d8576b\"],[0.6666666666666666,\"#ed7953\"],[0.7777777777777778,\"#fb9f3a\"],[0.8888888888888888,\"#fdca26\"],[1.0,\"#f0f921\"]],\"diverging\":[[0,\"#8e0152\"],[0.1,\"#c51b7d\"],[0.2,\"#de77ae\"],[0.3,\"#f1b6da\"],[0.4,\"#fde0ef\"],[0.5,\"#f7f7f7\"],[0.6,\"#e6f5d0\"],[0.7,\"#b8e186\"],[0.8,\"#7fbc41\"],[0.9,\"#4d9221\"],[1,\"#276419\"]]},\"xaxis\":{\"gridcolor\":\"white\",\"linecolor\":\"white\",\"ticks\":\"\",\"title\":{\"standoff\":15},\"zerolinecolor\":\"white\",\"automargin\":true,\"zerolinewidth\":2},\"yaxis\":{\"gridcolor\":\"white\",\"linecolor\":\"white\",\"ticks\":\"\",\"title\":{\"standoff\":15},\"zerolinecolor\":\"white\",\"automargin\":true,\"zerolinewidth\":2},\"scene\":{\"xaxis\":{\"backgroundcolor\":\"#E5ECF6\",\"gridcolor\":\"white\",\"linecolor\":\"white\",\"showbackground\":true,\"ticks\":\"\",\"zerolinecolor\":\"white\",\"gridwidth\":2},\"yaxis\":{\"backgroundcolor\":\"#E5ECF6\",\"gridcolor\":\"white\",\"linecolor\":\"white\",\"showbackground\":true,\"ticks\":\"\",\"zerolinecolor\":\"white\",\"gridwidth\":2},\"zaxis\":{\"backgroundcolor\":\"#E5ECF6\",\"gridcolor\":\"white\",\"linecolor\":\"white\",\"showbackground\":true,\"ticks\":\"\",\"zerolinecolor\":\"white\",\"gridwidth\":2}},\"shapedefaults\":{\"line\":{\"color\":\"#2a3f5f\"}},\"annotationdefaults\":{\"arrowcolor\":\"#2a3f5f\",\"arrowhead\":0,\"arrowwidth\":1},\"geo\":{\"bgcolor\":\"white\",\"landcolor\":\"#E5ECF6\",\"subunitcolor\":\"white\",\"showland\":true,\"showlakes\":true,\"lakecolor\":\"white\"},\"title\":{\"x\":0.05},\"mapbox\":{\"style\":\"light\"}}},\"xaxis\":{\"anchor\":\"y\",\"domain\":[0.0,0.94],\"title\":{\"text\":\"Time (UTC)\"},\"showline\":true,\"linewidth\":1,\"linecolor\":\"black\",\"gridcolor\":\"darkgray\"},\"yaxis\":{\"anchor\":\"x\",\"domain\":[0.0,1.0],\"title\":{\"text\":\"Path Velocity (m/s)\"},\"showline\":true,\"linewidth\":1,\"linecolor\":\"black\",\"gridcolor\":\"darkgray\"},\"yaxis2\":{\"anchor\":\"x\",\"overlaying\":\"y\",\"side\":\"right\",\"title\":{\"text\":\"Path Length Change (km)\"},\"showline\":true,\"linewidth\":1,\"linecolor\":\"black\",\"gridcolor\":\"darkgray\"},\"font\":{\"size\":18},\"plot_bgcolor\":\"rgba(0, 0, 0, 0)\",\"paper_bgcolor\":\"rgba(0, 0, 0, 0)\",\"legend\":{\"orientation\":\"h\",\"yanchor\":\"bottom\",\"y\":1,\"xanchor\":\"right\",\"x\":0.8}},                        {\"responsive\": true}                    ).then(function(){\n",
       "                            \n",
       "var gd = document.getElementById('d0b3540b-21c3-4ad1-af1d-b49cd6c26c18');\n",
       "var x = new MutationObserver(function (mutations, observer) {{\n",
       "        var display = window.getComputedStyle(gd).display;\n",
       "        if (!display || display === 'none') {{\n",
       "            console.log([gd, 'removed!']);\n",
       "            Plotly.purge(gd);\n",
       "            observer.disconnect();\n",
       "        }}\n",
       "}});\n",
       "\n",
       "// Listen for the removal of the full notebook cells\n",
       "var notebookContainer = gd.closest('#notebook-container');\n",
       "if (notebookContainer) {{\n",
       "    x.observe(notebookContainer, {childList: true});\n",
       "}}\n",
       "\n",
       "// Listen for the clearing of the current output cell\n",
       "var outputEl = gd.closest('.output');\n",
       "if (outputEl) {{\n",
       "    x.observe(outputEl, {childList: true});\n",
       "}}\n",
       "\n",
       "                        })                };                });            </script>        </div>"
      ]
     },
     "metadata": {},
     "output_type": "display_data"
    }
   ],
   "source": [
    "c = 299792458 # speed of light in m/s\n",
    "f = 5e6 # Freq in Hz\n",
    "pathvel_1F = F1['Freq Hz']*(-c/f)\n",
    "pathlen_1F = pathvel_1F.cumsum()\n",
    "\n",
    "# Create figure with secondary y-axis\n",
    "fig = make_subplots(specs=[[{\"secondary_y\": True}]])\n",
    "\n",
    "# Add traces\n",
    "fig.add_trace(\n",
    "    go.Scatter(x=F1['Date'], y=pathvel_1F, name=\"1F Path Velocity\", line={'dash': 'dash', 'color': color_1F}),\n",
    "    secondary_y=False,\n",
    ")\n",
    "\n",
    "fig.add_trace(\n",
    "    go.Scatter(x=F1['Date'], y=pathlen_1F, name=\"1F Path Length\", line_color = color_1F),\n",
    "    secondary_y=True,\n",
    ")\n",
    "\n",
    "# # Add figure title\n",
    "# fig.update_layout(\n",
    "#     title_text=\"Double Y Axis Example\"\n",
    "# )\n",
    "\n",
    "# Set x-axis title\n",
    "fig.update_xaxes(title_text=\"UTC Time\")\n",
    "\n",
    "# Set y-axes titles\n",
    "fig.update_yaxes(title_text=\"Path Velocity (m/s)\", secondary_y=False)\n",
    "fig.update_yaxes(title_text=\"Path Length Change (km)\", secondary_y=True)\n",
    "\n",
    "#############################################################################################\n",
    "# Let's repeat that for 2F...\n",
    "\n",
    "pathvel_2F = F2['Freq Hz']*(-c/f)\n",
    "pathlen_2F = pathvel_2F.cumsum()\n",
    "\n",
    "# Add traces\n",
    "fig.add_trace(\n",
    "    go.Scatter(x=F2['Date'], y=pathvel_2F, name=\"2F Path Velocity\", line={'dash': 'dash', 'color': color_2F}),\n",
    "    secondary_y=False,\n",
    ")\n",
    "\n",
    "fig.add_trace(\n",
    "    go.Scatter(x=F2['Date'], y=pathlen_2F, name=\"2F Path Length\", line_color = color_2F),\n",
    "    secondary_y=True,\n",
    ")\n",
    "\n",
    "#############################################################################################\n",
    "# And for E....\n",
    "\n",
    "pathvel_E = E['Freq Hz']*(-c/f)\n",
    "pathlen_E = pathvel_E.cumsum()\n",
    "\n",
    "# Add traces\n",
    "fig.add_trace(\n",
    "    go.Scatter(x=E['Date'], y=pathvel_E, name=\"E Path Velocity\", line={'dash': 'dash', 'color': color_E}),\n",
    "    secondary_y=False,\n",
    ")\n",
    "\n",
    "fig.add_trace(\n",
    "    go.Scatter(x=E['Date'], y=pathlen_E, name=\"E Path Length\", line_color = color_E),\n",
    "    secondary_y=True,\n",
    ")\n",
    "################################################################################################\n",
    "\n",
    "fontoptions(fig)\n",
    "\n",
    "fig.update_layout(legend=dict(\n",
    "    orientation=\"h\",\n",
    "    yanchor=\"bottom\",\n",
    "    y=1,\n",
    "    xanchor=\"right\",\n",
    "    x=.8\n",
    "))\n",
    "\n",
    "# Set x-axis title\n",
    "fig.update_xaxes(title_text=\"Time (UTC)\")\n",
    "\n",
    "# Set y-axes titles\n",
    "fig.update_yaxes(title_text=\"Path Velocity (m/s)\", secondary_y=False)\n",
    "fig.update_yaxes(title_text=\"Path Length Change (km)\", secondary_y=True)\n",
    "\n",
    "\n",
    "\n",
    "fig.show()\n",
    "# fig.write_html(\"plots/\"+ \"PathVel\" + \"_plot.html\", include_plotlyjs=\"cdn\")\n",
    "# fig.write_image(\"plots/9c.png\")"
   ]
  },
  {
   "cell_type": "markdown",
   "id": "ca1fe69e-105a-4157-ab37-4ffdfdaa5795",
   "metadata": {
    "tags": []
   },
   "source": [
    "## Read Ionosonde Data\n",
    "This data was obtained using the notebook at https://github.com/KCollins/didbase-fetch."
   ]
  },
  {
   "cell_type": "code",
   "execution_count": 19,
   "id": "12dceb00-15cd-46bd-a99b-e4ab3d9074b0",
   "metadata": {},
   "outputs": [],
   "source": [
    "hmF2 = pd.read_csv('data/FFM-hmF2.csv')\n",
    "hmF2 = hmF2.dropna()\n",
    "hmF2 = hmF2.sort_index()   # should ensure datapoints are sorted in time\n",
    "hmF1 = pd.read_csv('data/FFM-hmF1.csv')\n",
    "hmF1 = hmF1.sort_index()\n",
    "hmE = pd.read_csv('data/FFM-hmE.csv')\n",
    "idx = hmE['Time'] > str(datetime.datetime(2019, 10, 1, 13, 35, 5))\n",
    "hmE = hmE[idx] # Filter to ignore stand-in values for hmE"
   ]
  },
  {
   "cell_type": "markdown",
   "id": "01e51e18-a27e-4478-9c24-cb1bc3f130b5",
   "metadata": {},
   "source": [
    "Overplot ionosonde data with the relative path length changes we identified: "
   ]
  },
  {
   "cell_type": "code",
   "execution_count": 20,
   "id": "1592ebc6-4ab4-4215-b780-27aca7bb6b3f",
   "metadata": {},
   "outputs": [
    {
     "name": "stdout",
     "output_type": "stream",
     "text": [
      "Change in Height:2.4538455207163565\n"
     ]
    },
    {
     "data": {
      "text/plain": [
       "2.4538455207163565"
      ]
     },
     "execution_count": 20,
     "metadata": {},
     "output_type": "execute_result"
    }
   ],
   "source": [
    "# Define a function to get height change from N hops, path length, h0:\n",
    "def deltaheight(N=1, X = 1350, h0 =300, pathlen = 2):\n",
    "    P0 = 2*N* np.sqrt((X/(2*N))**2 + h0**2) \n",
    "    path_total = P0 + pathlen # B\n",
    "    deltaheight = (np.sqrt(path_total**2 - (X**2))/(2*N) - h0)\n",
    "    print('Change in Height:' + str(deltaheight))\n",
    "    return deltaheight\n",
    "\n",
    "deltaheight()\n",
    "    "
   ]
  },
  {
   "cell_type": "code",
   "execution_count": 22,
   "id": "1a935a7d-590f-424c-b6c5-f643499c771a",
   "metadata": {},
   "outputs": [],
   "source": [
    "def heightvec(pathlen_vec, N=1, X = 1350, h0 =278):\n",
    "    heightvec = pathlen_vec\n",
    "    for idx, pathlen in enumerate(pathlen_vec):\n",
    "        heightvec[idx] = h0 \n",
    "        print('h0 =====' + str(h0))\n",
    "        print('pathlen =====' + str(pathlen))\n",
    "        h0=deltaheight(N=N, X = X, h0 =h0, pathlen = pathlen)\n",
    "    return heightvec\n",
    "    "
   ]
  },
  {
   "cell_type": "code",
   "execution_count": 23,
   "id": "13c716b8-dde7-4faa-98e1-e0e0910e6cfe",
   "metadata": {},
   "outputs": [
    {
     "name": "stdout",
     "output_type": "stream",
     "text": [
      "Change in Height:0      15.682846\n",
      "1      31.303746\n",
      "2      42.747375\n",
      "3      50.382977\n",
      "4      49.197070\n",
      "5      44.472399\n",
      "6      39.091118\n",
      "7      36.060769\n",
      "8      40.252765\n",
      "9      52.022301\n",
      "10     71.303556\n",
      "11     90.312001\n",
      "12    107.050054\n",
      "13    111.647653\n",
      "14    112.142136\n",
      "15    109.571077\n",
      "16    105.439929\n",
      "17     99.709957\n",
      "18     96.023086\n",
      "19     94.953072\n",
      "20     98.092069\n",
      "21    101.211199\n",
      "22    109.461489\n",
      "23    120.600605\n",
      "24    128.554526\n",
      "25    136.395850\n",
      "26    146.052337\n",
      "27    150.338505\n",
      "28    146.023032\n",
      "29    136.336255\n",
      "30    118.482174\n",
      "31     98.439953\n",
      "32     68.702371\n",
      "33     37.994567\n",
      "34      5.929069\n",
      "35    -17.278465\n",
      "36    -39.365005\n",
      "37    -64.286016\n",
      "38    -88.379401\n",
      "39   -114.636344\n",
      "40   -143.056287\n",
      "41   -172.167325\n",
      "42   -207.744554\n",
      "43           NaN\n",
      "44           NaN\n",
      "45           NaN\n",
      "46           NaN\n",
      "47           NaN\n",
      "48           NaN\n",
      "49           NaN\n",
      "50           NaN\n",
      "51           NaN\n",
      "Name: Freq Hz, dtype: float64\n",
      "Change in Height:76    -8.302719\n",
      "77    -4.145053\n",
      "78     3.674288\n",
      "79    14.337578\n",
      "80    24.014341\n",
      "81    30.022897\n",
      "82    37.151946\n",
      "83    45.229526\n",
      "84    54.102600\n",
      "85    60.118970\n",
      "86    64.762514\n",
      "87    69.275864\n",
      "Name: Freq Hz, dtype: float64\n",
      "Change in Height:52     -0.006130\n",
      "53     -5.258649\n",
      "54    -16.363083\n",
      "55    -31.212518\n",
      "56    -50.983839\n",
      "57    -74.729403\n",
      "58   -103.205396\n",
      "59   -137.616393\n",
      "60   -171.025344\n",
      "61   -205.295996\n",
      "62   -244.940791\n",
      "63           NaN\n",
      "64           NaN\n",
      "65           NaN\n",
      "66           NaN\n",
      "67           NaN\n",
      "68           NaN\n",
      "69           NaN\n",
      "70           NaN\n",
      "71           NaN\n",
      "72           NaN\n",
      "73           NaN\n",
      "74           NaN\n",
      "75           NaN\n",
      "Name: Freq Hz, dtype: float64\n"
     ]
    },
    {
     "name": "stderr",
     "output_type": "stream",
     "text": [
      "/home/pliny/.local/lib/python3.6/site-packages/pandas/core/series.py:726: RuntimeWarning:\n",
      "\n",
      "invalid value encountered in sqrt\n",
      "\n"
     ]
    },
    {
     "data": {
      "application/vnd.plotly.v1+json": {
       "config": {
        "plotlyServerURL": "https://plot.ly"
       },
       "data": [
        {
         "marker": {
          "color": "LightSkyBlue",
          "size": 4
         },
         "mode": "markers",
         "name": "Boulder hmF2",
         "type": "scatter",
         "x": [
          "2019-10-01 00:00:05+00:00",
          "2019-10-01 00:05:05+00:00",
          "2019-10-01 00:10:05+00:00",
          "2019-10-01 00:15:05+00:00",
          "2019-10-01 00:20:05+00:00",
          "2019-10-01 00:25:05+00:00",
          "2019-10-01 00:30:05+00:00",
          "2019-10-01 00:35:05+00:00",
          "2019-10-01 00:40:05+00:00",
          "2019-10-01 00:45:05+00:00",
          "2019-10-01 00:50:05+00:00",
          "2019-10-01 00:55:05+00:00",
          "2019-10-01 01:00:05+00:00",
          "2019-10-01 01:05:05+00:00",
          "2019-10-01 01:10:05+00:00",
          "2019-10-01 01:15:05+00:00",
          "2019-10-01 01:20:05+00:00",
          "2019-10-01 01:25:05+00:00",
          "2019-10-01 01:30:05+00:00",
          "2019-10-01 01:35:05+00:00",
          "2019-10-01 01:40:05+00:00",
          "2019-10-01 01:45:05+00:00",
          "2019-10-01 01:50:05+00:00",
          "2019-10-01 01:55:05+00:00",
          "2019-10-01 02:00:05+00:00",
          "2019-10-01 02:05:05+00:00",
          "2019-10-01 02:10:05+00:00",
          "2019-10-01 02:15:05+00:00",
          "2019-10-01 02:20:05+00:00",
          "2019-10-01 02:25:05+00:00",
          "2019-10-01 02:35:05+00:00",
          "2019-10-01 02:40:05+00:00",
          "2019-10-01 02:45:05+00:00",
          "2019-10-01 02:50:05+00:00",
          "2019-10-01 02:55:05+00:00",
          "2019-10-01 03:05:05+00:00",
          "2019-10-01 03:10:05+00:00",
          "2019-10-01 03:20:05+00:00",
          "2019-10-01 03:25:05+00:00",
          "2019-10-01 03:30:05+00:00",
          "2019-10-01 03:35:05+00:00",
          "2019-10-01 03:40:05+00:00",
          "2019-10-01 03:45:05+00:00",
          "2019-10-01 03:50:05+00:00",
          "2019-10-01 03:55:05+00:00",
          "2019-10-01 04:00:05+00:00",
          "2019-10-01 04:05:05+00:00",
          "2019-10-01 04:10:05+00:00",
          "2019-10-01 04:15:05+00:00",
          "2019-10-01 04:25:05+00:00",
          "2019-10-01 04:30:05+00:00",
          "2019-10-01 04:35:05+00:00",
          "2019-10-01 04:40:05+00:00",
          "2019-10-01 04:45:05+00:00",
          "2019-10-01 04:50:05+00:00",
          "2019-10-01 04:55:05+00:00",
          "2019-10-01 05:00:05+00:00",
          "2019-10-01 05:05:05+00:00",
          "2019-10-01 05:10:05+00:00",
          "2019-10-01 05:15:05+00:00",
          "2019-10-01 05:20:05+00:00",
          "2019-10-01 05:25:05+00:00",
          "2019-10-01 05:30:05+00:00",
          "2019-10-01 05:35:05+00:00",
          "2019-10-01 05:40:05+00:00",
          "2019-10-01 05:45:05+00:00",
          "2019-10-01 05:50:05+00:00",
          "2019-10-01 05:55:05+00:00",
          "2019-10-01 06:00:05+00:00",
          "2019-10-01 06:05:05+00:00",
          "2019-10-01 06:10:05+00:00",
          "2019-10-01 06:15:05+00:00",
          "2019-10-01 06:20:05+00:00",
          "2019-10-01 06:25:05+00:00",
          "2019-10-01 06:30:05+00:00",
          "2019-10-01 06:35:05+00:00",
          "2019-10-01 06:40:05+00:00",
          "2019-10-01 06:45:05+00:00",
          "2019-10-01 06:50:05+00:00",
          "2019-10-01 06:55:05+00:00",
          "2019-10-01 07:00:05+00:00",
          "2019-10-01 07:05:05+00:00",
          "2019-10-01 07:15:05+00:00",
          "2019-10-01 07:20:05+00:00",
          "2019-10-01 07:25:05+00:00",
          "2019-10-01 07:30:05+00:00",
          "2019-10-01 07:35:05+00:00",
          "2019-10-01 07:40:05+00:00",
          "2019-10-01 07:45:05+00:00",
          "2019-10-01 07:50:05+00:00",
          "2019-10-01 07:55:05+00:00",
          "2019-10-01 08:00:05+00:00",
          "2019-10-01 08:05:05+00:00",
          "2019-10-01 08:10:05+00:00",
          "2019-10-01 08:15:05+00:00",
          "2019-10-01 08:20:05+00:00",
          "2019-10-01 08:25:05+00:00",
          "2019-10-01 08:30:05+00:00",
          "2019-10-01 08:35:05+00:00",
          "2019-10-01 08:40:05+00:00",
          "2019-10-01 08:45:05+00:00",
          "2019-10-01 08:50:05+00:00",
          "2019-10-01 08:55:05+00:00",
          "2019-10-01 09:00:05+00:00",
          "2019-10-01 09:05:05+00:00",
          "2019-10-01 09:10:05+00:00",
          "2019-10-01 09:15:05+00:00",
          "2019-10-01 09:20:05+00:00",
          "2019-10-01 09:25:05+00:00",
          "2019-10-01 09:30:05+00:00",
          "2019-10-01 09:35:05+00:00",
          "2019-10-01 09:40:05+00:00",
          "2019-10-01 09:45:05+00:00",
          "2019-10-01 09:50:05+00:00",
          "2019-10-01 09:55:05+00:00",
          "2019-10-01 10:00:05+00:00",
          "2019-10-01 10:05:05+00:00",
          "2019-10-01 10:10:05+00:00",
          "2019-10-01 10:15:05+00:00",
          "2019-10-01 10:20:05+00:00",
          "2019-10-01 10:25:05+00:00",
          "2019-10-01 10:30:05+00:00",
          "2019-10-01 10:35:05+00:00",
          "2019-10-01 10:40:05+00:00",
          "2019-10-01 10:45:05+00:00",
          "2019-10-01 10:50:05+00:00",
          "2019-10-01 10:55:05+00:00",
          "2019-10-01 11:00:05+00:00",
          "2019-10-01 11:05:05+00:00",
          "2019-10-01 11:10:05+00:00",
          "2019-10-01 11:15:05+00:00",
          "2019-10-01 11:20:05+00:00",
          "2019-10-01 11:25:05+00:00",
          "2019-10-01 11:30:05+00:00",
          "2019-10-01 11:35:05+00:00",
          "2019-10-01 11:40:05+00:00",
          "2019-10-01 11:45:05+00:00",
          "2019-10-01 11:50:05+00:00",
          "2019-10-01 11:55:05+00:00",
          "2019-10-01 12:00:05+00:00",
          "2019-10-01 12:05:05+00:00",
          "2019-10-01 12:10:05+00:00",
          "2019-10-01 12:15:05+00:00",
          "2019-10-01 12:20:05+00:00",
          "2019-10-01 12:25:05+00:00",
          "2019-10-01 12:30:05+00:00",
          "2019-10-01 12:35:05+00:00",
          "2019-10-01 12:40:05+00:00",
          "2019-10-01 12:45:05+00:00",
          "2019-10-01 12:50:05+00:00",
          "2019-10-01 12:55:05+00:00",
          "2019-10-01 13:00:05+00:00",
          "2019-10-01 13:05:05+00:00",
          "2019-10-01 13:10:05+00:00",
          "2019-10-01 13:15:05+00:00",
          "2019-10-01 13:20:05+00:00",
          "2019-10-01 13:25:05+00:00",
          "2019-10-01 13:30:05+00:00",
          "2019-10-01 13:35:05+00:00",
          "2019-10-01 13:40:05+00:00",
          "2019-10-01 13:45:05+00:00",
          "2019-10-01 13:50:05+00:00",
          "2019-10-01 13:55:05+00:00",
          "2019-10-01 14:00:05+00:00",
          "2019-10-01 14:05:05+00:00",
          "2019-10-01 14:10:05+00:00",
          "2019-10-01 14:15:05+00:00",
          "2019-10-01 14:20:05+00:00",
          "2019-10-01 14:25:05+00:00",
          "2019-10-01 14:30:05+00:00",
          "2019-10-01 14:35:05+00:00",
          "2019-10-01 14:40:05+00:00",
          "2019-10-01 14:45:05+00:00",
          "2019-10-01 14:50:05+00:00",
          "2019-10-01 14:55:05+00:00",
          "2019-10-01 15:00:05+00:00",
          "2019-10-01 15:05:05+00:00",
          "2019-10-01 15:10:05+00:00",
          "2019-10-01 15:15:05+00:00",
          "2019-10-01 15:20:05+00:00",
          "2019-10-01 15:25:05+00:00",
          "2019-10-01 15:30:05+00:00",
          "2019-10-01 15:35:05+00:00",
          "2019-10-01 15:40:05+00:00",
          "2019-10-01 15:45:05+00:00",
          "2019-10-01 15:50:05+00:00",
          "2019-10-01 15:55:05+00:00",
          "2019-10-01 16:00:05+00:00",
          "2019-10-01 16:05:05+00:00",
          "2019-10-01 16:10:05+00:00",
          "2019-10-01 16:15:05+00:00",
          "2019-10-01 16:20:05+00:00",
          "2019-10-01 16:25:05+00:00",
          "2019-10-01 16:30:05+00:00",
          "2019-10-01 16:35:05+00:00",
          "2019-10-01 16:40:05+00:00",
          "2019-10-01 16:45:05+00:00",
          "2019-10-01 16:50:05+00:00",
          "2019-10-01 16:55:05+00:00",
          "2019-10-01 17:00:05+00:00",
          "2019-10-01 17:05:05+00:00",
          "2019-10-01 17:10:05+00:00",
          "2019-10-01 17:15:05+00:00",
          "2019-10-01 17:20:05+00:00",
          "2019-10-01 17:25:05+00:00",
          "2019-10-01 17:30:05+00:00",
          "2019-10-01 17:35:05+00:00",
          "2019-10-01 17:40:05+00:00",
          "2019-10-01 17:45:05+00:00",
          "2019-10-01 17:50:05+00:00",
          "2019-10-01 17:55:05+00:00",
          "2019-10-01 18:05:05+00:00",
          "2019-10-01 18:10:05+00:00",
          "2019-10-01 18:15:05+00:00",
          "2019-10-01 18:20:05+00:00",
          "2019-10-01 18:25:05+00:00",
          "2019-10-01 18:30:05+00:00",
          "2019-10-01 18:35:05+00:00",
          "2019-10-01 18:40:05+00:00",
          "2019-10-01 18:45:05+00:00",
          "2019-10-01 18:55:05+00:00",
          "2019-10-01 19:00:05+00:00",
          "2019-10-01 19:05:05+00:00",
          "2019-10-01 19:10:05+00:00",
          "2019-10-01 19:15:05+00:00",
          "2019-10-01 19:20:05+00:00",
          "2019-10-01 19:25:05+00:00",
          "2019-10-01 19:30:05+00:00",
          "2019-10-01 19:35:05+00:00",
          "2019-10-01 19:40:05+00:00",
          "2019-10-01 19:45:05+00:00",
          "2019-10-01 19:50:05+00:00",
          "2019-10-01 19:55:05+00:00",
          "2019-10-01 20:00:05+00:00",
          "2019-10-01 20:05:05+00:00",
          "2019-10-01 20:10:05+00:00",
          "2019-10-01 20:15:05+00:00",
          "2019-10-01 20:20:05+00:00",
          "2019-10-01 20:25:05+00:00",
          "2019-10-01 20:30:05+00:00",
          "2019-10-01 20:35:05+00:00",
          "2019-10-01 20:40:05+00:00",
          "2019-10-01 20:45:05+00:00",
          "2019-10-01 20:50:05+00:00",
          "2019-10-01 20:55:05+00:00",
          "2019-10-01 21:00:05+00:00",
          "2019-10-01 21:05:05+00:00",
          "2019-10-01 21:10:05+00:00",
          "2019-10-01 21:15:05+00:00",
          "2019-10-01 21:20:05+00:00",
          "2019-10-01 21:25:05+00:00",
          "2019-10-01 21:30:05+00:00",
          "2019-10-01 21:35:05+00:00",
          "2019-10-01 21:40:05+00:00",
          "2019-10-01 21:45:05+00:00",
          "2019-10-01 21:50:05+00:00",
          "2019-10-01 21:55:05+00:00",
          "2019-10-01 22:00:05+00:00",
          "2019-10-01 22:05:05+00:00",
          "2019-10-01 22:10:05+00:00",
          "2019-10-01 22:20:05+00:00",
          "2019-10-01 22:25:05+00:00",
          "2019-10-01 22:30:05+00:00",
          "2019-10-01 22:35:05+00:00",
          "2019-10-01 22:40:05+00:00",
          "2019-10-01 22:45:05+00:00",
          "2019-10-01 22:50:05+00:00",
          "2019-10-01 22:55:05+00:00",
          "2019-10-01 23:00:05+00:00",
          "2019-10-01 23:05:05+00:00",
          "2019-10-01 23:10:05+00:00",
          "2019-10-01 23:15:05+00:00",
          "2019-10-01 23:20:05+00:00",
          "2019-10-01 23:25:05+00:00",
          "2019-10-01 23:30:05+00:00",
          "2019-10-01 23:35:05+00:00",
          "2019-10-01 23:40:05+00:00",
          "2019-10-01 23:45:05+00:00",
          "2019-10-01 23:50:05+00:00",
          "2019-10-01 23:55:05+00:00"
         ],
         "y": [
          223.4,
          227.3,
          234.1,
          231.2,
          229.6,
          218.4,
          222.9,
          233.9,
          228.1,
          228.7,
          235.9,
          233.4,
          236.6,
          234.4,
          231.8,
          242.2,
          240.5,
          235.9,
          240.2,
          248.4,
          243.4,
          238.1,
          261.9,
          259,
          263.7,
          261.9,
          272.9,
          282.8,
          288.4,
          281.2,
          296.1,
          317.2,
          293.3,
          291.8,
          299.5,
          296.3,
          297.9,
          313.6,
          299.3,
          285.6,
          299,
          294.1,
          282.9,
          280.3,
          280.2,
          279.8,
          294.7,
          280.9,
          276.1,
          215.4,
          292.8,
          294.2,
          294.8,
          299.5,
          296.6,
          287.9,
          297.6,
          288.3,
          281.8,
          272.8,
          273.8,
          280.9,
          306.8,
          305,
          315.1,
          303.3,
          305.9,
          300.6,
          300.9,
          304.1,
          303.8,
          293.3,
          294.4,
          298.7,
          303,
          292.8,
          288.6,
          302,
          302,
          299.9,
          297.6,
          289.9,
          293,
          325.5,
          287.6,
          301,
          297.4,
          306.3,
          309,
          300.1,
          306.5,
          301,
          307.5,
          302.3,
          287.8,
          291.8,
          287.5,
          300.4,
          304.9,
          311.4,
          310.9,
          302.9,
          294.2,
          291.1,
          294.5,
          301.4,
          305.3,
          312.2,
          305.3,
          313.8,
          327.2,
          303.2,
          294.3,
          295,
          290,
          293.6,
          298.5,
          301,
          318.8,
          292.8,
          302,
          298.6,
          299.9,
          288.2,
          282.2,
          278.3,
          281.6,
          266.2,
          322.4,
          296.7,
          294,
          297.9,
          307.4,
          305.7,
          310.7,
          299.1,
          296.5,
          300.6,
          301.7,
          285.7,
          290,
          297.1,
          295.8,
          272.5,
          278.2,
          268.7,
          262,
          257.5,
          268,
          291.5,
          282.1,
          258.5,
          249.1,
          252.2,
          245,
          221.2,
          240.2,
          236.6,
          220.6,
          231.1,
          234.5,
          248,
          268.9,
          241.3,
          247,
          253,
          256.7,
          221.3,
          243.7,
          257.1,
          228.7,
          230.5,
          227.4,
          222,
          219.3,
          226.2,
          238.8,
          247.6,
          230.6,
          227.8,
          232.5,
          223.8,
          230.2,
          250,
          246,
          204.9,
          233.6,
          222.6,
          223.8,
          227.6,
          227.9,
          225.1,
          228.4,
          248.8,
          231.3,
          226.2,
          244.8,
          238.3,
          226.3,
          237.3,
          217,
          211.5,
          213.6,
          202,
          222.2,
          206.8,
          207.1,
          213.1,
          212.5,
          205,
          212.9,
          214.5,
          235.7,
          221.7,
          207,
          213.2,
          201,
          206.9,
          210.7,
          213.2,
          214.7,
          220.1,
          218.6,
          225.4,
          192.5,
          206,
          202.5,
          201.1,
          205.8,
          210.6,
          203,
          213.4,
          253.1,
          213.2,
          214.6,
          217.7,
          211.4,
          215.8,
          201,
          209,
          190.9,
          236.3,
          216.8,
          208.3,
          210.2,
          209.7,
          210.7,
          202.4,
          200.1,
          240,
          211.7,
          237.3,
          244.8,
          236.4,
          242,
          231.8,
          228.7,
          231,
          227.3,
          234,
          226.3,
          227.9,
          220.5,
          231.3,
          222.4,
          222.3,
          223.6,
          247.4,
          221.7,
          214.1,
          223.9,
          229.4,
          226.5,
          221.4,
          227.2,
          244.6,
          242.2,
          234.6,
          242.5,
          235.2
         ]
        },
        {
         "line": {
          "color": "#552DC9"
         },
         "marker": {
          "color": "LightGreen",
          "size": 4
         },
         "mode": "markers",
         "name": "Boulder hmF1",
         "type": "scatter",
         "x": [
          "2019-10-01 05:20:00+00:00",
          "2019-10-01 05:40:00+00:00",
          "2019-10-01 05:45:00+00:00",
          "2019-10-01 06:00:00+00:00",
          "2019-10-01 06:10:00+00:00",
          "2019-10-01 06:15:00+00:00",
          "2019-10-01 06:20:00+00:00",
          "2019-10-01 06:25:00+00:00",
          "2019-10-01 06:30:00+00:00",
          "2019-10-01 06:35:00+00:00",
          "2019-10-01 06:40:00+00:00",
          "2019-10-01 06:45:00+00:00",
          "2019-10-01 06:50:00+00:00",
          "2019-10-01 06:55:00+00:00",
          "2019-10-01 07:00:00+00:00",
          "2019-10-01 07:05:00+00:00",
          "2019-10-01 07:10:00+00:00",
          "2019-10-01 07:20:00+00:00",
          "2019-10-01 07:25:00+00:00",
          "2019-10-01 07:30:00+00:00",
          "2019-10-01 07:35:00+00:00",
          "2019-10-01 07:40:00+00:00",
          "2019-10-01 07:45:00+00:00",
          "2019-10-01 07:50:00+00:00",
          "2019-10-01 07:55:00+00:00",
          "2019-10-01 08:00:00+00:00",
          "2019-10-01 08:10:00+00:00",
          "2019-10-01 08:20:00+00:00",
          "2019-10-01 08:25:00+00:00",
          "2019-10-01 08:30:00+00:00",
          "2019-10-01 09:10:00+00:00",
          "2019-10-01 09:45:00+00:00",
          "2019-10-01 10:45:00+00:00",
          "2019-10-01 11:15:00+00:00",
          "2019-10-01 11:20:00+00:00",
          "2019-10-01 11:30:00+00:00",
          "2019-10-01 11:40:00+00:00",
          "2019-10-01 11:50:00+00:00",
          "2019-10-01 11:55:00+00:00",
          "2019-10-01 12:00:00+00:00",
          "2019-10-01 12:05:00+00:00",
          "2019-10-01 12:10:00+00:00",
          "2019-10-01 12:15:00+00:00",
          "2019-10-01 12:20:00+00:00",
          "2019-10-01 12:25:00+00:00",
          "2019-10-01 12:40:00+00:00",
          "2019-10-01 12:45:00+00:00",
          "2019-10-01 12:50:00+00:00",
          "2019-10-01 12:55:00+00:00",
          "2019-10-01 13:05:00+00:00",
          "2019-10-01 13:10:00+00:00",
          "2019-10-01 13:15:00+00:00",
          "2019-10-01 13:20:00+00:00",
          "2019-10-01 13:25:00+00:00",
          "2019-10-01 13:30:00+00:00",
          "2019-10-01 13:35:00+00:00",
          "2019-10-01 13:40:00+00:00",
          "2019-10-01 13:45:00+00:00",
          "2019-10-01 13:50:00+00:00",
          "2019-10-01 13:55:00+00:00",
          "2019-10-01 14:00:00+00:00",
          "2019-10-01 14:05:00+00:00",
          "2019-10-01 14:10:00+00:00",
          "2019-10-01 14:15:00+00:00",
          "2019-10-01 14:20:00+00:00",
          "2019-10-01 14:25:00+00:00",
          "2019-10-01 14:30:00+00:00",
          "2019-10-01 14:35:00+00:00",
          "2019-10-01 14:40:00+00:00",
          "2019-10-01 14:45:00+00:00",
          "2019-10-01 14:50:00+00:00",
          "2019-10-01 15:00:00+00:00",
          "2019-10-01 15:05:00+00:00",
          "2019-10-01 15:10:00+00:00",
          "2019-10-01 14:15:05+00:00",
          "2019-10-01 14:30:05+00:00",
          "2019-10-01 14:35:05+00:00",
          "2019-10-01 14:40:05+00:00",
          "2019-10-01 14:45:05+00:00",
          "2019-10-01 14:50:05+00:00",
          "2019-10-01 14:55:05+00:00",
          "2019-10-01 15:00:05+00:00",
          "2019-10-01 15:05:05+00:00",
          "2019-10-01 15:10:05+00:00",
          "2019-10-01 15:15:05+00:00",
          "2019-10-01 15:20:05+00:00",
          "2019-10-01 15:25:05+00:00",
          "2019-10-01 15:30:05+00:00",
          "2019-10-01 15:35:05+00:00",
          "2019-10-01 15:40:05+00:00",
          "2019-10-01 15:45:05+00:00",
          "2019-10-01 15:50:05+00:00",
          "2019-10-01 15:55:05+00:00",
          "2019-10-01 16:00:05+00:00",
          "2019-10-01 16:05:05+00:00",
          "2019-10-01 16:10:05+00:00",
          "2019-10-01 16:15:05+00:00",
          "2019-10-01 16:20:05+00:00",
          "2019-10-01 16:35:05+00:00",
          "2019-10-01 16:40:05+00:00",
          "2019-10-01 16:50:05+00:00",
          "2019-10-01 16:55:05+00:00",
          "2019-10-01 17:00:05+00:00",
          "2019-10-01 17:05:05+00:00",
          "2019-10-01 17:10:05+00:00",
          "2019-10-01 17:15:05+00:00",
          "2019-10-01 17:20:05+00:00",
          "2019-10-01 17:25:05+00:00",
          "2019-10-01 17:30:05+00:00",
          "2019-10-01 17:35:05+00:00",
          "2019-10-01 17:40:05+00:00",
          "2019-10-01 17:45:05+00:00",
          "2019-10-01 17:50:05+00:00",
          "2019-10-01 17:55:05+00:00",
          "2019-10-01 18:00:05+00:00",
          "2019-10-01 18:05:05+00:00",
          "2019-10-01 18:10:05+00:00",
          "2019-10-01 18:15:05+00:00",
          "2019-10-01 18:20:05+00:00",
          "2019-10-01 18:25:05+00:00",
          "2019-10-01 18:30:05+00:00",
          "2019-10-01 18:35:05+00:00",
          "2019-10-01 18:40:05+00:00",
          "2019-10-01 18:45:05+00:00",
          "2019-10-01 18:50:05+00:00",
          "2019-10-01 18:55:05+00:00",
          "2019-10-01 19:00:05+00:00",
          "2019-10-01 19:05:05+00:00",
          "2019-10-01 19:10:05+00:00",
          "2019-10-01 19:15:05+00:00",
          "2019-10-01 19:20:05+00:00",
          "2019-10-01 19:25:05+00:00",
          "2019-10-01 19:30:05+00:00",
          "2019-10-01 19:35:05+00:00",
          "2019-10-01 19:40:05+00:00",
          "2019-10-01 19:45:05+00:00",
          "2019-10-01 19:50:05+00:00",
          "2019-10-01 19:55:05+00:00",
          "2019-10-01 20:00:05+00:00",
          "2019-10-01 20:05:05+00:00",
          "2019-10-01 20:10:05+00:00",
          "2019-10-01 20:15:05+00:00",
          "2019-10-01 20:20:05+00:00",
          "2019-10-01 20:25:05+00:00",
          "2019-10-01 20:30:05+00:00",
          "2019-10-01 20:35:05+00:00",
          "2019-10-01 20:40:05+00:00",
          "2019-10-01 20:45:05+00:00",
          "2019-10-01 20:50:05+00:00",
          "2019-10-01 20:55:05+00:00",
          "2019-10-01 21:00:05+00:00",
          "2019-10-01 21:05:05+00:00",
          "2019-10-01 21:10:05+00:00",
          "2019-10-01 21:20:05+00:00",
          "2019-10-01 21:25:05+00:00",
          "2019-10-01 21:30:05+00:00",
          "2019-10-01 21:35:05+00:00",
          "2019-10-01 21:40:05+00:00",
          "2019-10-01 21:45:05+00:00",
          "2019-10-01 21:50:05+00:00",
          "2019-10-01 21:55:05+00:00",
          "2019-10-01 22:00:05+00:00",
          "2019-10-01 22:05:05+00:00",
          "2019-10-01 22:10:05+00:00",
          "2019-10-01 22:15:05+00:00",
          "2019-10-01 22:20:05+00:00",
          "2019-10-01 22:30:05+00:00",
          "2019-10-01 22:40:05+00:00",
          "2019-10-01 22:45:05+00:00",
          "2019-10-01 22:50:05+00:00",
          "2019-10-01 16:25:05+00:00",
          "2019-10-01 16:30:05+00:00",
          "2019-10-01 16:45:05+00:00",
          "2019-10-01 21:15:05+00:00",
          "2019-10-01 22:25:05+00:00",
          "2019-10-01 22:35:05+00:00",
          "2019-10-01 22:55:05+00:00",
          "2019-10-01 23:00:05+00:00",
          "2019-10-01 23:25:05+00:00",
          "2019-10-01 23:40:05+00:00"
         ],
         "y": [
          null,
          null,
          null,
          null,
          null,
          null,
          null,
          null,
          null,
          null,
          null,
          null,
          null,
          null,
          null,
          null,
          null,
          null,
          null,
          null,
          null,
          null,
          null,
          null,
          null,
          null,
          null,
          null,
          null,
          null,
          null,
          null,
          null,
          null,
          null,
          null,
          null,
          null,
          null,
          null,
          null,
          null,
          null,
          null,
          null,
          null,
          null,
          null,
          null,
          null,
          null,
          null,
          null,
          null,
          null,
          null,
          null,
          null,
          null,
          null,
          null,
          null,
          null,
          null,
          null,
          null,
          null,
          null,
          null,
          null,
          null,
          null,
          null,
          null,
          null,
          null,
          189.3,
          null,
          186.8,
          184.8,
          182.8,
          177.8,
          null,
          200.2,
          189.7,
          192.9,
          183.1,
          187.3,
          185.5,
          187.4,
          204.8,
          176.8,
          185.1,
          179.9,
          179.5,
          187.7,
          176.8,
          172.4,
          168.5,
          173.4,
          185.2,
          178.5,
          178.4,
          158.7,
          163.2,
          157.4,
          null,
          175.5,
          null,
          165.4,
          184.6,
          180,
          166.8,
          null,
          null,
          174.7,
          189,
          177.6,
          168.4,
          175.2,
          169.7,
          174.3,
          171.6,
          166.3,
          null,
          170.7,
          181.5,
          162.8,
          178.2,
          149.3,
          170.4,
          170.7,
          171.2,
          170.5,
          173,
          172,
          173.7,
          226.7,
          171.4,
          174.2,
          172.9,
          180.6,
          177.7,
          166.7,
          175.5,
          153.5,
          148.2,
          170,
          173.8,
          174.3,
          166.6,
          163.6,
          153.3,
          null,
          172.4,
          null,
          null,
          185,
          200.4,
          175.2,
          185.3,
          187,
          184.3,
          190.2,
          null,
          179.6,
          180.1,
          172.4,
          184.8,
          182.2,
          177.2,
          184.5,
          197,
          150.5,
          176.5,
          185.5,
          178.9,
          164.7,
          174.7,
          180.3
         ]
        },
        {
         "marker": {
          "color": "LightCoral",
          "size": 4
         },
         "mode": "markers",
         "name": "Boulder hmE",
         "type": "scatter",
         "x": [
          "2019-10-01 13:40:00+00:00",
          "2019-10-01 13:45:00+00:00",
          "2019-10-01 13:50:00+00:00",
          "2019-10-01 13:55:00+00:00",
          "2019-10-01 14:00:00+00:00",
          "2019-10-01 14:05:00+00:00",
          "2019-10-01 14:10:00+00:00",
          "2019-10-01 14:15:00+00:00",
          "2019-10-01 14:20:00+00:00",
          "2019-10-01 14:25:00+00:00",
          "2019-10-01 14:30:00+00:00",
          "2019-10-01 14:35:00+00:00",
          "2019-10-01 14:40:00+00:00",
          "2019-10-01 14:45:00+00:00",
          "2019-10-01 14:50:00+00:00",
          "2019-10-01 14:55:00+00:00",
          "2019-10-01 15:00:00+00:00",
          "2019-10-01 15:05:00+00:00",
          "2019-10-01 15:10:00+00:00",
          "2019-10-01 15:15:00+00:00",
          "2019-10-01 15:20:00+00:00",
          "2019-10-01 15:25:00+00:00",
          "2019-10-01 15:30:00+00:00",
          "2019-10-01 15:35:00+00:00",
          "2019-10-01 15:40:00+00:00",
          "2019-10-01 15:45:00+00:00",
          "2019-10-01 15:50:00+00:00",
          "2019-10-01 15:55:00+00:00",
          "2019-10-01 16:00:00+00:00",
          "2019-10-01 16:05:00+00:00",
          "2019-10-01 16:10:00+00:00",
          "2019-10-01 16:15:00+00:00",
          "2019-10-01 16:20:00+00:00",
          "2019-10-01 16:25:00+00:00",
          "2019-10-01 16:30:00+00:00",
          "2019-10-01 16:35:00+00:00",
          "2019-10-01 16:40:00+00:00",
          "2019-10-01 16:45:00+00:00",
          "2019-10-01 16:50:00+00:00",
          "2019-10-01 16:55:00+00:00",
          "2019-10-01 17:00:00+00:00",
          "2019-10-01 17:05:00+00:00",
          "2019-10-01 17:10:00+00:00",
          "2019-10-01 17:15:00+00:00",
          "2019-10-01 17:20:00+00:00",
          "2019-10-01 17:25:00+00:00",
          "2019-10-01 17:30:00+00:00",
          "2019-10-01 17:35:00+00:00",
          "2019-10-01 17:40:00+00:00",
          "2019-10-01 17:45:00+00:00",
          "2019-10-01 17:50:00+00:00",
          "2019-10-01 17:55:00+00:00",
          "2019-10-01 18:00:00+00:00",
          "2019-10-01 18:05:00+00:00",
          "2019-10-01 18:10:00+00:00",
          "2019-10-01 18:15:00+00:00",
          "2019-10-01 18:20:00+00:00",
          "2019-10-01 18:25:00+00:00",
          "2019-10-01 18:30:00+00:00",
          "2019-10-01 18:35:00+00:00",
          "2019-10-01 18:40:00+00:00",
          "2019-10-01 18:45:00+00:00",
          "2019-10-01 18:50:00+00:00",
          "2019-10-01 18:55:00+00:00",
          "2019-10-01 19:00:00+00:00",
          "2019-10-01 19:05:00+00:00",
          "2019-10-01 19:10:00+00:00",
          "2019-10-01 19:15:00+00:00",
          "2019-10-01 19:20:00+00:00",
          "2019-10-01 19:25:00+00:00",
          "2019-10-01 19:30:00+00:00",
          "2019-10-01 19:35:00+00:00",
          "2019-10-01 19:40:00+00:00",
          "2019-10-01 19:45:00+00:00",
          "2019-10-01 19:50:00+00:00",
          "2019-10-01 19:55:00+00:00",
          "2019-10-01 20:00:00+00:00",
          "2019-10-01 20:05:00+00:00",
          "2019-10-01 20:10:00+00:00",
          "2019-10-01 20:15:00+00:00",
          "2019-10-01 20:20:00+00:00",
          "2019-10-01 20:25:00+00:00",
          "2019-10-01 20:30:00+00:00",
          "2019-10-01 20:35:00+00:00",
          "2019-10-01 20:40:00+00:00",
          "2019-10-01 20:45:00+00:00",
          "2019-10-01 20:50:00+00:00",
          "2019-10-01 20:55:00+00:00",
          "2019-10-01 21:00:00+00:00",
          "2019-10-01 21:05:00+00:00",
          "2019-10-01 21:10:00+00:00",
          "2019-10-01 21:15:00+00:00",
          "2019-10-01 21:20:00+00:00",
          "2019-10-01 21:25:00+00:00",
          "2019-10-01 21:30:00+00:00",
          "2019-10-01 21:35:00+00:00",
          "2019-10-01 21:40:00+00:00",
          "2019-10-01 21:45:00+00:00",
          "2019-10-01 21:50:00+00:00",
          "2019-10-01 21:55:00+00:00",
          "2019-10-01 22:00:00+00:00",
          "2019-10-01 22:05:00+00:00",
          "2019-10-01 22:10:00+00:00",
          "2019-10-01 22:15:00+00:00",
          "2019-10-01 22:20:00+00:00",
          "2019-10-01 22:25:00+00:00",
          "2019-10-01 22:30:00+00:00",
          "2019-10-01 22:35:00+00:00",
          "2019-10-01 22:40:00+00:00",
          "2019-10-01 22:45:00+00:00",
          "2019-10-01 22:50:00+00:00",
          "2019-10-01 22:55:00+00:00",
          "2019-10-01 23:00:00+00:00",
          "2019-10-01 23:05:00+00:00",
          "2019-10-01 23:10:00+00:00",
          "2019-10-01 23:15:00+00:00",
          "2019-10-01 23:20:00+00:00",
          "2019-10-01 23:25:00+00:00",
          "2019-10-01 23:30:00+00:00",
          "2019-10-01 23:35:00+00:00",
          "2019-10-01 23:40:00+00:00",
          "2019-10-01 23:45:00+00:00",
          "2019-10-01 23:50:00+00:00",
          "2019-10-01 23:55:00+00:00",
          "2019-10-02 00:00:00+00:00",
          "2019-10-01 13:35:05+00:00",
          "2019-10-01 13:40:05+00:00",
          "2019-10-01 13:45:05+00:00",
          "2019-10-01 13:50:05+00:00",
          "2019-10-01 13:55:05+00:00",
          "2019-10-01 14:00:05+00:00",
          "2019-10-01 14:05:05+00:00",
          "2019-10-01 14:10:05+00:00",
          "2019-10-01 14:15:05+00:00",
          "2019-10-01 14:20:05+00:00",
          "2019-10-01 14:25:05+00:00",
          "2019-10-01 14:30:05+00:00",
          "2019-10-01 14:35:05+00:00",
          "2019-10-01 14:40:05+00:00",
          "2019-10-01 14:45:05+00:00",
          "2019-10-01 14:50:05+00:00",
          "2019-10-01 14:55:05+00:00",
          "2019-10-01 15:00:05+00:00",
          "2019-10-01 15:05:05+00:00",
          "2019-10-01 15:10:05+00:00",
          "2019-10-01 15:15:05+00:00",
          "2019-10-01 15:20:05+00:00",
          "2019-10-01 15:25:05+00:00",
          "2019-10-01 15:30:05+00:00",
          "2019-10-01 15:35:05+00:00",
          "2019-10-01 15:40:05+00:00",
          "2019-10-01 15:45:05+00:00",
          "2019-10-01 15:50:05+00:00",
          "2019-10-01 15:55:05+00:00",
          "2019-10-01 16:00:05+00:00",
          "2019-10-01 16:05:05+00:00",
          "2019-10-01 16:10:05+00:00",
          "2019-10-01 16:15:05+00:00",
          "2019-10-01 16:20:05+00:00",
          "2019-10-01 16:25:05+00:00",
          "2019-10-01 16:30:05+00:00",
          "2019-10-01 16:35:05+00:00",
          "2019-10-01 16:40:05+00:00",
          "2019-10-01 16:45:05+00:00",
          "2019-10-01 16:50:05+00:00",
          "2019-10-01 16:55:05+00:00",
          "2019-10-01 17:00:05+00:00",
          "2019-10-01 17:05:05+00:00",
          "2019-10-01 17:10:05+00:00",
          "2019-10-01 17:15:05+00:00",
          "2019-10-01 17:20:05+00:00",
          "2019-10-01 17:25:05+00:00",
          "2019-10-01 17:30:05+00:00",
          "2019-10-01 17:35:05+00:00",
          "2019-10-01 17:40:05+00:00",
          "2019-10-01 17:45:05+00:00",
          "2019-10-01 17:50:05+00:00",
          "2019-10-01 17:55:05+00:00",
          "2019-10-01 18:00:05+00:00",
          "2019-10-01 18:05:05+00:00",
          "2019-10-01 18:10:05+00:00",
          "2019-10-01 18:15:05+00:00",
          "2019-10-01 18:20:05+00:00",
          "2019-10-01 18:25:05+00:00",
          "2019-10-01 18:30:05+00:00",
          "2019-10-01 18:35:05+00:00",
          "2019-10-01 18:40:05+00:00",
          "2019-10-01 18:45:05+00:00",
          "2019-10-01 18:50:05+00:00",
          "2019-10-01 18:55:05+00:00",
          "2019-10-01 19:00:05+00:00",
          "2019-10-01 19:05:05+00:00",
          "2019-10-01 19:10:05+00:00",
          "2019-10-01 19:15:05+00:00",
          "2019-10-01 19:20:05+00:00",
          "2019-10-01 19:25:05+00:00",
          "2019-10-01 19:30:05+00:00",
          "2019-10-01 19:35:05+00:00",
          "2019-10-01 19:40:05+00:00",
          "2019-10-01 19:45:05+00:00",
          "2019-10-01 19:50:05+00:00",
          "2019-10-01 19:55:05+00:00",
          "2019-10-01 20:00:05+00:00",
          "2019-10-01 20:05:05+00:00",
          "2019-10-01 20:10:05+00:00",
          "2019-10-01 20:15:05+00:00",
          "2019-10-01 20:20:05+00:00",
          "2019-10-01 20:25:05+00:00",
          "2019-10-01 20:30:05+00:00",
          "2019-10-01 20:35:05+00:00",
          "2019-10-01 20:40:05+00:00",
          "2019-10-01 20:45:05+00:00",
          "2019-10-01 20:50:05+00:00",
          "2019-10-01 20:55:05+00:00",
          "2019-10-01 21:00:05+00:00",
          "2019-10-01 21:05:05+00:00",
          "2019-10-01 21:10:05+00:00",
          "2019-10-01 21:15:05+00:00",
          "2019-10-01 21:20:05+00:00",
          "2019-10-01 21:25:05+00:00",
          "2019-10-01 21:30:05+00:00",
          "2019-10-01 21:35:05+00:00",
          "2019-10-01 21:40:05+00:00",
          "2019-10-01 21:45:05+00:00",
          "2019-10-01 21:50:05+00:00",
          "2019-10-01 21:55:05+00:00",
          "2019-10-01 22:00:05+00:00",
          "2019-10-01 22:05:05+00:00",
          "2019-10-01 22:10:05+00:00",
          "2019-10-01 22:15:05+00:00",
          "2019-10-01 22:20:05+00:00",
          "2019-10-01 22:25:05+00:00",
          "2019-10-01 22:30:05+00:00",
          "2019-10-01 22:35:05+00:00",
          "2019-10-01 22:40:05+00:00",
          "2019-10-01 22:45:05+00:00",
          "2019-10-01 22:50:05+00:00",
          "2019-10-01 22:55:05+00:00",
          "2019-10-01 23:00:05+00:00",
          "2019-10-01 23:05:05+00:00",
          "2019-10-01 23:10:05+00:00",
          "2019-10-01 23:15:05+00:00",
          "2019-10-01 23:20:05+00:00",
          "2019-10-01 23:25:05+00:00",
          "2019-10-01 23:30:05+00:00",
          "2019-10-01 23:35:05+00:00",
          "2019-10-01 23:40:05+00:00",
          "2019-10-01 23:45:05+00:00",
          "2019-10-01 23:50:05+00:00",
          "2019-10-01 23:55:05+00:00"
         ],
         "y": [
          null,
          null,
          null,
          null,
          null,
          null,
          null,
          null,
          null,
          null,
          null,
          null,
          null,
          null,
          null,
          null,
          null,
          null,
          null,
          null,
          null,
          null,
          null,
          null,
          null,
          null,
          null,
          null,
          null,
          null,
          null,
          null,
          null,
          null,
          null,
          null,
          null,
          null,
          null,
          null,
          null,
          null,
          null,
          null,
          null,
          null,
          null,
          null,
          null,
          null,
          null,
          null,
          null,
          null,
          null,
          null,
          null,
          null,
          null,
          null,
          null,
          null,
          null,
          null,
          null,
          null,
          null,
          null,
          null,
          null,
          null,
          null,
          null,
          null,
          null,
          null,
          null,
          null,
          null,
          null,
          null,
          null,
          null,
          null,
          null,
          null,
          null,
          null,
          null,
          null,
          null,
          null,
          null,
          null,
          null,
          null,
          null,
          null,
          null,
          null,
          null,
          null,
          null,
          null,
          null,
          null,
          null,
          null,
          null,
          null,
          null,
          null,
          null,
          null,
          null,
          null,
          null,
          null,
          null,
          null,
          null,
          null,
          null,
          null,
          null,
          110,
          92.5,
          97.7,
          99.8,
          95,
          111.2,
          98,
          102.2,
          99.8,
          99.9,
          98.1,
          103.1,
          100.1,
          100.1,
          99,
          106.5,
          98.5,
          98,
          98,
          100.2,
          100.2,
          102.8,
          103.1,
          100.9,
          103.1,
          104.1,
          101,
          103.2,
          103.4,
          103.1,
          104.4,
          106.3,
          105.3,
          103.2,
          105.3,
          103.2,
          105.3,
          103.3,
          107.6,
          103.4,
          105.5,
          103.5,
          105.5,
          105.5,
          105.5,
          106.2,
          106.2,
          101.9,
          105.7,
          103.5,
          105.5,
          103.5,
          103.5,
          106.2,
          105.5,
          108.6,
          103.4,
          110,
          105.9,
          103.6,
          103.5,
          110,
          102.8,
          102.9,
          110,
          103.1,
          110,
          108.6,
          108.2,
          107.6,
          109.4,
          104.4,
          112.9,
          110.3,
          110,
          102.9,
          109.8,
          104.3,
          104.3,
          106.6,
          100.2,
          101.7,
          104.7,
          104.8,
          106.5,
          105.8,
          102.5,
          104.7,
          104.7,
          105.5,
          105.2,
          107.2,
          105.7,
          105.2,
          105.6,
          103.9,
          103.8,
          105.6,
          105.3,
          103.4,
          102.4,
          104.2,
          104,
          104.3,
          101.5,
          102.2,
          104,
          102.2,
          103.7,
          103.6,
          105.1,
          104.9,
          108.1,
          104,
          106.1,
          105,
          112,
          103.5,
          112.1,
          108.3,
          109.4,
          110,
          114.4,
          110.9,
          111.7
         ]
        },
        {
         "line": {
          "color": "#F46C14",
          "shape": "spline"
         },
         "marker": {
          "size": 4
         },
         "mode": "lines+markers",
         "name": "2F Path Height Estimation",
         "type": "scatter",
         "x": [
          "2019-10-01T12:03:48.600000",
          "2019-10-01T12:07:36.480000",
          "2019-10-01T12:11:24.360000",
          "2019-10-01T12:19:00.120000",
          "2019-10-01T12:28:07.032000",
          "2019-10-01T12:36:28.368000",
          "2019-10-01T12:44:04.128000",
          "2019-10-01T12:54:42.192000",
          "2019-10-01T13:08:22.560000",
          "2019-10-01T13:22:02.928000",
          "2019-10-01T13:36:28.872000",
          "2019-10-01T13:46:21.360000",
          "2019-10-01T13:54:42.696000",
          "2019-10-01T14:03:04.032000",
          "2019-10-01T14:08:23.064000",
          "2019-10-01T14:22:49.008000",
          "2019-10-01T14:34:12.648000",
          "2019-10-01T14:51:40.896000",
          "2019-10-01T15:00:02.232000",
          "2019-10-01T15:00:02.232000",
          "2019-10-01T15:00:02.232000",
          "2019-10-01T15:00:02.232000",
          "2019-10-01T15:00:02.232000",
          "2019-10-01T15:00:02.232000"
         ],
         "y": [
          277.99387007751807,
          272.7413511851249,
          261.6369167574454,
          246.78748188654635,
          227.01616059862846,
          203.27059747497086,
          174.7946039310212,
          140.38360707861187,
          106.97465580549732,
          72.7040035602744,
          33.05920908763929,
          null,
          null,
          null,
          null,
          null,
          null,
          null,
          null,
          null,
          null,
          null,
          null,
          null
         ]
        },
        {
         "line": {
          "color": "#0000ff",
          "shape": "spline"
         },
         "marker": {
          "size": 4
         },
         "mode": "lines+markers",
         "name": "1F Path Height Estimation",
         "type": "scatter",
         "x": [
          "2019-10-01T09:59:59.712000",
          "2019-10-01T10:03:47.592000",
          "2019-10-01T10:06:49.896000",
          "2019-10-01T10:14:25.656000",
          "2019-10-01T10:19:44.688000",
          "2019-10-01T10:23:32.568000",
          "2019-10-01T10:26:34.872000",
          "2019-10-01T10:30:22.752000",
          "2019-10-01T10:37:58.512000",
          "2019-10-01T10:42:31.968000",
          "2019-10-01T10:45:34.272000",
          "2019-10-01T10:47:51",
          "2019-10-01T10:50:53.304000",
          "2019-10-01T10:56:12.336000",
          "2019-10-01T10:59:14.640000",
          "2019-10-01T11:01:31.368000",
          "2019-10-01T11:05:19.248000",
          "2019-10-01T11:07:35.976000",
          "2019-10-01T11:11:23.856000",
          "2019-10-01T11:15:57.312000",
          "2019-10-01T11:24:18.648000",
          "2019-10-01T11:30:23.256000",
          "2019-10-01T11:34:11.136000",
          "2019-10-01T11:38:44.592000",
          "2019-10-01T11:44:49.200000",
          "2019-10-01T11:50:08.232000",
          "2019-10-01T11:53:56.112000",
          "2019-10-01T12:00:46.296000",
          "2019-10-01T12:08:22.056000",
          "2019-10-01T12:13:41.088000",
          "2019-10-01T12:19:45.696000",
          "2019-10-01T12:25:04.728000",
          "2019-10-01T12:34:11.639999",
          "2019-10-01T12:41:47.400000",
          "2019-10-01T12:44:49.704000",
          "2019-10-01T13:00:46.800000",
          "2019-10-01T13:03:03.528000",
          "2019-10-01T13:06:05.832000",
          "2019-10-01T13:09:08.136000",
          "2019-10-01T13:12:56.016000",
          "2019-10-01T13:17:29.472000",
          "2019-10-01T13:39:31.176000",
          "2019-10-01T13:44:04.632000",
          "2019-10-01T13:53:11.544000",
          "2019-10-01T14:03:04.032000",
          "2019-10-01T14:10:39.792000",
          "2019-10-01T14:15:58.824000",
          "2019-10-01T14:21:17.856000",
          "2019-10-01T14:36:29.376000",
          "2019-10-01T14:42:33.984000",
          "2019-10-01T14:50:55.320000",
          "2019-10-01T15:00:02.232000"
         ],
         "y": [
          293.68284565033144,
          309.3037455983411,
          320.74737474982334,
          328.3829766761334,
          327.1970699965269,
          322.4723987924,
          317.09111770767225,
          314.0607686213951,
          318.25276496147006,
          330.0223012544606,
          349.3035562692774,
          368.3120007394774,
          385.0500543879584,
          389.6476529044173,
          390.14213592042404,
          387.57107711175985,
          383.43992862320806,
          377.70995727601024,
          374.02308555089525,
          372.95307158566703,
          376.0920688745034,
          379.21119928418995,
          387.4614887150855,
          398.6006048994752,
          406.5545259580205,
          414.3958503712834,
          424.0523373695657,
          428.33850549528285,
          424.0230315102385,
          414.3362545369813,
          396.4821739619263,
          376.4399528893414,
          346.7023708498413,
          315.99456742909126,
          283.92906933581924,
          260.72153544178724,
          238.63499464871265,
          213.71398422695918,
          189.62059923671035,
          163.3636562925912,
          134.9437129673402,
          105.83267450342552,
          70.25544605915769,
          null,
          null,
          null,
          null,
          null,
          null,
          null,
          null,
          null
         ]
        },
        {
         "line": {
          "color": "#0f0f0f",
          "shape": "spline"
         },
         "marker": {
          "size": 4
         },
         "mode": "lines+markers",
         "name": "E Path Height Estimation",
         "type": "scatter",
         "x": [
          "2019-10-01T12:41:01.824000",
          "2019-10-01T13:29:38.688000",
          "2019-10-01T13:53:11.544000",
          "2019-10-01T14:03:04.032000",
          "2019-10-01T14:19:01.128000",
          "2019-10-01T14:34:12.648000",
          "2019-10-01T14:48:38.592000",
          "2019-10-01T14:53:12.048000",
          "2019-10-01T15:15:13.752000",
          "2019-10-01T15:30:25.272000",
          "2019-10-01T15:44:51.216000",
          "2019-10-01T15:57:00.432000"
         ],
         "y": [
          80.09728079248328,
          84.2549473579632,
          92.07428811024091,
          102.73757773366786,
          112.41434051438499,
          118.42289723716405,
          125.55194568769284,
          133.62952550889307,
          142.50259958915225,
          148.51896953807477,
          153.16251377192776,
          157.67586389627962
         ]
        }
       ],
       "layout": {
        "autosize": true,
        "font": {
         "size": 18
        },
        "legend": {
         "orientation": "h",
         "x": 1,
         "xanchor": "right",
         "y": 1.02,
         "yanchor": "bottom"
        },
        "paper_bgcolor": "rgba(0, 0, 0, 0)",
        "plot_bgcolor": "rgba(0, 0, 0, 0)",
        "template": {
         "data": {
          "bar": [
           {
            "error_x": {
             "color": "#2a3f5f"
            },
            "error_y": {
             "color": "#2a3f5f"
            },
            "marker": {
             "line": {
              "color": "#E5ECF6",
              "width": 0.5
             },
             "pattern": {
              "fillmode": "overlay",
              "size": 10,
              "solidity": 0.2
             }
            },
            "type": "bar"
           }
          ],
          "barpolar": [
           {
            "marker": {
             "line": {
              "color": "#E5ECF6",
              "width": 0.5
             },
             "pattern": {
              "fillmode": "overlay",
              "size": 10,
              "solidity": 0.2
             }
            },
            "type": "barpolar"
           }
          ],
          "carpet": [
           {
            "aaxis": {
             "endlinecolor": "#2a3f5f",
             "gridcolor": "white",
             "linecolor": "white",
             "minorgridcolor": "white",
             "startlinecolor": "#2a3f5f"
            },
            "baxis": {
             "endlinecolor": "#2a3f5f",
             "gridcolor": "white",
             "linecolor": "white",
             "minorgridcolor": "white",
             "startlinecolor": "#2a3f5f"
            },
            "type": "carpet"
           }
          ],
          "choropleth": [
           {
            "colorbar": {
             "outlinewidth": 0,
             "ticks": ""
            },
            "type": "choropleth"
           }
          ],
          "contour": [
           {
            "colorbar": {
             "outlinewidth": 0,
             "ticks": ""
            },
            "colorscale": [
             [
              0,
              "#0d0887"
             ],
             [
              0.1111111111111111,
              "#46039f"
             ],
             [
              0.2222222222222222,
              "#7201a8"
             ],
             [
              0.3333333333333333,
              "#9c179e"
             ],
             [
              0.4444444444444444,
              "#bd3786"
             ],
             [
              0.5555555555555556,
              "#d8576b"
             ],
             [
              0.6666666666666666,
              "#ed7953"
             ],
             [
              0.7777777777777778,
              "#fb9f3a"
             ],
             [
              0.8888888888888888,
              "#fdca26"
             ],
             [
              1,
              "#f0f921"
             ]
            ],
            "type": "contour"
           }
          ],
          "contourcarpet": [
           {
            "colorbar": {
             "outlinewidth": 0,
             "ticks": ""
            },
            "type": "contourcarpet"
           }
          ],
          "heatmap": [
           {
            "colorbar": {
             "outlinewidth": 0,
             "ticks": ""
            },
            "colorscale": [
             [
              0,
              "#0d0887"
             ],
             [
              0.1111111111111111,
              "#46039f"
             ],
             [
              0.2222222222222222,
              "#7201a8"
             ],
             [
              0.3333333333333333,
              "#9c179e"
             ],
             [
              0.4444444444444444,
              "#bd3786"
             ],
             [
              0.5555555555555556,
              "#d8576b"
             ],
             [
              0.6666666666666666,
              "#ed7953"
             ],
             [
              0.7777777777777778,
              "#fb9f3a"
             ],
             [
              0.8888888888888888,
              "#fdca26"
             ],
             [
              1,
              "#f0f921"
             ]
            ],
            "type": "heatmap"
           }
          ],
          "heatmapgl": [
           {
            "colorbar": {
             "outlinewidth": 0,
             "ticks": ""
            },
            "colorscale": [
             [
              0,
              "#0d0887"
             ],
             [
              0.1111111111111111,
              "#46039f"
             ],
             [
              0.2222222222222222,
              "#7201a8"
             ],
             [
              0.3333333333333333,
              "#9c179e"
             ],
             [
              0.4444444444444444,
              "#bd3786"
             ],
             [
              0.5555555555555556,
              "#d8576b"
             ],
             [
              0.6666666666666666,
              "#ed7953"
             ],
             [
              0.7777777777777778,
              "#fb9f3a"
             ],
             [
              0.8888888888888888,
              "#fdca26"
             ],
             [
              1,
              "#f0f921"
             ]
            ],
            "type": "heatmapgl"
           }
          ],
          "histogram": [
           {
            "marker": {
             "pattern": {
              "fillmode": "overlay",
              "size": 10,
              "solidity": 0.2
             }
            },
            "type": "histogram"
           }
          ],
          "histogram2d": [
           {
            "colorbar": {
             "outlinewidth": 0,
             "ticks": ""
            },
            "colorscale": [
             [
              0,
              "#0d0887"
             ],
             [
              0.1111111111111111,
              "#46039f"
             ],
             [
              0.2222222222222222,
              "#7201a8"
             ],
             [
              0.3333333333333333,
              "#9c179e"
             ],
             [
              0.4444444444444444,
              "#bd3786"
             ],
             [
              0.5555555555555556,
              "#d8576b"
             ],
             [
              0.6666666666666666,
              "#ed7953"
             ],
             [
              0.7777777777777778,
              "#fb9f3a"
             ],
             [
              0.8888888888888888,
              "#fdca26"
             ],
             [
              1,
              "#f0f921"
             ]
            ],
            "type": "histogram2d"
           }
          ],
          "histogram2dcontour": [
           {
            "colorbar": {
             "outlinewidth": 0,
             "ticks": ""
            },
            "colorscale": [
             [
              0,
              "#0d0887"
             ],
             [
              0.1111111111111111,
              "#46039f"
             ],
             [
              0.2222222222222222,
              "#7201a8"
             ],
             [
              0.3333333333333333,
              "#9c179e"
             ],
             [
              0.4444444444444444,
              "#bd3786"
             ],
             [
              0.5555555555555556,
              "#d8576b"
             ],
             [
              0.6666666666666666,
              "#ed7953"
             ],
             [
              0.7777777777777778,
              "#fb9f3a"
             ],
             [
              0.8888888888888888,
              "#fdca26"
             ],
             [
              1,
              "#f0f921"
             ]
            ],
            "type": "histogram2dcontour"
           }
          ],
          "mesh3d": [
           {
            "colorbar": {
             "outlinewidth": 0,
             "ticks": ""
            },
            "type": "mesh3d"
           }
          ],
          "parcoords": [
           {
            "line": {
             "colorbar": {
              "outlinewidth": 0,
              "ticks": ""
             }
            },
            "type": "parcoords"
           }
          ],
          "pie": [
           {
            "automargin": true,
            "type": "pie"
           }
          ],
          "scatter": [
           {
            "fillpattern": {
             "fillmode": "overlay",
             "size": 10,
             "solidity": 0.2
            },
            "type": "scatter"
           }
          ],
          "scatter3d": [
           {
            "line": {
             "colorbar": {
              "outlinewidth": 0,
              "ticks": ""
             }
            },
            "marker": {
             "colorbar": {
              "outlinewidth": 0,
              "ticks": ""
             }
            },
            "type": "scatter3d"
           }
          ],
          "scattercarpet": [
           {
            "marker": {
             "colorbar": {
              "outlinewidth": 0,
              "ticks": ""
             }
            },
            "type": "scattercarpet"
           }
          ],
          "scattergeo": [
           {
            "marker": {
             "colorbar": {
              "outlinewidth": 0,
              "ticks": ""
             }
            },
            "type": "scattergeo"
           }
          ],
          "scattergl": [
           {
            "marker": {
             "colorbar": {
              "outlinewidth": 0,
              "ticks": ""
             }
            },
            "type": "scattergl"
           }
          ],
          "scattermapbox": [
           {
            "marker": {
             "colorbar": {
              "outlinewidth": 0,
              "ticks": ""
             }
            },
            "type": "scattermapbox"
           }
          ],
          "scatterpolar": [
           {
            "marker": {
             "colorbar": {
              "outlinewidth": 0,
              "ticks": ""
             }
            },
            "type": "scatterpolar"
           }
          ],
          "scatterpolargl": [
           {
            "marker": {
             "colorbar": {
              "outlinewidth": 0,
              "ticks": ""
             }
            },
            "type": "scatterpolargl"
           }
          ],
          "scatterternary": [
           {
            "marker": {
             "colorbar": {
              "outlinewidth": 0,
              "ticks": ""
             }
            },
            "type": "scatterternary"
           }
          ],
          "surface": [
           {
            "colorbar": {
             "outlinewidth": 0,
             "ticks": ""
            },
            "colorscale": [
             [
              0,
              "#0d0887"
             ],
             [
              0.1111111111111111,
              "#46039f"
             ],
             [
              0.2222222222222222,
              "#7201a8"
             ],
             [
              0.3333333333333333,
              "#9c179e"
             ],
             [
              0.4444444444444444,
              "#bd3786"
             ],
             [
              0.5555555555555556,
              "#d8576b"
             ],
             [
              0.6666666666666666,
              "#ed7953"
             ],
             [
              0.7777777777777778,
              "#fb9f3a"
             ],
             [
              0.8888888888888888,
              "#fdca26"
             ],
             [
              1,
              "#f0f921"
             ]
            ],
            "type": "surface"
           }
          ],
          "table": [
           {
            "cells": {
             "fill": {
              "color": "#EBF0F8"
             },
             "line": {
              "color": "white"
             }
            },
            "header": {
             "fill": {
              "color": "#C8D4E3"
             },
             "line": {
              "color": "white"
             }
            },
            "type": "table"
           }
          ]
         },
         "layout": {
          "annotationdefaults": {
           "arrowcolor": "#2a3f5f",
           "arrowhead": 0,
           "arrowwidth": 1
          },
          "autotypenumbers": "strict",
          "coloraxis": {
           "colorbar": {
            "outlinewidth": 0,
            "ticks": ""
           }
          },
          "colorscale": {
           "diverging": [
            [
             0,
             "#8e0152"
            ],
            [
             0.1,
             "#c51b7d"
            ],
            [
             0.2,
             "#de77ae"
            ],
            [
             0.3,
             "#f1b6da"
            ],
            [
             0.4,
             "#fde0ef"
            ],
            [
             0.5,
             "#f7f7f7"
            ],
            [
             0.6,
             "#e6f5d0"
            ],
            [
             0.7,
             "#b8e186"
            ],
            [
             0.8,
             "#7fbc41"
            ],
            [
             0.9,
             "#4d9221"
            ],
            [
             1,
             "#276419"
            ]
           ],
           "sequential": [
            [
             0,
             "#0d0887"
            ],
            [
             0.1111111111111111,
             "#46039f"
            ],
            [
             0.2222222222222222,
             "#7201a8"
            ],
            [
             0.3333333333333333,
             "#9c179e"
            ],
            [
             0.4444444444444444,
             "#bd3786"
            ],
            [
             0.5555555555555556,
             "#d8576b"
            ],
            [
             0.6666666666666666,
             "#ed7953"
            ],
            [
             0.7777777777777778,
             "#fb9f3a"
            ],
            [
             0.8888888888888888,
             "#fdca26"
            ],
            [
             1,
             "#f0f921"
            ]
           ],
           "sequentialminus": [
            [
             0,
             "#0d0887"
            ],
            [
             0.1111111111111111,
             "#46039f"
            ],
            [
             0.2222222222222222,
             "#7201a8"
            ],
            [
             0.3333333333333333,
             "#9c179e"
            ],
            [
             0.4444444444444444,
             "#bd3786"
            ],
            [
             0.5555555555555556,
             "#d8576b"
            ],
            [
             0.6666666666666666,
             "#ed7953"
            ],
            [
             0.7777777777777778,
             "#fb9f3a"
            ],
            [
             0.8888888888888888,
             "#fdca26"
            ],
            [
             1,
             "#f0f921"
            ]
           ]
          },
          "colorway": [
           "#636efa",
           "#EF553B",
           "#00cc96",
           "#ab63fa",
           "#FFA15A",
           "#19d3f3",
           "#FF6692",
           "#B6E880",
           "#FF97FF",
           "#FECB52"
          ],
          "font": {
           "color": "#2a3f5f"
          },
          "geo": {
           "bgcolor": "white",
           "lakecolor": "white",
           "landcolor": "#E5ECF6",
           "showlakes": true,
           "showland": true,
           "subunitcolor": "white"
          },
          "hoverlabel": {
           "align": "left"
          },
          "hovermode": "closest",
          "mapbox": {
           "style": "light"
          },
          "paper_bgcolor": "white",
          "plot_bgcolor": "#E5ECF6",
          "polar": {
           "angularaxis": {
            "gridcolor": "white",
            "linecolor": "white",
            "ticks": ""
           },
           "bgcolor": "#E5ECF6",
           "radialaxis": {
            "gridcolor": "white",
            "linecolor": "white",
            "ticks": ""
           }
          },
          "scene": {
           "xaxis": {
            "backgroundcolor": "#E5ECF6",
            "gridcolor": "white",
            "gridwidth": 2,
            "linecolor": "white",
            "showbackground": true,
            "ticks": "",
            "zerolinecolor": "white"
           },
           "yaxis": {
            "backgroundcolor": "#E5ECF6",
            "gridcolor": "white",
            "gridwidth": 2,
            "linecolor": "white",
            "showbackground": true,
            "ticks": "",
            "zerolinecolor": "white"
           },
           "zaxis": {
            "backgroundcolor": "#E5ECF6",
            "gridcolor": "white",
            "gridwidth": 2,
            "linecolor": "white",
            "showbackground": true,
            "ticks": "",
            "zerolinecolor": "white"
           }
          },
          "shapedefaults": {
           "line": {
            "color": "#2a3f5f"
           }
          },
          "ternary": {
           "aaxis": {
            "gridcolor": "white",
            "linecolor": "white",
            "ticks": ""
           },
           "baxis": {
            "gridcolor": "white",
            "linecolor": "white",
            "ticks": ""
           },
           "bgcolor": "#E5ECF6",
           "caxis": {
            "gridcolor": "white",
            "linecolor": "white",
            "ticks": ""
           }
          },
          "title": {
           "x": 0.05
          },
          "xaxis": {
           "automargin": true,
           "gridcolor": "white",
           "linecolor": "white",
           "ticks": "",
           "title": {
            "standoff": 15
           },
           "zerolinecolor": "white",
           "zerolinewidth": 2
          },
          "yaxis": {
           "automargin": true,
           "gridcolor": "white",
           "linecolor": "white",
           "ticks": "",
           "title": {
            "standoff": 15
           },
           "zerolinecolor": "white",
           "zerolinewidth": 2
          }
         }
        },
        "xaxis": {
         "anchor": "y",
         "autorange": true,
         "domain": [
          0,
          0.94
         ],
         "gridcolor": "darkgray",
         "linecolor": "black",
         "linewidth": 1,
         "range": [
          "2019-09-30 22:34:33.1447",
          "2019-10-02 01:25:31.8553"
         ],
         "showline": true,
         "title": {
          "text": "Time (UTC)"
         },
         "type": "date"
        },
        "yaxis": {
         "anchor": "x",
         "autorange": true,
         "domain": [
          0,
          1
         ],
         "gridcolor": "darkgray",
         "linecolor": "black",
         "linewidth": 1,
         "range": [
          2.024884163072233,
          459.3728304198499
         ],
         "showline": true,
         "title": {
          "text": "Layer Height (km)"
         },
         "type": "linear"
        },
        "yaxis2": {
         "anchor": "x",
         "gridcolor": "darkgray",
         "linecolor": "black",
         "linewidth": 1,
         "overlaying": "y",
         "showline": true,
         "side": "right"
        }
       }
      },
      "image/png": "[encoded data removed]",
      "text/html": [
       "<div>                            <div id=\"fd788357-b3d0-4778-ab53-8ec7b7643dcd\" class=\"plotly-graph-div\" style=\"height:525px; width:100%;\"></div>            <script type=\"text/javascript\">                require([\"plotly\"], function(Plotly) {                    window.PLOTLYENV=window.PLOTLYENV || {};                                    if (document.getElementById(\"fd788357-b3d0-4778-ab53-8ec7b7643dcd\")) {                    Plotly.newPlot(                        \"fd788357-b3d0-4778-ab53-8ec7b7643dcd\",                        [{\"marker\":{\"color\":\"LightSkyBlue\",\"size\":4},\"mode\":\"markers\",\"name\":\"Boulder hmF2\",\"x\":[\"2019-10-01 00:00:05+00:00\",\"2019-10-01 00:05:05+00:00\",\"2019-10-01 00:10:05+00:00\",\"2019-10-01 00:15:05+00:00\",\"2019-10-01 00:20:05+00:00\",\"2019-10-01 00:25:05+00:00\",\"2019-10-01 00:30:05+00:00\",\"2019-10-01 00:35:05+00:00\",\"2019-10-01 00:40:05+00:00\",\"2019-10-01 00:45:05+00:00\",\"2019-10-01 00:50:05+00:00\",\"2019-10-01 00:55:05+00:00\",\"2019-10-01 01:00:05+00:00\",\"2019-10-01 01:05:05+00:00\",\"2019-10-01 01:10:05+00:00\",\"2019-10-01 01:15:05+00:00\",\"2019-10-01 01:20:05+00:00\",\"2019-10-01 01:25:05+00:00\",\"2019-10-01 01:30:05+00:00\",\"2019-10-01 01:35:05+00:00\",\"2019-10-01 01:40:05+00:00\",\"2019-10-01 01:45:05+00:00\",\"2019-10-01 01:50:05+00:00\",\"2019-10-01 01:55:05+00:00\",\"2019-10-01 02:00:05+00:00\",\"2019-10-01 02:05:05+00:00\",\"2019-10-01 02:10:05+00:00\",\"2019-10-01 02:15:05+00:00\",\"2019-10-01 02:20:05+00:00\",\"2019-10-01 02:25:05+00:00\",\"2019-10-01 02:35:05+00:00\",\"2019-10-01 02:40:05+00:00\",\"2019-10-01 02:45:05+00:00\",\"2019-10-01 02:50:05+00:00\",\"2019-10-01 02:55:05+00:00\",\"2019-10-01 03:05:05+00:00\",\"2019-10-01 03:10:05+00:00\",\"2019-10-01 03:20:05+00:00\",\"2019-10-01 03:25:05+00:00\",\"2019-10-01 03:30:05+00:00\",\"2019-10-01 03:35:05+00:00\",\"2019-10-01 03:40:05+00:00\",\"2019-10-01 03:45:05+00:00\",\"2019-10-01 03:50:05+00:00\",\"2019-10-01 03:55:05+00:00\",\"2019-10-01 04:00:05+00:00\",\"2019-10-01 04:05:05+00:00\",\"2019-10-01 04:10:05+00:00\",\"2019-10-01 04:15:05+00:00\",\"2019-10-01 04:25:05+00:00\",\"2019-10-01 04:30:05+00:00\",\"2019-10-01 04:35:05+00:00\",\"2019-10-01 04:40:05+00:00\",\"2019-10-01 04:45:05+00:00\",\"2019-10-01 04:50:05+00:00\",\"2019-10-01 04:55:05+00:00\",\"2019-10-01 05:00:05+00:00\",\"2019-10-01 05:05:05+00:00\",\"2019-10-01 05:10:05+00:00\",\"2019-10-01 05:15:05+00:00\",\"2019-10-01 05:20:05+00:00\",\"2019-10-01 05:25:05+00:00\",\"2019-10-01 05:30:05+00:00\",\"2019-10-01 05:35:05+00:00\",\"2019-10-01 05:40:05+00:00\",\"2019-10-01 05:45:05+00:00\",\"2019-10-01 05:50:05+00:00\",\"2019-10-01 05:55:05+00:00\",\"2019-10-01 06:00:05+00:00\",\"2019-10-01 06:05:05+00:00\",\"2019-10-01 06:10:05+00:00\",\"2019-10-01 06:15:05+00:00\",\"2019-10-01 06:20:05+00:00\",\"2019-10-01 06:25:05+00:00\",\"2019-10-01 06:30:05+00:00\",\"2019-10-01 06:35:05+00:00\",\"2019-10-01 06:40:05+00:00\",\"2019-10-01 06:45:05+00:00\",\"2019-10-01 06:50:05+00:00\",\"2019-10-01 06:55:05+00:00\",\"2019-10-01 07:00:05+00:00\",\"2019-10-01 07:05:05+00:00\",\"2019-10-01 07:15:05+00:00\",\"2019-10-01 07:20:05+00:00\",\"2019-10-01 07:25:05+00:00\",\"2019-10-01 07:30:05+00:00\",\"2019-10-01 07:35:05+00:00\",\"2019-10-01 07:40:05+00:00\",\"2019-10-01 07:45:05+00:00\",\"2019-10-01 07:50:05+00:00\",\"2019-10-01 07:55:05+00:00\",\"2019-10-01 08:00:05+00:00\",\"2019-10-01 08:05:05+00:00\",\"2019-10-01 08:10:05+00:00\",\"2019-10-01 08:15:05+00:00\",\"2019-10-01 08:20:05+00:00\",\"2019-10-01 08:25:05+00:00\",\"2019-10-01 08:30:05+00:00\",\"2019-10-01 08:35:05+00:00\",\"2019-10-01 08:40:05+00:00\",\"2019-10-01 08:45:05+00:00\",\"2019-10-01 08:50:05+00:00\",\"2019-10-01 08:55:05+00:00\",\"2019-10-01 09:00:05+00:00\",\"2019-10-01 09:05:05+00:00\",\"2019-10-01 09:10:05+00:00\",\"2019-10-01 09:15:05+00:00\",\"2019-10-01 09:20:05+00:00\",\"2019-10-01 09:25:05+00:00\",\"2019-10-01 09:30:05+00:00\",\"2019-10-01 09:35:05+00:00\",\"2019-10-01 09:40:05+00:00\",\"2019-10-01 09:45:05+00:00\",\"2019-10-01 09:50:05+00:00\",\"2019-10-01 09:55:05+00:00\",\"2019-10-01 10:00:05+00:00\",\"2019-10-01 10:05:05+00:00\",\"2019-10-01 10:10:05+00:00\",\"2019-10-01 10:15:05+00:00\",\"2019-10-01 10:20:05+00:00\",\"2019-10-01 10:25:05+00:00\",\"2019-10-01 10:30:05+00:00\",\"2019-10-01 10:35:05+00:00\",\"2019-10-01 10:40:05+00:00\",\"2019-10-01 10:45:05+00:00\",\"2019-10-01 10:50:05+00:00\",\"2019-10-01 10:55:05+00:00\",\"2019-10-01 11:00:05+00:00\",\"2019-10-01 11:05:05+00:00\",\"2019-10-01 11:10:05+00:00\",\"2019-10-01 11:15:05+00:00\",\"2019-10-01 11:20:05+00:00\",\"2019-10-01 11:25:05+00:00\",\"2019-10-01 11:30:05+00:00\",\"2019-10-01 11:35:05+00:00\",\"2019-10-01 11:40:05+00:00\",\"2019-10-01 11:45:05+00:00\",\"2019-10-01 11:50:05+00:00\",\"2019-10-01 11:55:05+00:00\",\"2019-10-01 12:00:05+00:00\",\"2019-10-01 12:05:05+00:00\",\"2019-10-01 12:10:05+00:00\",\"2019-10-01 12:15:05+00:00\",\"2019-10-01 12:20:05+00:00\",\"2019-10-01 12:25:05+00:00\",\"2019-10-01 12:30:05+00:00\",\"2019-10-01 12:35:05+00:00\",\"2019-10-01 12:40:05+00:00\",\"2019-10-01 12:45:05+00:00\",\"2019-10-01 12:50:05+00:00\",\"2019-10-01 12:55:05+00:00\",\"2019-10-01 13:00:05+00:00\",\"2019-10-01 13:05:05+00:00\",\"2019-10-01 13:10:05+00:00\",\"2019-10-01 13:15:05+00:00\",\"2019-10-01 13:20:05+00:00\",\"2019-10-01 13:25:05+00:00\",\"2019-10-01 13:30:05+00:00\",\"2019-10-01 13:35:05+00:00\",\"2019-10-01 13:40:05+00:00\",\"2019-10-01 13:45:05+00:00\",\"2019-10-01 13:50:05+00:00\",\"2019-10-01 13:55:05+00:00\",\"2019-10-01 14:00:05+00:00\",\"2019-10-01 14:05:05+00:00\",\"2019-10-01 14:10:05+00:00\",\"2019-10-01 14:15:05+00:00\",\"2019-10-01 14:20:05+00:00\",\"2019-10-01 14:25:05+00:00\",\"2019-10-01 14:30:05+00:00\",\"2019-10-01 14:35:05+00:00\",\"2019-10-01 14:40:05+00:00\",\"2019-10-01 14:45:05+00:00\",\"2019-10-01 14:50:05+00:00\",\"2019-10-01 14:55:05+00:00\",\"2019-10-01 15:00:05+00:00\",\"2019-10-01 15:05:05+00:00\",\"2019-10-01 15:10:05+00:00\",\"2019-10-01 15:15:05+00:00\",\"2019-10-01 15:20:05+00:00\",\"2019-10-01 15:25:05+00:00\",\"2019-10-01 15:30:05+00:00\",\"2019-10-01 15:35:05+00:00\",\"2019-10-01 15:40:05+00:00\",\"2019-10-01 15:45:05+00:00\",\"2019-10-01 15:50:05+00:00\",\"2019-10-01 15:55:05+00:00\",\"2019-10-01 16:00:05+00:00\",\"2019-10-01 16:05:05+00:00\",\"2019-10-01 16:10:05+00:00\",\"2019-10-01 16:15:05+00:00\",\"2019-10-01 16:20:05+00:00\",\"2019-10-01 16:25:05+00:00\",\"2019-10-01 16:30:05+00:00\",\"2019-10-01 16:35:05+00:00\",\"2019-10-01 16:40:05+00:00\",\"2019-10-01 16:45:05+00:00\",\"2019-10-01 16:50:05+00:00\",\"2019-10-01 16:55:05+00:00\",\"2019-10-01 17:00:05+00:00\",\"2019-10-01 17:05:05+00:00\",\"2019-10-01 17:10:05+00:00\",\"2019-10-01 17:15:05+00:00\",\"2019-10-01 17:20:05+00:00\",\"2019-10-01 17:25:05+00:00\",\"2019-10-01 17:30:05+00:00\",\"2019-10-01 17:35:05+00:00\",\"2019-10-01 17:40:05+00:00\",\"2019-10-01 17:45:05+00:00\",\"2019-10-01 17:50:05+00:00\",\"2019-10-01 17:55:05+00:00\",\"2019-10-01 18:05:05+00:00\",\"2019-10-01 18:10:05+00:00\",\"2019-10-01 18:15:05+00:00\",\"2019-10-01 18:20:05+00:00\",\"2019-10-01 18:25:05+00:00\",\"2019-10-01 18:30:05+00:00\",\"2019-10-01 18:35:05+00:00\",\"2019-10-01 18:40:05+00:00\",\"2019-10-01 18:45:05+00:00\",\"2019-10-01 18:55:05+00:00\",\"2019-10-01 19:00:05+00:00\",\"2019-10-01 19:05:05+00:00\",\"2019-10-01 19:10:05+00:00\",\"2019-10-01 19:15:05+00:00\",\"2019-10-01 19:20:05+00:00\",\"2019-10-01 19:25:05+00:00\",\"2019-10-01 19:30:05+00:00\",\"2019-10-01 19:35:05+00:00\",\"2019-10-01 19:40:05+00:00\",\"2019-10-01 19:45:05+00:00\",\"2019-10-01 19:50:05+00:00\",\"2019-10-01 19:55:05+00:00\",\"2019-10-01 20:00:05+00:00\",\"2019-10-01 20:05:05+00:00\",\"2019-10-01 20:10:05+00:00\",\"2019-10-01 20:15:05+00:00\",\"2019-10-01 20:20:05+00:00\",\"2019-10-01 20:25:05+00:00\",\"2019-10-01 20:30:05+00:00\",\"2019-10-01 20:35:05+00:00\",\"2019-10-01 20:40:05+00:00\",\"2019-10-01 20:45:05+00:00\",\"2019-10-01 20:50:05+00:00\",\"2019-10-01 20:55:05+00:00\",\"2019-10-01 21:00:05+00:00\",\"2019-10-01 21:05:05+00:00\",\"2019-10-01 21:10:05+00:00\",\"2019-10-01 21:15:05+00:00\",\"2019-10-01 21:20:05+00:00\",\"2019-10-01 21:25:05+00:00\",\"2019-10-01 21:30:05+00:00\",\"2019-10-01 21:35:05+00:00\",\"2019-10-01 21:40:05+00:00\",\"2019-10-01 21:45:05+00:00\",\"2019-10-01 21:50:05+00:00\",\"2019-10-01 21:55:05+00:00\",\"2019-10-01 22:00:05+00:00\",\"2019-10-01 22:05:05+00:00\",\"2019-10-01 22:10:05+00:00\",\"2019-10-01 22:20:05+00:00\",\"2019-10-01 22:25:05+00:00\",\"2019-10-01 22:30:05+00:00\",\"2019-10-01 22:35:05+00:00\",\"2019-10-01 22:40:05+00:00\",\"2019-10-01 22:45:05+00:00\",\"2019-10-01 22:50:05+00:00\",\"2019-10-01 22:55:05+00:00\",\"2019-10-01 23:00:05+00:00\",\"2019-10-01 23:05:05+00:00\",\"2019-10-01 23:10:05+00:00\",\"2019-10-01 23:15:05+00:00\",\"2019-10-01 23:20:05+00:00\",\"2019-10-01 23:25:05+00:00\",\"2019-10-01 23:30:05+00:00\",\"2019-10-01 23:35:05+00:00\",\"2019-10-01 23:40:05+00:00\",\"2019-10-01 23:45:05+00:00\",\"2019-10-01 23:50:05+00:00\",\"2019-10-01 23:55:05+00:00\"],\"y\":[223.4,227.3,234.1,231.2,229.6,218.4,222.9,233.9,228.1,228.7,235.9,233.4,236.6,234.4,231.8,242.2,240.5,235.9,240.2,248.4,243.4,238.1,261.9,259.0,263.7,261.9,272.9,282.8,288.4,281.2,296.1,317.2,293.3,291.8,299.5,296.3,297.9,313.6,299.3,285.6,299.0,294.1,282.9,280.3,280.2,279.8,294.7,280.9,276.1,215.4,292.8,294.2,294.8,299.5,296.6,287.9,297.6,288.3,281.8,272.8,273.8,280.9,306.8,305.0,315.1,303.3,305.9,300.6,300.9,304.1,303.8,293.3,294.4,298.7,303.0,292.8,288.6,302.0,302.0,299.9,297.6,289.9,293.0,325.5,287.6,301.0,297.4,306.3,309.0,300.1,306.5,301.0,307.5,302.3,287.8,291.8,287.5,300.4,304.9,311.4,310.9,302.9,294.2,291.1,294.5,301.4,305.3,312.2,305.3,313.8,327.2,303.2,294.3,295.0,290.0,293.6,298.5,301.0,318.8,292.8,302.0,298.6,299.9,288.2,282.2,278.3,281.6,266.2,322.4,296.7,294.0,297.9,307.4,305.7,310.7,299.1,296.5,300.6,301.7,285.7,290.0,297.1,295.8,272.5,278.2,268.7,262.0,257.5,268.0,291.5,282.1,258.5,249.1,252.2,245.0,221.2,240.2,236.6,220.6,231.1,234.5,248.0,268.9,241.3,247.0,253.0,256.7,221.3,243.7,257.1,228.7,230.5,227.4,222.0,219.3,226.2,238.8,247.6,230.6,227.8,232.5,223.8,230.2,250.0,246.0,204.9,233.6,222.6,223.8,227.6,227.9,225.1,228.4,248.8,231.3,226.2,244.8,238.3,226.3,237.3,217.0,211.5,213.6,202.0,222.2,206.8,207.1,213.1,212.5,205.0,212.9,214.5,235.7,221.7,207.0,213.2,201.0,206.9,210.7,213.2,214.7,220.1,218.6,225.4,192.5,206.0,202.5,201.1,205.8,210.6,203.0,213.4,253.1,213.2,214.6,217.7,211.4,215.8,201.0,209.0,190.9,236.3,216.8,208.3,210.2,209.7,210.7,202.4,200.1,240.0,211.7,237.3,244.8,236.4,242.0,231.8,228.7,231.0,227.3,234.0,226.3,227.9,220.5,231.3,222.4,222.3,223.6,247.4,221.7,214.1,223.9,229.4,226.5,221.4,227.2,244.6,242.2,234.6,242.5,235.2],\"type\":\"scatter\"},{\"line\":{\"color\":\"#552DC9\"},\"marker\":{\"color\":\"LightGreen\",\"size\":4},\"mode\":\"markers\",\"name\":\"Boulder hmF1\",\"x\":[\"2019-10-01 05:20:00+00:00\",\"2019-10-01 05:40:00+00:00\",\"2019-10-01 05:45:00+00:00\",\"2019-10-01 06:00:00+00:00\",\"2019-10-01 06:10:00+00:00\",\"2019-10-01 06:15:00+00:00\",\"2019-10-01 06:20:00+00:00\",\"2019-10-01 06:25:00+00:00\",\"2019-10-01 06:30:00+00:00\",\"2019-10-01 06:35:00+00:00\",\"2019-10-01 06:40:00+00:00\",\"2019-10-01 06:45:00+00:00\",\"2019-10-01 06:50:00+00:00\",\"2019-10-01 06:55:00+00:00\",\"2019-10-01 07:00:00+00:00\",\"2019-10-01 07:05:00+00:00\",\"2019-10-01 07:10:00+00:00\",\"2019-10-01 07:20:00+00:00\",\"2019-10-01 07:25:00+00:00\",\"2019-10-01 07:30:00+00:00\",\"2019-10-01 07:35:00+00:00\",\"2019-10-01 07:40:00+00:00\",\"2019-10-01 07:45:00+00:00\",\"2019-10-01 07:50:00+00:00\",\"2019-10-01 07:55:00+00:00\",\"2019-10-01 08:00:00+00:00\",\"2019-10-01 08:10:00+00:00\",\"2019-10-01 08:20:00+00:00\",\"2019-10-01 08:25:00+00:00\",\"2019-10-01 08:30:00+00:00\",\"2019-10-01 09:10:00+00:00\",\"2019-10-01 09:45:00+00:00\",\"2019-10-01 10:45:00+00:00\",\"2019-10-01 11:15:00+00:00\",\"2019-10-01 11:20:00+00:00\",\"2019-10-01 11:30:00+00:00\",\"2019-10-01 11:40:00+00:00\",\"2019-10-01 11:50:00+00:00\",\"2019-10-01 11:55:00+00:00\",\"2019-10-01 12:00:00+00:00\",\"2019-10-01 12:05:00+00:00\",\"2019-10-01 12:10:00+00:00\",\"2019-10-01 12:15:00+00:00\",\"2019-10-01 12:20:00+00:00\",\"2019-10-01 12:25:00+00:00\",\"2019-10-01 12:40:00+00:00\",\"2019-10-01 12:45:00+00:00\",\"2019-10-01 12:50:00+00:00\",\"2019-10-01 12:55:00+00:00\",\"2019-10-01 13:05:00+00:00\",\"2019-10-01 13:10:00+00:00\",\"2019-10-01 13:15:00+00:00\",\"2019-10-01 13:20:00+00:00\",\"2019-10-01 13:25:00+00:00\",\"2019-10-01 13:30:00+00:00\",\"2019-10-01 13:35:00+00:00\",\"2019-10-01 13:40:00+00:00\",\"2019-10-01 13:45:00+00:00\",\"2019-10-01 13:50:00+00:00\",\"2019-10-01 13:55:00+00:00\",\"2019-10-01 14:00:00+00:00\",\"2019-10-01 14:05:00+00:00\",\"2019-10-01 14:10:00+00:00\",\"2019-10-01 14:15:00+00:00\",\"2019-10-01 14:20:00+00:00\",\"2019-10-01 14:25:00+00:00\",\"2019-10-01 14:30:00+00:00\",\"2019-10-01 14:35:00+00:00\",\"2019-10-01 14:40:00+00:00\",\"2019-10-01 14:45:00+00:00\",\"2019-10-01 14:50:00+00:00\",\"2019-10-01 15:00:00+00:00\",\"2019-10-01 15:05:00+00:00\",\"2019-10-01 15:10:00+00:00\",\"2019-10-01 14:15:05+00:00\",\"2019-10-01 14:30:05+00:00\",\"2019-10-01 14:35:05+00:00\",\"2019-10-01 14:40:05+00:00\",\"2019-10-01 14:45:05+00:00\",\"2019-10-01 14:50:05+00:00\",\"2019-10-01 14:55:05+00:00\",\"2019-10-01 15:00:05+00:00\",\"2019-10-01 15:05:05+00:00\",\"2019-10-01 15:10:05+00:00\",\"2019-10-01 15:15:05+00:00\",\"2019-10-01 15:20:05+00:00\",\"2019-10-01 15:25:05+00:00\",\"2019-10-01 15:30:05+00:00\",\"2019-10-01 15:35:05+00:00\",\"2019-10-01 15:40:05+00:00\",\"2019-10-01 15:45:05+00:00\",\"2019-10-01 15:50:05+00:00\",\"2019-10-01 15:55:05+00:00\",\"2019-10-01 16:00:05+00:00\",\"2019-10-01 16:05:05+00:00\",\"2019-10-01 16:10:05+00:00\",\"2019-10-01 16:15:05+00:00\",\"2019-10-01 16:20:05+00:00\",\"2019-10-01 16:35:05+00:00\",\"2019-10-01 16:40:05+00:00\",\"2019-10-01 16:50:05+00:00\",\"2019-10-01 16:55:05+00:00\",\"2019-10-01 17:00:05+00:00\",\"2019-10-01 17:05:05+00:00\",\"2019-10-01 17:10:05+00:00\",\"2019-10-01 17:15:05+00:00\",\"2019-10-01 17:20:05+00:00\",\"2019-10-01 17:25:05+00:00\",\"2019-10-01 17:30:05+00:00\",\"2019-10-01 17:35:05+00:00\",\"2019-10-01 17:40:05+00:00\",\"2019-10-01 17:45:05+00:00\",\"2019-10-01 17:50:05+00:00\",\"2019-10-01 17:55:05+00:00\",\"2019-10-01 18:00:05+00:00\",\"2019-10-01 18:05:05+00:00\",\"2019-10-01 18:10:05+00:00\",\"2019-10-01 18:15:05+00:00\",\"2019-10-01 18:20:05+00:00\",\"2019-10-01 18:25:05+00:00\",\"2019-10-01 18:30:05+00:00\",\"2019-10-01 18:35:05+00:00\",\"2019-10-01 18:40:05+00:00\",\"2019-10-01 18:45:05+00:00\",\"2019-10-01 18:50:05+00:00\",\"2019-10-01 18:55:05+00:00\",\"2019-10-01 19:00:05+00:00\",\"2019-10-01 19:05:05+00:00\",\"2019-10-01 19:10:05+00:00\",\"2019-10-01 19:15:05+00:00\",\"2019-10-01 19:20:05+00:00\",\"2019-10-01 19:25:05+00:00\",\"2019-10-01 19:30:05+00:00\",\"2019-10-01 19:35:05+00:00\",\"2019-10-01 19:40:05+00:00\",\"2019-10-01 19:45:05+00:00\",\"2019-10-01 19:50:05+00:00\",\"2019-10-01 19:55:05+00:00\",\"2019-10-01 20:00:05+00:00\",\"2019-10-01 20:05:05+00:00\",\"2019-10-01 20:10:05+00:00\",\"2019-10-01 20:15:05+00:00\",\"2019-10-01 20:20:05+00:00\",\"2019-10-01 20:25:05+00:00\",\"2019-10-01 20:30:05+00:00\",\"2019-10-01 20:35:05+00:00\",\"2019-10-01 20:40:05+00:00\",\"2019-10-01 20:45:05+00:00\",\"2019-10-01 20:50:05+00:00\",\"2019-10-01 20:55:05+00:00\",\"2019-10-01 21:00:05+00:00\",\"2019-10-01 21:05:05+00:00\",\"2019-10-01 21:10:05+00:00\",\"2019-10-01 21:20:05+00:00\",\"2019-10-01 21:25:05+00:00\",\"2019-10-01 21:30:05+00:00\",\"2019-10-01 21:35:05+00:00\",\"2019-10-01 21:40:05+00:00\",\"2019-10-01 21:45:05+00:00\",\"2019-10-01 21:50:05+00:00\",\"2019-10-01 21:55:05+00:00\",\"2019-10-01 22:00:05+00:00\",\"2019-10-01 22:05:05+00:00\",\"2019-10-01 22:10:05+00:00\",\"2019-10-01 22:15:05+00:00\",\"2019-10-01 22:20:05+00:00\",\"2019-10-01 22:30:05+00:00\",\"2019-10-01 22:40:05+00:00\",\"2019-10-01 22:45:05+00:00\",\"2019-10-01 22:50:05+00:00\",\"2019-10-01 16:25:05+00:00\",\"2019-10-01 16:30:05+00:00\",\"2019-10-01 16:45:05+00:00\",\"2019-10-01 21:15:05+00:00\",\"2019-10-01 22:25:05+00:00\",\"2019-10-01 22:35:05+00:00\",\"2019-10-01 22:55:05+00:00\",\"2019-10-01 23:00:05+00:00\",\"2019-10-01 23:25:05+00:00\",\"2019-10-01 23:40:05+00:00\"],\"y\":[null,null,null,null,null,null,null,null,null,null,null,null,null,null,null,null,null,null,null,null,null,null,null,null,null,null,null,null,null,null,null,null,null,null,null,null,null,null,null,null,null,null,null,null,null,null,null,null,null,null,null,null,null,null,null,null,null,null,null,null,null,null,null,null,null,null,null,null,null,null,null,null,null,null,null,null,189.3,null,186.8,184.8,182.8,177.8,null,200.2,189.7,192.9,183.1,187.3,185.5,187.4,204.8,176.8,185.1,179.9,179.5,187.7,176.8,172.4,168.5,173.4,185.2,178.5,178.4,158.7,163.2,157.4,null,175.5,null,165.4,184.6,180.0,166.8,null,null,174.7,189.0,177.6,168.4,175.2,169.7,174.3,171.6,166.3,null,170.7,181.5,162.8,178.2,149.3,170.4,170.7,171.2,170.5,173.0,172.0,173.7,226.7,171.4,174.2,172.9,180.6,177.7,166.7,175.5,153.5,148.2,170.0,173.8,174.3,166.6,163.6,153.3,null,172.4,null,null,185.0,200.4,175.2,185.3,187.0,184.3,190.2,null,179.6,180.1,172.4,184.8,182.2,177.2,184.5,197.0,150.5,176.5,185.5,178.9,164.7,174.7,180.3],\"type\":\"scatter\"},{\"marker\":{\"color\":\"LightCoral\",\"size\":4},\"mode\":\"markers\",\"name\":\"Boulder hmE\",\"x\":[\"2019-10-01 13:40:00+00:00\",\"2019-10-01 13:45:00+00:00\",\"2019-10-01 13:50:00+00:00\",\"2019-10-01 13:55:00+00:00\",\"2019-10-01 14:00:00+00:00\",\"2019-10-01 14:05:00+00:00\",\"2019-10-01 14:10:00+00:00\",\"2019-10-01 14:15:00+00:00\",\"2019-10-01 14:20:00+00:00\",\"2019-10-01 14:25:00+00:00\",\"2019-10-01 14:30:00+00:00\",\"2019-10-01 14:35:00+00:00\",\"2019-10-01 14:40:00+00:00\",\"2019-10-01 14:45:00+00:00\",\"2019-10-01 14:50:00+00:00\",\"2019-10-01 14:55:00+00:00\",\"2019-10-01 15:00:00+00:00\",\"2019-10-01 15:05:00+00:00\",\"2019-10-01 15:10:00+00:00\",\"2019-10-01 15:15:00+00:00\",\"2019-10-01 15:20:00+00:00\",\"2019-10-01 15:25:00+00:00\",\"2019-10-01 15:30:00+00:00\",\"2019-10-01 15:35:00+00:00\",\"2019-10-01 15:40:00+00:00\",\"2019-10-01 15:45:00+00:00\",\"2019-10-01 15:50:00+00:00\",\"2019-10-01 15:55:00+00:00\",\"2019-10-01 16:00:00+00:00\",\"2019-10-01 16:05:00+00:00\",\"2019-10-01 16:10:00+00:00\",\"2019-10-01 16:15:00+00:00\",\"2019-10-01 16:20:00+00:00\",\"2019-10-01 16:25:00+00:00\",\"2019-10-01 16:30:00+00:00\",\"2019-10-01 16:35:00+00:00\",\"2019-10-01 16:40:00+00:00\",\"2019-10-01 16:45:00+00:00\",\"2019-10-01 16:50:00+00:00\",\"2019-10-01 16:55:00+00:00\",\"2019-10-01 17:00:00+00:00\",\"2019-10-01 17:05:00+00:00\",\"2019-10-01 17:10:00+00:00\",\"2019-10-01 17:15:00+00:00\",\"2019-10-01 17:20:00+00:00\",\"2019-10-01 17:25:00+00:00\",\"2019-10-01 17:30:00+00:00\",\"2019-10-01 17:35:00+00:00\",\"2019-10-01 17:40:00+00:00\",\"2019-10-01 17:45:00+00:00\",\"2019-10-01 17:50:00+00:00\",\"2019-10-01 17:55:00+00:00\",\"2019-10-01 18:00:00+00:00\",\"2019-10-01 18:05:00+00:00\",\"2019-10-01 18:10:00+00:00\",\"2019-10-01 18:15:00+00:00\",\"2019-10-01 18:20:00+00:00\",\"2019-10-01 18:25:00+00:00\",\"2019-10-01 18:30:00+00:00\",\"2019-10-01 18:35:00+00:00\",\"2019-10-01 18:40:00+00:00\",\"2019-10-01 18:45:00+00:00\",\"2019-10-01 18:50:00+00:00\",\"2019-10-01 18:55:00+00:00\",\"2019-10-01 19:00:00+00:00\",\"2019-10-01 19:05:00+00:00\",\"2019-10-01 19:10:00+00:00\",\"2019-10-01 19:15:00+00:00\",\"2019-10-01 19:20:00+00:00\",\"2019-10-01 19:25:00+00:00\",\"2019-10-01 19:30:00+00:00\",\"2019-10-01 19:35:00+00:00\",\"2019-10-01 19:40:00+00:00\",\"2019-10-01 19:45:00+00:00\",\"2019-10-01 19:50:00+00:00\",\"2019-10-01 19:55:00+00:00\",\"2019-10-01 20:00:00+00:00\",\"2019-10-01 20:05:00+00:00\",\"2019-10-01 20:10:00+00:00\",\"2019-10-01 20:15:00+00:00\",\"2019-10-01 20:20:00+00:00\",\"2019-10-01 20:25:00+00:00\",\"2019-10-01 20:30:00+00:00\",\"2019-10-01 20:35:00+00:00\",\"2019-10-01 20:40:00+00:00\",\"2019-10-01 20:45:00+00:00\",\"2019-10-01 20:50:00+00:00\",\"2019-10-01 20:55:00+00:00\",\"2019-10-01 21:00:00+00:00\",\"2019-10-01 21:05:00+00:00\",\"2019-10-01 21:10:00+00:00\",\"2019-10-01 21:15:00+00:00\",\"2019-10-01 21:20:00+00:00\",\"2019-10-01 21:25:00+00:00\",\"2019-10-01 21:30:00+00:00\",\"2019-10-01 21:35:00+00:00\",\"2019-10-01 21:40:00+00:00\",\"2019-10-01 21:45:00+00:00\",\"2019-10-01 21:50:00+00:00\",\"2019-10-01 21:55:00+00:00\",\"2019-10-01 22:00:00+00:00\",\"2019-10-01 22:05:00+00:00\",\"2019-10-01 22:10:00+00:00\",\"2019-10-01 22:15:00+00:00\",\"2019-10-01 22:20:00+00:00\",\"2019-10-01 22:25:00+00:00\",\"2019-10-01 22:30:00+00:00\",\"2019-10-01 22:35:00+00:00\",\"2019-10-01 22:40:00+00:00\",\"2019-10-01 22:45:00+00:00\",\"2019-10-01 22:50:00+00:00\",\"2019-10-01 22:55:00+00:00\",\"2019-10-01 23:00:00+00:00\",\"2019-10-01 23:05:00+00:00\",\"2019-10-01 23:10:00+00:00\",\"2019-10-01 23:15:00+00:00\",\"2019-10-01 23:20:00+00:00\",\"2019-10-01 23:25:00+00:00\",\"2019-10-01 23:30:00+00:00\",\"2019-10-01 23:35:00+00:00\",\"2019-10-01 23:40:00+00:00\",\"2019-10-01 23:45:00+00:00\",\"2019-10-01 23:50:00+00:00\",\"2019-10-01 23:55:00+00:00\",\"2019-10-02 00:00:00+00:00\",\"2019-10-01 13:35:05+00:00\",\"2019-10-01 13:40:05+00:00\",\"2019-10-01 13:45:05+00:00\",\"2019-10-01 13:50:05+00:00\",\"2019-10-01 13:55:05+00:00\",\"2019-10-01 14:00:05+00:00\",\"2019-10-01 14:05:05+00:00\",\"2019-10-01 14:10:05+00:00\",\"2019-10-01 14:15:05+00:00\",\"2019-10-01 14:20:05+00:00\",\"2019-10-01 14:25:05+00:00\",\"2019-10-01 14:30:05+00:00\",\"2019-10-01 14:35:05+00:00\",\"2019-10-01 14:40:05+00:00\",\"2019-10-01 14:45:05+00:00\",\"2019-10-01 14:50:05+00:00\",\"2019-10-01 14:55:05+00:00\",\"2019-10-01 15:00:05+00:00\",\"2019-10-01 15:05:05+00:00\",\"2019-10-01 15:10:05+00:00\",\"2019-10-01 15:15:05+00:00\",\"2019-10-01 15:20:05+00:00\",\"2019-10-01 15:25:05+00:00\",\"2019-10-01 15:30:05+00:00\",\"2019-10-01 15:35:05+00:00\",\"2019-10-01 15:40:05+00:00\",\"2019-10-01 15:45:05+00:00\",\"2019-10-01 15:50:05+00:00\",\"2019-10-01 15:55:05+00:00\",\"2019-10-01 16:00:05+00:00\",\"2019-10-01 16:05:05+00:00\",\"2019-10-01 16:10:05+00:00\",\"2019-10-01 16:15:05+00:00\",\"2019-10-01 16:20:05+00:00\",\"2019-10-01 16:25:05+00:00\",\"2019-10-01 16:30:05+00:00\",\"2019-10-01 16:35:05+00:00\",\"2019-10-01 16:40:05+00:00\",\"2019-10-01 16:45:05+00:00\",\"2019-10-01 16:50:05+00:00\",\"2019-10-01 16:55:05+00:00\",\"2019-10-01 17:00:05+00:00\",\"2019-10-01 17:05:05+00:00\",\"2019-10-01 17:10:05+00:00\",\"2019-10-01 17:15:05+00:00\",\"2019-10-01 17:20:05+00:00\",\"2019-10-01 17:25:05+00:00\",\"2019-10-01 17:30:05+00:00\",\"2019-10-01 17:35:05+00:00\",\"2019-10-01 17:40:05+00:00\",\"2019-10-01 17:45:05+00:00\",\"2019-10-01 17:50:05+00:00\",\"2019-10-01 17:55:05+00:00\",\"2019-10-01 18:00:05+00:00\",\"2019-10-01 18:05:05+00:00\",\"2019-10-01 18:10:05+00:00\",\"2019-10-01 18:15:05+00:00\",\"2019-10-01 18:20:05+00:00\",\"2019-10-01 18:25:05+00:00\",\"2019-10-01 18:30:05+00:00\",\"2019-10-01 18:35:05+00:00\",\"2019-10-01 18:40:05+00:00\",\"2019-10-01 18:45:05+00:00\",\"2019-10-01 18:50:05+00:00\",\"2019-10-01 18:55:05+00:00\",\"2019-10-01 19:00:05+00:00\",\"2019-10-01 19:05:05+00:00\",\"2019-10-01 19:10:05+00:00\",\"2019-10-01 19:15:05+00:00\",\"2019-10-01 19:20:05+00:00\",\"2019-10-01 19:25:05+00:00\",\"2019-10-01 19:30:05+00:00\",\"2019-10-01 19:35:05+00:00\",\"2019-10-01 19:40:05+00:00\",\"2019-10-01 19:45:05+00:00\",\"2019-10-01 19:50:05+00:00\",\"2019-10-01 19:55:05+00:00\",\"2019-10-01 20:00:05+00:00\",\"2019-10-01 20:05:05+00:00\",\"2019-10-01 20:10:05+00:00\",\"2019-10-01 20:15:05+00:00\",\"2019-10-01 20:20:05+00:00\",\"2019-10-01 20:25:05+00:00\",\"2019-10-01 20:30:05+00:00\",\"2019-10-01 20:35:05+00:00\",\"2019-10-01 20:40:05+00:00\",\"2019-10-01 20:45:05+00:00\",\"2019-10-01 20:50:05+00:00\",\"2019-10-01 20:55:05+00:00\",\"2019-10-01 21:00:05+00:00\",\"2019-10-01 21:05:05+00:00\",\"2019-10-01 21:10:05+00:00\",\"2019-10-01 21:15:05+00:00\",\"2019-10-01 21:20:05+00:00\",\"2019-10-01 21:25:05+00:00\",\"2019-10-01 21:30:05+00:00\",\"2019-10-01 21:35:05+00:00\",\"2019-10-01 21:40:05+00:00\",\"2019-10-01 21:45:05+00:00\",\"2019-10-01 21:50:05+00:00\",\"2019-10-01 21:55:05+00:00\",\"2019-10-01 22:00:05+00:00\",\"2019-10-01 22:05:05+00:00\",\"2019-10-01 22:10:05+00:00\",\"2019-10-01 22:15:05+00:00\",\"2019-10-01 22:20:05+00:00\",\"2019-10-01 22:25:05+00:00\",\"2019-10-01 22:30:05+00:00\",\"2019-10-01 22:35:05+00:00\",\"2019-10-01 22:40:05+00:00\",\"2019-10-01 22:45:05+00:00\",\"2019-10-01 22:50:05+00:00\",\"2019-10-01 22:55:05+00:00\",\"2019-10-01 23:00:05+00:00\",\"2019-10-01 23:05:05+00:00\",\"2019-10-01 23:10:05+00:00\",\"2019-10-01 23:15:05+00:00\",\"2019-10-01 23:20:05+00:00\",\"2019-10-01 23:25:05+00:00\",\"2019-10-01 23:30:05+00:00\",\"2019-10-01 23:35:05+00:00\",\"2019-10-01 23:40:05+00:00\",\"2019-10-01 23:45:05+00:00\",\"2019-10-01 23:50:05+00:00\",\"2019-10-01 23:55:05+00:00\"],\"y\":[null,null,null,null,null,null,null,null,null,null,null,null,null,null,null,null,null,null,null,null,null,null,null,null,null,null,null,null,null,null,null,null,null,null,null,null,null,null,null,null,null,null,null,null,null,null,null,null,null,null,null,null,null,null,null,null,null,null,null,null,null,null,null,null,null,null,null,null,null,null,null,null,null,null,null,null,null,null,null,null,null,null,null,null,null,null,null,null,null,null,null,null,null,null,null,null,null,null,null,null,null,null,null,null,null,null,null,null,null,null,null,null,null,null,null,null,null,null,null,null,null,null,null,null,null,110.0,92.5,97.7,99.8,95.0,111.2,98.0,102.2,99.8,99.9,98.1,103.1,100.1,100.1,99.0,106.5,98.5,98.0,98.0,100.2,100.2,102.8,103.1,100.9,103.1,104.1,101.0,103.2,103.4,103.1,104.4,106.3,105.3,103.2,105.3,103.2,105.3,103.3,107.6,103.4,105.5,103.5,105.5,105.5,105.5,106.2,106.2,101.9,105.7,103.5,105.5,103.5,103.5,106.2,105.5,108.6,103.4,110.0,105.9,103.6,103.5,110.0,102.8,102.9,110.0,103.1,110.0,108.6,108.2,107.6,109.4,104.4,112.9,110.3,110.0,102.9,109.8,104.3,104.3,106.6,100.2,101.7,104.7,104.8,106.5,105.8,102.5,104.7,104.7,105.5,105.2,107.2,105.7,105.2,105.6,103.9,103.8,105.6,105.3,103.4,102.4,104.2,104.0,104.3,101.5,102.2,104.0,102.2,103.7,103.6,105.1,104.9,108.1,104.0,106.1,105.0,112.0,103.5,112.1,108.3,109.4,110.0,114.4,110.9,111.7],\"type\":\"scatter\"},{\"line\":{\"color\":\"#F46C14\",\"shape\":\"spline\"},\"marker\":{\"size\":4},\"mode\":\"lines+markers\",\"name\":\"2F Path Height Estimation\",\"x\":[\"2019-10-01T12:03:48.600000\",\"2019-10-01T12:07:36.480000\",\"2019-10-01T12:11:24.360000\",\"2019-10-01T12:19:00.120000\",\"2019-10-01T12:28:07.032000\",\"2019-10-01T12:36:28.368000\",\"2019-10-01T12:44:04.128000\",\"2019-10-01T12:54:42.192000\",\"2019-10-01T13:08:22.560000\",\"2019-10-01T13:22:02.928000\",\"2019-10-01T13:36:28.872000\",\"2019-10-01T13:46:21.360000\",\"2019-10-01T13:54:42.696000\",\"2019-10-01T14:03:04.032000\",\"2019-10-01T14:08:23.064000\",\"2019-10-01T14:22:49.008000\",\"2019-10-01T14:34:12.648000\",\"2019-10-01T14:51:40.896000\",\"2019-10-01T15:00:02.232000\",\"2019-10-01T15:00:02.232000\",\"2019-10-01T15:00:02.232000\",\"2019-10-01T15:00:02.232000\",\"2019-10-01T15:00:02.232000\",\"2019-10-01T15:00:02.232000\"],\"y\":[277.99387007751807,272.7413511851249,261.6369167574454,246.78748188654635,227.01616059862846,203.27059747497086,174.7946039310212,140.38360707861187,106.97465580549732,72.7040035602744,33.05920908763929,null,null,null,null,null,null,null,null,null,null,null,null,null],\"type\":\"scatter\"},{\"line\":{\"color\":\"#0000ff\",\"shape\":\"spline\"},\"marker\":{\"size\":4},\"mode\":\"lines+markers\",\"name\":\"1F Path Height Estimation\",\"x\":[\"2019-10-01T09:59:59.712000\",\"2019-10-01T10:03:47.592000\",\"2019-10-01T10:06:49.896000\",\"2019-10-01T10:14:25.656000\",\"2019-10-01T10:19:44.688000\",\"2019-10-01T10:23:32.568000\",\"2019-10-01T10:26:34.872000\",\"2019-10-01T10:30:22.752000\",\"2019-10-01T10:37:58.512000\",\"2019-10-01T10:42:31.968000\",\"2019-10-01T10:45:34.272000\",\"2019-10-01T10:47:51\",\"2019-10-01T10:50:53.304000\",\"2019-10-01T10:56:12.336000\",\"2019-10-01T10:59:14.640000\",\"2019-10-01T11:01:31.368000\",\"2019-10-01T11:05:19.248000\",\"2019-10-01T11:07:35.976000\",\"2019-10-01T11:11:23.856000\",\"2019-10-01T11:15:57.312000\",\"2019-10-01T11:24:18.648000\",\"2019-10-01T11:30:23.256000\",\"2019-10-01T11:34:11.136000\",\"2019-10-01T11:38:44.592000\",\"2019-10-01T11:44:49.200000\",\"2019-10-01T11:50:08.232000\",\"2019-10-01T11:53:56.112000\",\"2019-10-01T12:00:46.296000\",\"2019-10-01T12:08:22.056000\",\"2019-10-01T12:13:41.088000\",\"2019-10-01T12:19:45.696000\",\"2019-10-01T12:25:04.728000\",\"2019-10-01T12:34:11.639999\",\"2019-10-01T12:41:47.400000\",\"2019-10-01T12:44:49.704000\",\"2019-10-01T13:00:46.800000\",\"2019-10-01T13:03:03.528000\",\"2019-10-01T13:06:05.832000\",\"2019-10-01T13:09:08.136000\",\"2019-10-01T13:12:56.016000\",\"2019-10-01T13:17:29.472000\",\"2019-10-01T13:39:31.176000\",\"2019-10-01T13:44:04.632000\",\"2019-10-01T13:53:11.544000\",\"2019-10-01T14:03:04.032000\",\"2019-10-01T14:10:39.792000\",\"2019-10-01T14:15:58.824000\",\"2019-10-01T14:21:17.856000\",\"2019-10-01T14:36:29.376000\",\"2019-10-01T14:42:33.984000\",\"2019-10-01T14:50:55.320000\",\"2019-10-01T15:00:02.232000\"],\"y\":[293.68284565033144,309.3037455983411,320.74737474982334,328.3829766761334,327.1970699965269,322.4723987924,317.09111770767225,314.0607686213951,318.25276496147006,330.0223012544606,349.3035562692774,368.3120007394774,385.0500543879584,389.6476529044173,390.14213592042404,387.57107711175985,383.43992862320806,377.70995727601024,374.02308555089525,372.95307158566703,376.0920688745034,379.21119928418995,387.4614887150855,398.6006048994752,406.5545259580205,414.3958503712834,424.0523373695657,428.33850549528285,424.0230315102385,414.3362545369813,396.4821739619263,376.4399528893414,346.7023708498413,315.99456742909126,283.92906933581924,260.72153544178724,238.63499464871265,213.71398422695918,189.62059923671035,163.3636562925912,134.9437129673402,105.83267450342552,70.25544605915769,null,null,null,null,null,null,null,null,null],\"type\":\"scatter\"},{\"line\":{\"color\":\"#0f0f0f\",\"shape\":\"spline\"},\"marker\":{\"size\":4},\"mode\":\"lines+markers\",\"name\":\"E Path Height Estimation\",\"x\":[\"2019-10-01T12:41:01.824000\",\"2019-10-01T13:29:38.688000\",\"2019-10-01T13:53:11.544000\",\"2019-10-01T14:03:04.032000\",\"2019-10-01T14:19:01.128000\",\"2019-10-01T14:34:12.648000\",\"2019-10-01T14:48:38.592000\",\"2019-10-01T14:53:12.048000\",\"2019-10-01T15:15:13.752000\",\"2019-10-01T15:30:25.272000\",\"2019-10-01T15:44:51.216000\",\"2019-10-01T15:57:00.432000\"],\"y\":[80.09728079248328,84.2549473579632,92.07428811024091,102.73757773366786,112.41434051438499,118.42289723716405,125.55194568769284,133.62952550889307,142.50259958915225,148.51896953807477,153.16251377192776,157.67586389627962],\"type\":\"scatter\"}],                        {\"template\":{\"data\":{\"histogram2dcontour\":[{\"type\":\"histogram2dcontour\",\"colorbar\":{\"outlinewidth\":0,\"ticks\":\"\"},\"colorscale\":[[0.0,\"#0d0887\"],[0.1111111111111111,\"#46039f\"],[0.2222222222222222,\"#7201a8\"],[0.3333333333333333,\"#9c179e\"],[0.4444444444444444,\"#bd3786\"],[0.5555555555555556,\"#d8576b\"],[0.6666666666666666,\"#ed7953\"],[0.7777777777777778,\"#fb9f3a\"],[0.8888888888888888,\"#fdca26\"],[1.0,\"#f0f921\"]]}],\"choropleth\":[{\"type\":\"choropleth\",\"colorbar\":{\"outlinewidth\":0,\"ticks\":\"\"}}],\"histogram2d\":[{\"type\":\"histogram2d\",\"colorbar\":{\"outlinewidth\":0,\"ticks\":\"\"},\"colorscale\":[[0.0,\"#0d0887\"],[0.1111111111111111,\"#46039f\"],[0.2222222222222222,\"#7201a8\"],[0.3333333333333333,\"#9c179e\"],[0.4444444444444444,\"#bd3786\"],[0.5555555555555556,\"#d8576b\"],[0.6666666666666666,\"#ed7953\"],[0.7777777777777778,\"#fb9f3a\"],[0.8888888888888888,\"#fdca26\"],[1.0,\"#f0f921\"]]}],\"heatmap\":[{\"type\":\"heatmap\",\"colorbar\":{\"outlinewidth\":0,\"ticks\":\"\"},\"colorscale\":[[0.0,\"#0d0887\"],[0.1111111111111111,\"#46039f\"],[0.2222222222222222,\"#7201a8\"],[0.3333333333333333,\"#9c179e\"],[0.4444444444444444,\"#bd3786\"],[0.5555555555555556,\"#d8576b\"],[0.6666666666666666,\"#ed7953\"],[0.7777777777777778,\"#fb9f3a\"],[0.8888888888888888,\"#fdca26\"],[1.0,\"#f0f921\"]]}],\"heatmapgl\":[{\"type\":\"heatmapgl\",\"colorbar\":{\"outlinewidth\":0,\"ticks\":\"\"},\"colorscale\":[[0.0,\"#0d0887\"],[0.1111111111111111,\"#46039f\"],[0.2222222222222222,\"#7201a8\"],[0.3333333333333333,\"#9c179e\"],[0.4444444444444444,\"#bd3786\"],[0.5555555555555556,\"#d8576b\"],[0.6666666666666666,\"#ed7953\"],[0.7777777777777778,\"#fb9f3a\"],[0.8888888888888888,\"#fdca26\"],[1.0,\"#f0f921\"]]}],\"contourcarpet\":[{\"type\":\"contourcarpet\",\"colorbar\":{\"outlinewidth\":0,\"ticks\":\"\"}}],\"contour\":[{\"type\":\"contour\",\"colorbar\":{\"outlinewidth\":0,\"ticks\":\"\"},\"colorscale\":[[0.0,\"#0d0887\"],[0.1111111111111111,\"#46039f\"],[0.2222222222222222,\"#7201a8\"],[0.3333333333333333,\"#9c179e\"],[0.4444444444444444,\"#bd3786\"],[0.5555555555555556,\"#d8576b\"],[0.6666666666666666,\"#ed7953\"],[0.7777777777777778,\"#fb9f3a\"],[0.8888888888888888,\"#fdca26\"],[1.0,\"#f0f921\"]]}],\"surface\":[{\"type\":\"surface\",\"colorbar\":{\"outlinewidth\":0,\"ticks\":\"\"},\"colorscale\":[[0.0,\"#0d0887\"],[0.1111111111111111,\"#46039f\"],[0.2222222222222222,\"#7201a8\"],[0.3333333333333333,\"#9c179e\"],[0.4444444444444444,\"#bd3786\"],[0.5555555555555556,\"#d8576b\"],[0.6666666666666666,\"#ed7953\"],[0.7777777777777778,\"#fb9f3a\"],[0.8888888888888888,\"#fdca26\"],[1.0,\"#f0f921\"]]}],\"mesh3d\":[{\"type\":\"mesh3d\",\"colorbar\":{\"outlinewidth\":0,\"ticks\":\"\"}}],\"scatter\":[{\"fillpattern\":{\"fillmode\":\"overlay\",\"size\":10,\"solidity\":0.2},\"type\":\"scatter\"}],\"parcoords\":[{\"type\":\"parcoords\",\"line\":{\"colorbar\":{\"outlinewidth\":0,\"ticks\":\"\"}}}],\"scatterpolargl\":[{\"type\":\"scatterpolargl\",\"marker\":{\"colorbar\":{\"outlinewidth\":0,\"ticks\":\"\"}}}],\"bar\":[{\"error_x\":{\"color\":\"#2a3f5f\"},\"error_y\":{\"color\":\"#2a3f5f\"},\"marker\":{\"line\":{\"color\":\"#E5ECF6\",\"width\":0.5},\"pattern\":{\"fillmode\":\"overlay\",\"size\":10,\"solidity\":0.2}},\"type\":\"bar\"}],\"scattergeo\":[{\"type\":\"scattergeo\",\"marker\":{\"colorbar\":{\"outlinewidth\":0,\"ticks\":\"\"}}}],\"scatterpolar\":[{\"type\":\"scatterpolar\",\"marker\":{\"colorbar\":{\"outlinewidth\":0,\"ticks\":\"\"}}}],\"histogram\":[{\"marker\":{\"pattern\":{\"fillmode\":\"overlay\",\"size\":10,\"solidity\":0.2}},\"type\":\"histogram\"}],\"scattergl\":[{\"type\":\"scattergl\",\"marker\":{\"colorbar\":{\"outlinewidth\":0,\"ticks\":\"\"}}}],\"scatter3d\":[{\"type\":\"scatter3d\",\"line\":{\"colorbar\":{\"outlinewidth\":0,\"ticks\":\"\"}},\"marker\":{\"colorbar\":{\"outlinewidth\":0,\"ticks\":\"\"}}}],\"scattermapbox\":[{\"type\":\"scattermapbox\",\"marker\":{\"colorbar\":{\"outlinewidth\":0,\"ticks\":\"\"}}}],\"scatterternary\":[{\"type\":\"scatterternary\",\"marker\":{\"colorbar\":{\"outlinewidth\":0,\"ticks\":\"\"}}}],\"scattercarpet\":[{\"type\":\"scattercarpet\",\"marker\":{\"colorbar\":{\"outlinewidth\":0,\"ticks\":\"\"}}}],\"carpet\":[{\"aaxis\":{\"endlinecolor\":\"#2a3f5f\",\"gridcolor\":\"white\",\"linecolor\":\"white\",\"minorgridcolor\":\"white\",\"startlinecolor\":\"#2a3f5f\"},\"baxis\":{\"endlinecolor\":\"#2a3f5f\",\"gridcolor\":\"white\",\"linecolor\":\"white\",\"minorgridcolor\":\"white\",\"startlinecolor\":\"#2a3f5f\"},\"type\":\"carpet\"}],\"table\":[{\"cells\":{\"fill\":{\"color\":\"#EBF0F8\"},\"line\":{\"color\":\"white\"}},\"header\":{\"fill\":{\"color\":\"#C8D4E3\"},\"line\":{\"color\":\"white\"}},\"type\":\"table\"}],\"barpolar\":[{\"marker\":{\"line\":{\"color\":\"#E5ECF6\",\"width\":0.5},\"pattern\":{\"fillmode\":\"overlay\",\"size\":10,\"solidity\":0.2}},\"type\":\"barpolar\"}],\"pie\":[{\"automargin\":true,\"type\":\"pie\"}]},\"layout\":{\"autotypenumbers\":\"strict\",\"colorway\":[\"#636efa\",\"#EF553B\",\"#00cc96\",\"#ab63fa\",\"#FFA15A\",\"#19d3f3\",\"#FF6692\",\"#B6E880\",\"#FF97FF\",\"#FECB52\"],\"font\":{\"color\":\"#2a3f5f\"},\"hovermode\":\"closest\",\"hoverlabel\":{\"align\":\"left\"},\"paper_bgcolor\":\"white\",\"plot_bgcolor\":\"#E5ECF6\",\"polar\":{\"bgcolor\":\"#E5ECF6\",\"angularaxis\":{\"gridcolor\":\"white\",\"linecolor\":\"white\",\"ticks\":\"\"},\"radialaxis\":{\"gridcolor\":\"white\",\"linecolor\":\"white\",\"ticks\":\"\"}},\"ternary\":{\"bgcolor\":\"#E5ECF6\",\"aaxis\":{\"gridcolor\":\"white\",\"linecolor\":\"white\",\"ticks\":\"\"},\"baxis\":{\"gridcolor\":\"white\",\"linecolor\":\"white\",\"ticks\":\"\"},\"caxis\":{\"gridcolor\":\"white\",\"linecolor\":\"white\",\"ticks\":\"\"}},\"coloraxis\":{\"colorbar\":{\"outlinewidth\":0,\"ticks\":\"\"}},\"colorscale\":{\"sequential\":[[0.0,\"#0d0887\"],[0.1111111111111111,\"#46039f\"],[0.2222222222222222,\"#7201a8\"],[0.3333333333333333,\"#9c179e\"],[0.4444444444444444,\"#bd3786\"],[0.5555555555555556,\"#d8576b\"],[0.6666666666666666,\"#ed7953\"],[0.7777777777777778,\"#fb9f3a\"],[0.8888888888888888,\"#fdca26\"],[1.0,\"#f0f921\"]],\"sequentialminus\":[[0.0,\"#0d0887\"],[0.1111111111111111,\"#46039f\"],[0.2222222222222222,\"#7201a8\"],[0.3333333333333333,\"#9c179e\"],[0.4444444444444444,\"#bd3786\"],[0.5555555555555556,\"#d8576b\"],[0.6666666666666666,\"#ed7953\"],[0.7777777777777778,\"#fb9f3a\"],[0.8888888888888888,\"#fdca26\"],[1.0,\"#f0f921\"]],\"diverging\":[[0,\"#8e0152\"],[0.1,\"#c51b7d\"],[0.2,\"#de77ae\"],[0.3,\"#f1b6da\"],[0.4,\"#fde0ef\"],[0.5,\"#f7f7f7\"],[0.6,\"#e6f5d0\"],[0.7,\"#b8e186\"],[0.8,\"#7fbc41\"],[0.9,\"#4d9221\"],[1,\"#276419\"]]},\"xaxis\":{\"gridcolor\":\"white\",\"linecolor\":\"white\",\"ticks\":\"\",\"title\":{\"standoff\":15},\"zerolinecolor\":\"white\",\"automargin\":true,\"zerolinewidth\":2},\"yaxis\":{\"gridcolor\":\"white\",\"linecolor\":\"white\",\"ticks\":\"\",\"title\":{\"standoff\":15},\"zerolinecolor\":\"white\",\"automargin\":true,\"zerolinewidth\":2},\"scene\":{\"xaxis\":{\"backgroundcolor\":\"#E5ECF6\",\"gridcolor\":\"white\",\"linecolor\":\"white\",\"showbackground\":true,\"ticks\":\"\",\"zerolinecolor\":\"white\",\"gridwidth\":2},\"yaxis\":{\"backgroundcolor\":\"#E5ECF6\",\"gridcolor\":\"white\",\"linecolor\":\"white\",\"showbackground\":true,\"ticks\":\"\",\"zerolinecolor\":\"white\",\"gridwidth\":2},\"zaxis\":{\"backgroundcolor\":\"#E5ECF6\",\"gridcolor\":\"white\",\"linecolor\":\"white\",\"showbackground\":true,\"ticks\":\"\",\"zerolinecolor\":\"white\",\"gridwidth\":2}},\"shapedefaults\":{\"line\":{\"color\":\"#2a3f5f\"}},\"annotationdefaults\":{\"arrowcolor\":\"#2a3f5f\",\"arrowhead\":0,\"arrowwidth\":1},\"geo\":{\"bgcolor\":\"white\",\"landcolor\":\"#E5ECF6\",\"subunitcolor\":\"white\",\"showland\":true,\"showlakes\":true,\"lakecolor\":\"white\"},\"title\":{\"x\":0.05},\"mapbox\":{\"style\":\"light\"}}},\"xaxis\":{\"anchor\":\"y\",\"domain\":[0.0,0.94],\"title\":{\"text\":\"Time (UTC)\"},\"showline\":true,\"linewidth\":1,\"linecolor\":\"black\",\"gridcolor\":\"darkgray\"},\"yaxis\":{\"anchor\":\"x\",\"domain\":[0.0,1.0],\"title\":{\"text\":\"Layer Height (km)\"},\"showline\":true,\"linewidth\":1,\"linecolor\":\"black\",\"gridcolor\":\"darkgray\"},\"yaxis2\":{\"anchor\":\"x\",\"overlaying\":\"y\",\"side\":\"right\",\"showline\":true,\"linewidth\":1,\"linecolor\":\"black\",\"gridcolor\":\"darkgray\"},\"font\":{\"size\":18},\"plot_bgcolor\":\"rgba(0, 0, 0, 0)\",\"paper_bgcolor\":\"rgba(0, 0, 0, 0)\",\"legend\":{\"orientation\":\"h\",\"yanchor\":\"bottom\",\"y\":1.02,\"xanchor\":\"right\",\"x\":1}},                        {\"responsive\": true}                    ).then(function(){\n",
       "                            \n",
       "var gd = document.getElementById('fd788357-b3d0-4778-ab53-8ec7b7643dcd');\n",
       "var x = new MutationObserver(function (mutations, observer) {{\n",
       "        var display = window.getComputedStyle(gd).display;\n",
       "        if (!display || display === 'none') {{\n",
       "            console.log([gd, 'removed!']);\n",
       "            Plotly.purge(gd);\n",
       "            observer.disconnect();\n",
       "        }}\n",
       "}});\n",
       "\n",
       "// Listen for the removal of the full notebook cells\n",
       "var notebookContainer = gd.closest('#notebook-container');\n",
       "if (notebookContainer) {{\n",
       "    x.observe(notebookContainer, {childList: true});\n",
       "}}\n",
       "\n",
       "// Listen for the clearing of the current output cell\n",
       "var outputEl = gd.closest('.output');\n",
       "if (outputEl) {{\n",
       "    x.observe(outputEl, {childList: true});\n",
       "}}\n",
       "\n",
       "                        })                };                });            </script>        </div>"
      ]
     },
     "metadata": {},
     "output_type": "display_data"
    }
   ],
   "source": [
    "# Create figure with secondary y-axis\n",
    "fig = make_subplots(specs=[[{\"secondary_y\": True}]])\n",
    "\n",
    "# Add traces\n",
    "import numpy as np\n",
    "\n",
    "N = 1\n",
    "X = 1350 # dist from WWV to WA5FRF\n",
    "h0_F2=278 #278\n",
    "h0_E = 88.4\n",
    "# calculate change in layer height:\n",
    "deltaheight_F1 = (deltaheight(N=1, X = 1350, h0 = h0_F2, pathlen = pathlen_1F) + h0_F2)#\n",
    "deltaheight_E = deltaheight(N=1, X = 1350, h0 = 88.4, pathlen = pathlen_E)+h0_E\n",
    "deltaheight_F2 = deltaheight(N=2, X = 1350, h0 = h0_F2, pathlen = pathlen_2F)+h0_F2\n",
    "\n",
    "\n",
    "fig.add_trace(\n",
    "    go.Scatter(x=hmF2['Time'], y=hmF2['BOULDER'], \n",
    "               mode = 'markers', \n",
    "               marker=dict(\n",
    "                    color='LightSkyBlue',\n",
    "                    size=4,\n",
    "                #     line=dict(\n",
    "                #         color='MediumPurple',\n",
    "                #         width=15\n",
    "                # )\n",
    "               ),\n",
    "               # line_shape='spline',\n",
    "               name=\"Boulder hmF2\"),\n",
    "    # secondary_y=True,\n",
    ")\n",
    "\n",
    "# fig.add_trace(\n",
    "#     go.Scatter(x=hmF2['Time'], y=hmF2['BOULDER'].rolling(10).mean(), \n",
    "#                # mode = 'markers', \n",
    "#                line_shape='spline',\n",
    "#                line_color = color_Boulder,\n",
    "#                name=\"Boulder hmF2 Rolling Mean\"),\n",
    "#     secondary_y=True,\n",
    "# )\n",
    "\n",
    " \n",
    "fig.add_trace(\n",
    "    go.Scatter(x=hmF1['Time'], y=hmF1['BOULDER'], \n",
    "               mode = 'markers', \n",
    "               marker=dict(\n",
    "                    color='LightGreen',\n",
    "                    size=4,\n",
    "                #     line=dict(\n",
    "                #         color='MediumPurple',\n",
    "                #         width=15\n",
    "                # )\n",
    "               ),\n",
    "               line_color = color_Boulder,\n",
    "               name=\"Boulder hmF1\"),\n",
    "    # secondary_y=True, \n",
    ")\n",
    "\n",
    "\n",
    "fig.add_trace(\n",
    "    go.Scatter(x=hmE['Time'], y=hmE['BOULDER'], \n",
    "               mode = 'markers', \n",
    "               marker=dict(\n",
    "                    color='LightCoral',\n",
    "                    size=4,\n",
    "                #     line=dict(\n",
    "                #         color='MediumPurple',\n",
    "                #         width=15\n",
    "                # )\n",
    "               ),\n",
    "               name=\"Boulder hmE\"),\n",
    "    # secondary_y=True, \n",
    ")\n",
    "\n",
    "\n",
    "fig.add_trace(\n",
    "    go.Scatter(x=F2['Date'], y=deltaheight_F2, \n",
    "               mode = 'lines+markers',\n",
    "               marker=dict(\n",
    "                    size=4,\n",
    "               ),\n",
    "               line_shape='spline', \n",
    "               line_color = color_2F,\n",
    "               name=\"2F Path Height Estimation\"),\n",
    "    # secondary_y=True\n",
    ")\n",
    "\n",
    "fig.add_trace(\n",
    "    go.Scatter(x=F1['Date'], y=deltaheight_F1, \n",
    "               mode = 'lines+markers',\n",
    "               marker=dict(\n",
    "                    size=4,\n",
    "               ),\n",
    "               line_shape='spline', \n",
    "               line_color = color_1F,\n",
    "               name=\"1F Path Height Estimation\"),\n",
    "    # secondary_y=True\n",
    ")\n",
    "\n",
    "\n",
    "\n",
    "fig.add_trace(\n",
    "    go.Scatter(x=E['Date'], y=deltaheight_E, \n",
    "               mode = 'lines+markers',\n",
    "               marker=dict(\n",
    "                    size=4,\n",
    "               ),\n",
    "               line_shape='spline', \n",
    "               line_color = color_E,\n",
    "               name=\"E Path Height Estimation\"),\n",
    "    # secondary_y=True\n",
    ")\n",
    "\n",
    "# Set x-axis title\n",
    "fig.update_xaxes(title_text=\"Time (UTC)\")\n",
    "\n",
    "# Set y-axes titles\n",
    "fig.update_yaxes(title_text=\"Layer Height (km)\", secondary_y=False)\n",
    "\n",
    "fontoptions(fig)\n",
    "\n",
    "\n",
    "fig.update_layout(legend=dict(\n",
    "    orientation=\"h\",\n",
    "    yanchor=\"bottom\",\n",
    "    y=1.02,\n",
    "    xanchor=\"right\",\n",
    "    x=1\n",
    "))\n",
    "\n",
    "fig.show()\n",
    "fig.write_html(\"plots/\"+ \"Ionosonde Comparison\" + \"_plot.html\", include_plotlyjs=\"cdn\")\n",
    "# fig.write_image(\"plots/9d.png\")\n",
    "\n",
    "\n"
   ]
  },
  {
   "cell_type": "markdown",
   "id": "bd485ceb-7386-4358-82bd-74b3402385d0",
   "metadata": {},
   "source": [
    "## Simulation Data"
   ]
  },
  {
   "cell_type": "code",
   "execution_count": 26,
   "id": "6c1cfc3e-d06a-4512-9e73-c91a40e952f5",
   "metadata": {},
   "outputs": [
    {
     "data": {
      "text/html": [
       "<div>\n",
       "<style scoped>\n",
       "    .dataframe tbody tr th:only-of-type {\n",
       "        vertical-align: middle;\n",
       "    }\n",
       "\n",
       "    .dataframe tbody tr th {\n",
       "        vertical-align: top;\n",
       "    }\n",
       "\n",
       "    .dataframe thead th {\n",
       "        text-align: right;\n",
       "    }\n",
       "</style>\n",
       "<table border=\"1\" class=\"dataframe\">\n",
       "  <thead>\n",
       "    <tr style=\"text-align: right;\">\n",
       "      <th></th>\n",
       "      <th>Time</th>\n",
       "      <th>lat</th>\n",
       "      <th>lon</th>\n",
       "      <th>ground_range</th>\n",
       "      <th>group_range</th>\n",
       "      <th>phase_path</th>\n",
       "      <th>geometric_path_length</th>\n",
       "      <th>initial_elev</th>\n",
       "      <th>final_elev</th>\n",
       "      <th>apogee</th>\n",
       "      <th>...</th>\n",
       "      <th>TEC_path</th>\n",
       "      <th>Doppler_shift</th>\n",
       "      <th>Doppler_spread</th>\n",
       "      <th>FAI_backscatter_loss</th>\n",
       "      <th>frequency</th>\n",
       "      <th>nhops_attempted</th>\n",
       "      <th>ray_label</th>\n",
       "      <th>NRT_elapsed_time</th>\n",
       "      <th>Layer</th>\n",
       "      <th>Eclipse</th>\n",
       "    </tr>\n",
       "  </thead>\n",
       "  <tbody>\n",
       "    <tr>\n",
       "      <th>0</th>\n",
       "      <td>2020-01-19T00:05</td>\n",
       "      <td>29.415642</td>\n",
       "      <td>261.160549</td>\n",
       "      <td>1370.667629</td>\n",
       "      <td>1395.455933</td>\n",
       "      <td>1392.100119</td>\n",
       "      <td>1393.763172</td>\n",
       "      <td>5.25</td>\n",
       "      <td>4.884787</td>\n",
       "      <td>94.553455</td>\n",
       "      <td>...</td>\n",
       "      <td>1.020000e+15</td>\n",
       "      <td>-0.006777</td>\n",
       "      <td>0.0</td>\n",
       "      <td>0.0</td>\n",
       "      <td>5.0</td>\n",
       "      <td>1.0</td>\n",
       "      <td>1.0</td>\n",
       "      <td>0.001</td>\n",
       "      <td>E</td>\n",
       "      <td>0.0</td>\n",
       "    </tr>\n",
       "    <tr>\n",
       "      <th>6</th>\n",
       "      <td>2020-01-19T00:05</td>\n",
       "      <td>29.448333</td>\n",
       "      <td>261.144976</td>\n",
       "      <td>1366.741614</td>\n",
       "      <td>1451.729553</td>\n",
       "      <td>1394.970452</td>\n",
       "      <td>1422.779972</td>\n",
       "      <td>14.75</td>\n",
       "      <td>14.079575</td>\n",
       "      <td>152.794936</td>\n",
       "      <td>...</td>\n",
       "      <td>1.690000e+16</td>\n",
       "      <td>-0.215257</td>\n",
       "      <td>0.0</td>\n",
       "      <td>0.0</td>\n",
       "      <td>5.0</td>\n",
       "      <td>1.0</td>\n",
       "      <td>1.0</td>\n",
       "      <td>0.002</td>\n",
       "      <td>F1</td>\n",
       "      <td>0.0</td>\n",
       "    </tr>\n",
       "    <tr>\n",
       "      <th>12</th>\n",
       "      <td>2020-01-19T00:10</td>\n",
       "      <td>29.512387</td>\n",
       "      <td>261.114429</td>\n",
       "      <td>1359.048341</td>\n",
       "      <td>1384.594471</td>\n",
       "      <td>1380.673410</td>\n",
       "      <td>1382.616828</td>\n",
       "      <td>5.50</td>\n",
       "      <td>5.126682</td>\n",
       "      <td>95.288752</td>\n",
       "      <td>...</td>\n",
       "      <td>1.200000e+15</td>\n",
       "      <td>-0.008936</td>\n",
       "      <td>0.0</td>\n",
       "      <td>0.0</td>\n",
       "      <td>5.0</td>\n",
       "      <td>1.0</td>\n",
       "      <td>1.0</td>\n",
       "      <td>0.008</td>\n",
       "      <td>E</td>\n",
       "      <td>0.0</td>\n",
       "    </tr>\n",
       "    <tr>\n",
       "      <th>18</th>\n",
       "      <td>2020-01-19T00:10</td>\n",
       "      <td>29.503476</td>\n",
       "      <td>261.118681</td>\n",
       "      <td>1360.118743</td>\n",
       "      <td>1442.657675</td>\n",
       "      <td>1392.419578</td>\n",
       "      <td>1417.067616</td>\n",
       "      <td>14.50</td>\n",
       "      <td>13.693784</td>\n",
       "      <td>156.049626</td>\n",
       "      <td>...</td>\n",
       "      <td>1.500000e+16</td>\n",
       "      <td>-0.193886</td>\n",
       "      <td>0.0</td>\n",
       "      <td>0.0</td>\n",
       "      <td>5.0</td>\n",
       "      <td>1.0</td>\n",
       "      <td>1.0</td>\n",
       "      <td>0.000</td>\n",
       "      <td>F1</td>\n",
       "      <td>0.0</td>\n",
       "    </tr>\n",
       "    <tr>\n",
       "      <th>24</th>\n",
       "      <td>2020-01-19T00:15</td>\n",
       "      <td>30.114761</td>\n",
       "      <td>260.825086</td>\n",
       "      <td>1286.654485</td>\n",
       "      <td>1321.364507</td>\n",
       "      <td>1308.863143</td>\n",
       "      <td>1315.043379</td>\n",
       "      <td>8.00</td>\n",
       "      <td>7.554920</td>\n",
       "      <td>100.316196</td>\n",
       "      <td>...</td>\n",
       "      <td>3.790000e+15</td>\n",
       "      <td>-0.042244</td>\n",
       "      <td>0.0</td>\n",
       "      <td>0.0</td>\n",
       "      <td>5.0</td>\n",
       "      <td>1.0</td>\n",
       "      <td>1.0</td>\n",
       "      <td>0.002</td>\n",
       "      <td>E</td>\n",
       "      <td>0.0</td>\n",
       "    </tr>\n",
       "    <tr>\n",
       "      <th>...</th>\n",
       "      <td>...</td>\n",
       "      <td>...</td>\n",
       "      <td>...</td>\n",
       "      <td>...</td>\n",
       "      <td>...</td>\n",
       "      <td>...</td>\n",
       "      <td>...</td>\n",
       "      <td>...</td>\n",
       "      <td>...</td>\n",
       "      <td>...</td>\n",
       "      <td>...</td>\n",
       "      <td>...</td>\n",
       "      <td>...</td>\n",
       "      <td>...</td>\n",
       "      <td>...</td>\n",
       "      <td>...</td>\n",
       "      <td>...</td>\n",
       "      <td>...</td>\n",
       "      <td>...</td>\n",
       "      <td>...</td>\n",
       "      <td>...</td>\n",
       "    </tr>\n",
       "    <tr>\n",
       "      <th>1776</th>\n",
       "      <td>2020-01-19T23:50</td>\n",
       "      <td>29.409377</td>\n",
       "      <td>261.163533</td>\n",
       "      <td>1371.420055</td>\n",
       "      <td>1471.155786</td>\n",
       "      <td>1385.691335</td>\n",
       "      <td>1427.287997</td>\n",
       "      <td>16.50</td>\n",
       "      <td>16.305073</td>\n",
       "      <td>143.460919</td>\n",
       "      <td>...</td>\n",
       "      <td>2.510000e+16</td>\n",
       "      <td>-0.278508</td>\n",
       "      <td>0.0</td>\n",
       "      <td>0.0</td>\n",
       "      <td>5.0</td>\n",
       "      <td>1.0</td>\n",
       "      <td>1.0</td>\n",
       "      <td>0.003</td>\n",
       "      <td>F2</td>\n",
       "      <td>0.0</td>\n",
       "    </tr>\n",
       "    <tr>\n",
       "      <th>1782</th>\n",
       "      <td>2020-01-19T23:55</td>\n",
       "      <td>29.319696</td>\n",
       "      <td>261.206195</td>\n",
       "      <td>1382.189014</td>\n",
       "      <td>1406.221554</td>\n",
       "      <td>1403.369115</td>\n",
       "      <td>1404.782949</td>\n",
       "      <td>5.00</td>\n",
       "      <td>4.647754</td>\n",
       "      <td>93.655310</td>\n",
       "      <td>...</td>\n",
       "      <td>8.758840e+14</td>\n",
       "      <td>-0.004845</td>\n",
       "      <td>0.0</td>\n",
       "      <td>0.0</td>\n",
       "      <td>5.0</td>\n",
       "      <td>1.0</td>\n",
       "      <td>1.0</td>\n",
       "      <td>0.002</td>\n",
       "      <td>E</td>\n",
       "      <td>0.0</td>\n",
       "    </tr>\n",
       "    <tr>\n",
       "      <th>1788</th>\n",
       "      <td>2020-01-19T23:55</td>\n",
       "      <td>29.452605</td>\n",
       "      <td>261.142940</td>\n",
       "      <td>1366.228629</td>\n",
       "      <td>1459.288673</td>\n",
       "      <td>1385.648405</td>\n",
       "      <td>1421.585882</td>\n",
       "      <td>15.75</td>\n",
       "      <td>15.406200</td>\n",
       "      <td>146.317369</td>\n",
       "      <td>...</td>\n",
       "      <td>2.180000e+16</td>\n",
       "      <td>-0.256503</td>\n",
       "      <td>0.0</td>\n",
       "      <td>0.0</td>\n",
       "      <td>5.0</td>\n",
       "      <td>1.0</td>\n",
       "      <td>1.0</td>\n",
       "      <td>0.003</td>\n",
       "      <td>F2</td>\n",
       "      <td>0.0</td>\n",
       "    </tr>\n",
       "    <tr>\n",
       "      <th>1794</th>\n",
       "      <td>2020-01-20T00:00</td>\n",
       "      <td>29.502353</td>\n",
       "      <td>261.119217</td>\n",
       "      <td>1360.253568</td>\n",
       "      <td>1384.705837</td>\n",
       "      <td>1381.615378</td>\n",
       "      <td>1383.146893</td>\n",
       "      <td>5.25</td>\n",
       "      <td>4.895689</td>\n",
       "      <td>94.115310</td>\n",
       "      <td>...</td>\n",
       "      <td>9.462470e+14</td>\n",
       "      <td>-0.005753</td>\n",
       "      <td>0.0</td>\n",
       "      <td>0.0</td>\n",
       "      <td>5.0</td>\n",
       "      <td>1.0</td>\n",
       "      <td>1.0</td>\n",
       "      <td>0.001</td>\n",
       "      <td>E</td>\n",
       "      <td>0.0</td>\n",
       "    </tr>\n",
       "    <tr>\n",
       "      <th>1800</th>\n",
       "      <td>2020-01-20T00:00</td>\n",
       "      <td>29.517394</td>\n",
       "      <td>261.112040</td>\n",
       "      <td>1358.446940</td>\n",
       "      <td>1446.858010</td>\n",
       "      <td>1382.720502</td>\n",
       "      <td>1414.086514</td>\n",
       "      <td>15.25</td>\n",
       "      <td>14.745662</td>\n",
       "      <td>149.732359</td>\n",
       "      <td>...</td>\n",
       "      <td>1.900000e+16</td>\n",
       "      <td>-0.234587</td>\n",
       "      <td>0.0</td>\n",
       "      <td>0.0</td>\n",
       "      <td>5.0</td>\n",
       "      <td>1.0</td>\n",
       "      <td>1.0</td>\n",
       "      <td>0.003</td>\n",
       "      <td>F1</td>\n",
       "      <td>0.0</td>\n",
       "    </tr>\n",
       "  </tbody>\n",
       "</table>\n",
       "<p>301 rows × 26 columns</p>\n",
       "</div>"
      ],
      "text/plain": [
       "                  Time        lat         lon  ground_range  group_range  \\\n",
       "0     2020-01-19T00:05  29.415642  261.160549   1370.667629  1395.455933   \n",
       "6     2020-01-19T00:05  29.448333  261.144976   1366.741614  1451.729553   \n",
       "12    2020-01-19T00:10  29.512387  261.114429   1359.048341  1384.594471   \n",
       "18    2020-01-19T00:10  29.503476  261.118681   1360.118743  1442.657675   \n",
       "24    2020-01-19T00:15  30.114761  260.825086   1286.654485  1321.364507   \n",
       "...                ...        ...         ...           ...          ...   \n",
       "1776  2020-01-19T23:50  29.409377  261.163533   1371.420055  1471.155786   \n",
       "1782  2020-01-19T23:55  29.319696  261.206195   1382.189014  1406.221554   \n",
       "1788  2020-01-19T23:55  29.452605  261.142940   1366.228629  1459.288673   \n",
       "1794  2020-01-20T00:00  29.502353  261.119217   1360.253568  1384.705837   \n",
       "1800  2020-01-20T00:00  29.517394  261.112040   1358.446940  1446.858010   \n",
       "\n",
       "       phase_path  geometric_path_length  initial_elev  final_elev  \\\n",
       "0     1392.100119            1393.763172          5.25    4.884787   \n",
       "6     1394.970452            1422.779972         14.75   14.079575   \n",
       "12    1380.673410            1382.616828          5.50    5.126682   \n",
       "18    1392.419578            1417.067616         14.50   13.693784   \n",
       "24    1308.863143            1315.043379          8.00    7.554920   \n",
       "...           ...                    ...           ...         ...   \n",
       "1776  1385.691335            1427.287997         16.50   16.305073   \n",
       "1782  1403.369115            1404.782949          5.00    4.647754   \n",
       "1788  1385.648405            1421.585882         15.75   15.406200   \n",
       "1794  1381.615378            1383.146893          5.25    4.895689   \n",
       "1800  1382.720502            1414.086514         15.25   14.745662   \n",
       "\n",
       "          apogee  ...      TEC_path  Doppler_shift  Doppler_spread  \\\n",
       "0      94.553455  ...  1.020000e+15      -0.006777             0.0   \n",
       "6     152.794936  ...  1.690000e+16      -0.215257             0.0   \n",
       "12     95.288752  ...  1.200000e+15      -0.008936             0.0   \n",
       "18    156.049626  ...  1.500000e+16      -0.193886             0.0   \n",
       "24    100.316196  ...  3.790000e+15      -0.042244             0.0   \n",
       "...          ...  ...           ...            ...             ...   \n",
       "1776  143.460919  ...  2.510000e+16      -0.278508             0.0   \n",
       "1782   93.655310  ...  8.758840e+14      -0.004845             0.0   \n",
       "1788  146.317369  ...  2.180000e+16      -0.256503             0.0   \n",
       "1794   94.115310  ...  9.462470e+14      -0.005753             0.0   \n",
       "1800  149.732359  ...  1.900000e+16      -0.234587             0.0   \n",
       "\n",
       "      FAI_backscatter_loss  frequency  nhops_attempted  ray_label  \\\n",
       "0                      0.0        5.0              1.0        1.0   \n",
       "6                      0.0        5.0              1.0        1.0   \n",
       "12                     0.0        5.0              1.0        1.0   \n",
       "18                     0.0        5.0              1.0        1.0   \n",
       "24                     0.0        5.0              1.0        1.0   \n",
       "...                    ...        ...              ...        ...   \n",
       "1776                   0.0        5.0              1.0        1.0   \n",
       "1782                   0.0        5.0              1.0        1.0   \n",
       "1788                   0.0        5.0              1.0        1.0   \n",
       "1794                   0.0        5.0              1.0        1.0   \n",
       "1800                   0.0        5.0              1.0        1.0   \n",
       "\n",
       "      NRT_elapsed_time  Layer  Eclipse  \n",
       "0                0.001      E      0.0  \n",
       "6                0.002     F1      0.0  \n",
       "12               0.008      E      0.0  \n",
       "18               0.000     F1      0.0  \n",
       "24               0.002      E      0.0  \n",
       "...                ...    ...      ...  \n",
       "1776             0.003     F2      0.0  \n",
       "1782             0.002      E      0.0  \n",
       "1788             0.003     F2      0.0  \n",
       "1794             0.001      E      0.0  \n",
       "1800             0.003     F1      0.0  \n",
       "\n",
       "[301 rows x 26 columns]"
      ]
     },
     "execution_count": 26,
     "metadata": {},
     "output_type": "execute_result"
    }
   ],
   "source": [
    "# Import data from raytrace simulation...\n",
    "sim = pd.read_csv('data/WA5FRF 20 January IRI Raytrace.csv')\n",
    "sim = sim.dropna()\n",
    "sim\n",
    "# df['Date']= datetime.datetime(2019, 10, 1, 0, 0, 0) + pd.to_timedelta(df['Time UTC'], 'hours')\n",
    "# df.drop(['Time UTC'], axis = 1)"
   ]
  }
 ],
 "metadata": {
  "kernelspec": {
   "display_name": "Python 3",
   "language": "python",
   "name": "python3"
  },
  "language_info": {
   "codemirror_mode": {
    "name": "ipython",
    "version": 3
   },
   "file_extension": ".py",
   "mimetype": "text/x-python",
   "name": "python",
   "nbconvert_exporter": "python",
   "pygments_lexer": "ipython3",
   "version": "3.6.9"
  }
 },
 "nbformat": 4,
 "nbformat_minor": 5
}
